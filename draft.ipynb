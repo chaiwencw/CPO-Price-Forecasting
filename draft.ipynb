{
  "cells": [
    {
      "cell_type": "markdown",
      "metadata": {
        "id": "view-in-github",
        "colab_type": "text"
      },
      "source": [
        "<a href=\"https://colab.research.google.com/github/chaiwencw/CPO-Price-Forecasting/blob/main/project_testing.ipynb\" target=\"_parent\"><img src=\"https://colab.research.google.com/assets/colab-badge.svg\" alt=\"Open In Colab\"/></a>"
      ]
    },
    {
      "cell_type": "code",
      "execution_count": 1,
      "metadata": {
        "id": "eIP5SkUHtSZ4",
        "colab": {
          "base_uri": "https://localhost:8080/",
          "height": 334
        },
        "outputId": "7d40bc40-8724-4188-a9b7-ea219566acde"
      },
      "outputs": [
        {
          "output_type": "error",
          "ename": "ModuleNotFoundError",
          "evalue": "ignored",
          "traceback": [
            "\u001b[0;31m---------------------------------------------------------------------------\u001b[0m",
            "\u001b[0;31mModuleNotFoundError\u001b[0m                       Traceback (most recent call last)",
            "\u001b[0;32m<ipython-input-1-c6f5928f91db>\u001b[0m in \u001b[0;36m<module>\u001b[0;34m()\u001b[0m\n\u001b[1;32m      7\u001b[0m \u001b[0;32mfrom\u001b[0m \u001b[0msklearn\u001b[0m\u001b[0;34m.\u001b[0m\u001b[0mmodel_selection\u001b[0m \u001b[0;32mimport\u001b[0m \u001b[0mtrain_test_split\u001b[0m\u001b[0;34m\u001b[0m\u001b[0;34m\u001b[0m\u001b[0m\n\u001b[1;32m      8\u001b[0m \u001b[0;32mfrom\u001b[0m \u001b[0msklearn\u001b[0m\u001b[0;34m.\u001b[0m\u001b[0msvm\u001b[0m \u001b[0;32mimport\u001b[0m \u001b[0mSVR\u001b[0m\u001b[0;34m\u001b[0m\u001b[0;34m\u001b[0m\u001b[0m\n\u001b[0;32m----> 9\u001b[0;31m \u001b[0;32mfrom\u001b[0m \u001b[0mSA_parameter_optimization\u001b[0m \u001b[0;32mimport\u001b[0m \u001b[0;34m*\u001b[0m\u001b[0;34m\u001b[0m\u001b[0;34m\u001b[0m\u001b[0m\n\u001b[0m",
            "\u001b[0;31mModuleNotFoundError\u001b[0m: No module named 'SA_parameter_optimization'",
            "",
            "\u001b[0;31m---------------------------------------------------------------------------\u001b[0;32m\nNOTE: If your import is failing due to a missing package, you can\nmanually install dependencies using either !pip or !apt.\n\nTo view examples of installing some common dependencies, click the\n\"Open Examples\" button below.\n\u001b[0;31m---------------------------------------------------------------------------\u001b[0m\n"
          ],
          "errorDetails": {
            "actions": [
              {
                "action": "open_url",
                "actionText": "Open Examples",
                "url": "/notebooks/snippets/importing_libraries.ipynb"
              }
            ]
          }
        }
      ],
      "source": [
        "import pandas as pd             #to deal with table\n",
        "import numpy as np              #to deal with numbers\n",
        "import datetime as dt           #to deal with datetime data\n",
        "from collections import OrderedDict\n",
        "from sklearn.preprocessing import PowerTransformer\n",
        "#from sklearn.preprocessing import Normalizer\n",
        "from sklearn.model_selection import train_test_split\n",
        "from sklearn.svm import SVR\n",
        "from SA_parameter_optimization import *"
      ]
    },
    {
      "cell_type": "code",
      "execution_count": null,
      "metadata": {
        "id": "vRKYbhVVtSZ9"
      },
      "outputs": [],
      "source": [
        "url = \"https://raw.githubusercontent.com/jc-usm/FYP-USM_2021-2022/main/historical_FCPO.csv\"\n",
        "fcpo = pd.read_csv(url, na_values='-')\n",
        "fcpo['Date'] = pd.to_datetime(fcpo['Date'], format = '%d/%m/%Y')\n",
        "fcpo.info()"
      ]
    },
    {
      "cell_type": "code",
      "execution_count": null,
      "metadata": {
        "id": "5TAD-01AtSZ_"
      },
      "outputs": [],
      "source": [
        "fcpo['Volume (K)'] = fcpo['Volume (K)'].apply(lambda x: x*1000)\n",
        "fcpo = fcpo.rename(columns = {'Volume (K)': 'Volume'})\n",
        "median_volume = fcpo['Volume'].agg(np.median)\n",
        "fcpo['Volume'] = fcpo['Volume'].fillna(median_volume)\n",
        "fcpo.info()"
      ]
    },
    {
      "cell_type": "code",
      "execution_count": null,
      "metadata": {
        "id": "Df6Q32GetSZ_"
      },
      "outputs": [],
      "source": [
        "newdate = fcpo[\"Date\"]\n",
        "\n",
        "exact_traiding_date = pd.DataFrame({\"year\": newdate.dt.year,\n",
        "              \"month\": newdate.dt.month,\n",
        "              \"day\": newdate.dt.day,\n",
        "              \"hour\": newdate.dt.hour,\n",
        "              \"dayofyear\": newdate.dt.dayofyear,\n",
        "              \"weekofyear\": newdate.dt.isocalendar().week,\n",
        "              \"dayofweek\": newdate.dt.dayofweek,\n",
        "              \"weekday\": newdate.dt.weekday,\n",
        "              \"quarter\": newdate.dt.quarter,\n",
        "             })\n"
      ]
    },
    {
      "cell_type": "code",
      "execution_count": null,
      "metadata": {
        "id": "YEnj0FL8tSaA"
      },
      "outputs": [],
      "source": [
        "fcpo_no = fcpo.drop(columns = ['Date'])\n",
        "new_fcpo = pd.concat([exact_traiding_date, fcpo_no], axis = 1)\n",
        "col_names = new_fcpo.columns\n",
        "#new_fcpo_normalised = scaler.PowerTransformer().fit_transform(new_fcpo)\n",
        "#new_fcpo_normalised = Normalizer().fit_transform(new_fcpo)\n",
        "#scaled_fcpo = pd.DataFrame(new_fcpo_normalised, columns = col_names)"
      ]
    },
    {
      "cell_type": "code",
      "execution_count": null,
      "metadata": {
        "id": "6RmK_FMNtSaD"
      },
      "outputs": [],
      "source": [
        "#data = scaled_fcpo.drop(\"Close\",axis=1)\n",
        "#target = scaled_fcpo['Close']\n",
        "#x_train, x_test, y_train, y_test = train_test_split(data, target, test_size = 0.3, shuffle = False)"
      ]
    },
    {
      "cell_type": "code",
      "execution_count": null,
      "metadata": {
        "id": "k2adqz75tSaE"
      },
      "outputs": [],
      "source": [
        "data = new_fcpo.drop(columns = ['Close'])\n",
        "target = np.array(new_fcpo['Close'])\n",
        "target = target.reshape(len(target), 1)\n",
        "x_train, x_test, y_train, y_test = train_test_split(data, target, test_size = 0.3, shuffle = False)\n",
        "scalerX = PowerTransformer().fit(x_train)\n",
        "scalerY = PowerTransformer().fit(y_train)\n",
        "x_train = scalerX.transform(x_train)\n",
        "y_train = scalerY.transform(y_train)\n",
        "x_test = scalerX.transform(x_test)\n",
        "y_test = scalerY.transform(y_test)\n",
        "y_train = np.ravel(y_train) \n",
        "y_test = np.ravel(y_test)"
      ]
    },
    {
      "cell_type": "code",
      "execution_count": null,
      "metadata": {
        "id": "OeiXg9fctSaF"
      },
      "outputs": [],
      "source": [
        "# Parameters that are kept constant during the tuning process\n",
        "const_param = dict()\n",
        "const_param['kernel'] = 'rbf'"
      ]
    },
    {
      "cell_type": "code",
      "execution_count": null,
      "metadata": {
        "id": "p9f29aGXtSaG"
      },
      "outputs": [],
      "source": [
        "# Parameter search space\n",
        "param_dict = OrderedDict()\n",
        "#size = 1000\n",
        "#param_dict['degree'] = list(np.arange(1, 100)) #int type\n",
        "#param_dict['gamma'] = [x for x in np.linspace(0, 100, num = size) if x > 0] #float - small\n",
        "#param_dict['C'] = [x for x in np.linspace(0, 100, num = size) if x > 0] #float\n",
        "#param_dict['kernel'] = ['rbf', 'sigmoid', 'linear']\n",
        "param_dict['gamma'] = tuple(10**-x  for x in range(2, 21)) #max. python can accept is 32, where only these are larger than 0\n",
        "param_dict['C'] = tuple(np.arange(10.0**4, 10.0**6 + 1)) # the larger the better\n",
        "param_dict['epsilon'] = tuple(10**-x  for x in range(2, 21)) #float - small; smallest can get is 1E-32"
      ]
    },
    {
      "cell_type": "code",
      "execution_count": null,
      "metadata": {
        "id": "qQcr_t3ytSaI"
      },
      "outputs": [],
      "source": [
        "SA_parameters = {\n",
        "    \"param_dict\": param_dict,\n",
        "    \"constant_params\": const_param, \n",
        "    \"X_train\": x_train,\n",
        "    \"Y_train\": y_train, \n",
        "    \"X_valid\": x_test,\n",
        "    \"Y_valid\": y_test, \n",
        "    \"ML_model\": SVR,\n",
        "    \"no_iters\": 250,\n",
        "    \"alpha\": 0.95,\n",
        "    \"beta\": 1, \n",
        "    \"initial_temperature\": 100,\n",
        "    \"min_temperature\": 30,\n",
        "    \"result\": True,\n",
        "    \"best_parameter\": True,\n",
        "    \"total_iterations\": True\n",
        "}"
      ]
    },
    {
      "cell_type": "code",
      "execution_count": null,
      "metadata": {
        "id": "r9uZ4jsetSaJ"
      },
      "outputs": [],
      "source": [
        "best_model, result, best_parameter, total_iter = simulate_annealing(**SA_parameters)"
      ]
    },
    {
      "cell_type": "code",
      "execution_count": null,
      "metadata": {
        "id": "lqhocGxstSaJ"
      },
      "outputs": [],
      "source": [
        "best_parameter"
      ]
    },
    {
      "cell_type": "code",
      "execution_count": null,
      "metadata": {
        "id": "Wkr2OLby-uYO"
      },
      "outputs": [],
      "source": [
        "result"
      ]
    },
    {
      "cell_type": "code",
      "execution_count": null,
      "metadata": {
        "id": "nw_JbYoptSaP"
      },
      "outputs": [],
      "source": [
        "preds = best_model.predict(x_test)\n",
        "RegressionMetric(y_test, preds)"
      ]
    },
    {
      "cell_type": "code",
      "execution_count": null,
      "metadata": {
        "id": "UmGCZ7jutSaQ"
      },
      "outputs": [],
      "source": [
        "t_model, predict = model_training(x_train, y_train, x_test, y_test, model_to_train = SVR, prediction = True)\n",
        "RegressionMetric(y_test, predict)"
      ]
    },
    {
      "cell_type": "code",
      "execution_count": null,
      "metadata": {
        "id": "NPnDhtPBtSaQ"
      },
      "outputs": [],
      "source": [
        "ytest = y_test.reshape(len(y_test), 1)\n",
        "ytest = scalerY.inverse_transform(ytest)\n",
        "ytest_df = pd.DataFrame(data = ytest, columns = ['Close'])\n",
        "new_preds = preds.reshape(len(preds), 1)\n",
        "ori_preds = scalerY.inverse_transform(new_preds)\n",
        "preds_df = pd.DataFrame(data = ori_preds, columns = ['Prediction'])\n",
        "df = pd.concat([ytest_df, preds_df], axis = 1)\n",
        "df"
      ]
    },
    {
      "cell_type": "code",
      "execution_count": null,
      "metadata": {
        "id": "XqfY9eLdaOVD"
      },
      "outputs": [],
      "source": [
        "result.to_csv(\"result.csv\", index = False)"
      ]
    },
    {
      "cell_type": "code",
      "execution_count": null,
      "metadata": {
        "id": "eE54w0xTtSaR"
      },
      "outputs": [],
      "source": [
        "#ori_fcpo = PowerTransformer().fit(new_fcpo).inverse_transform(scaled_fcpo)\n",
        "#ori_fcpo = pd.DataFrame(ori_fcpo, columns=col_names)\n",
        "#ori_fcpo"
      ]
    }
  ],
  "metadata": {
    "accelerator": "TPU",
    "colab": {
      "name": "project-testing.ipynb",
      "provenance": [],
      "include_colab_link": true
    },
    "interpreter": {
      "hash": "8f2aafffe541dce4fbde971e590718b403cdb167c5dc463f7f3d3005ad40d44b"
    },
    "kernelspec": {
      "display_name": "Python 3.10.4 64-bit",
      "language": "python",
      "name": "python3"
    },
    "language_info": {
      "codemirror_mode": {
        "name": "ipython",
        "version": 3
      },
      "file_extension": ".py",
      "mimetype": "text/x-python",
      "name": "python",
      "nbconvert_exporter": "python",
      "pygments_lexer": "ipython3",
      "version": "3.10.4"
    },
    "orig_nbformat": 4
  },
  "nbformat": 4,
  "nbformat_minor": 0
}
