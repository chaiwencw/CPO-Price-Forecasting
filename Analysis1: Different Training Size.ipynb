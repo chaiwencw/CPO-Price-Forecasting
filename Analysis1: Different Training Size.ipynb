{
  "cells": [
    {
      "cell_type": "markdown",
      "metadata": {
        "id": "view-in-github",
        "colab_type": "text"
      },
      "source": [
        "<a href=\"https://colab.research.google.com/github/chaiwencw/CPO-Price-Forecasting-Using-Simulated-Annealing-based-Support-Vector-Regression/blob/main/Analysis1%3A%20Different%20Training%20Size.ipynb\" target=\"_parent\"><img src=\"https://colab.research.google.com/assets/colab-badge.svg\" alt=\"Open In Colab\"/></a>"
      ]
    },
    {
      "cell_type": "markdown",
      "metadata": {
        "id": "cM8LCHw7ryYz"
      },
      "source": [
        "# Section 0: Import Packages"
      ]
    },
    {
      "cell_type": "code",
      "execution_count": null,
      "metadata": {
        "id": "cNOhGm_30QOP"
      },
      "outputs": [],
      "source": [
        "# uncomment the code below to install the plotly package if it is not detected in the current environment\n",
        "# pip install plotly "
      ]
    },
    {
      "cell_type": "code",
      "execution_count": null,
      "metadata": {
        "colab": {
          "base_uri": "https://localhost:8080/"
        },
        "id": "u7f8Po4CryY4",
        "outputId": "44642c44-34ad-4ccd-bbdd-fdfe52fa39db"
      },
      "outputs": [
        {
          "output_type": "stream",
          "name": "stderr",
          "text": [
            "/usr/local/lib/python3.7/dist-packages/statsmodels/tools/_testing.py:19: FutureWarning: pandas.util.testing is deprecated. Use the functions in the public API at pandas.testing instead.\n",
            "  import pandas.util.testing as tm\n"
          ]
        }
      ],
      "source": [
        "import pandas as pd                                   # to deal with pandas dataframe\n",
        "import numpy as np                                    # to deal with numbers\n",
        "import datetime as dt                                 # to deal with datetime data\n",
        "import time                                           # to record execution time\n",
        "from math import ceil                                 # ceiling function for calculation\n",
        "import plotly.graph_objects as go                     # to plot graphs\n",
        "from matplotlib import pyplot as plt                  # to plot graphs\n",
        "from statsmodels.graphics import tsaplots             # to plot graphs\n",
        "from sklearn.preprocessing import PowerTransformer    # to make data more Gaussian-like\n",
        "from sklearn.model_selection import train_test_split  # to split data arrays into two subsets\n",
        "#from SA_parameter_optimization import *               # import all (methods, variables...) from SA_parameter_optimization"
      ]
    },
    {
      "cell_type": "markdown",
      "metadata": {
        "id": "bQLgrnucryY7"
      },
      "source": [
        "# Section 1: Data Pre-processing\n",
        "This section shows importing necessary packages, and data importation and cleaning."
      ]
    },
    {
      "cell_type": "markdown",
      "metadata": {
        "id": "FAgm5fPqryY7"
      },
      "source": [
        "## Section 1.1: Import Data\n"
      ]
    },
    {
      "cell_type": "code",
      "execution_count": null,
      "metadata": {
        "colab": {
          "base_uri": "https://localhost:8080/",
          "height": 204
        },
        "id": "HXAxLPN4ryY8",
        "outputId": "2dd3c3ee-ed0b-48a6-e4f4-4e40e665bcfc"
      },
      "outputs": [
        {
          "output_type": "execute_result",
          "data": {
            "text/plain": [
              "        Date  Open  Close  High   Low  Volume  Percentage Change\n",
              "0 2018-01-02  2466   2472  2481  2466   100.0             0.0115\n",
              "1 2018-01-03  2476   2555  2555  2476   500.0             0.0336\n",
              "2 2018-01-04  2538   2542  2551  2533   470.0            -0.0051\n",
              "3 2018-01-05  2554   2570  2561  2527   250.0             0.0110\n",
              "4 2018-01-08  2541   2590  2572  2530   160.0             0.0078"
            ],
            "text/html": [
              "\n",
              "  <div id=\"df-a05927f4-50d8-4101-8844-16291b9b48f6\">\n",
              "    <div class=\"colab-df-container\">\n",
              "      <div>\n",
              "<style scoped>\n",
              "    .dataframe tbody tr th:only-of-type {\n",
              "        vertical-align: middle;\n",
              "    }\n",
              "\n",
              "    .dataframe tbody tr th {\n",
              "        vertical-align: top;\n",
              "    }\n",
              "\n",
              "    .dataframe thead th {\n",
              "        text-align: right;\n",
              "    }\n",
              "</style>\n",
              "<table border=\"1\" class=\"dataframe\">\n",
              "  <thead>\n",
              "    <tr style=\"text-align: right;\">\n",
              "      <th></th>\n",
              "      <th>Date</th>\n",
              "      <th>Open</th>\n",
              "      <th>Close</th>\n",
              "      <th>High</th>\n",
              "      <th>Low</th>\n",
              "      <th>Volume</th>\n",
              "      <th>Percentage Change</th>\n",
              "    </tr>\n",
              "  </thead>\n",
              "  <tbody>\n",
              "    <tr>\n",
              "      <th>0</th>\n",
              "      <td>2018-01-02</td>\n",
              "      <td>2466</td>\n",
              "      <td>2472</td>\n",
              "      <td>2481</td>\n",
              "      <td>2466</td>\n",
              "      <td>100.0</td>\n",
              "      <td>0.0115</td>\n",
              "    </tr>\n",
              "    <tr>\n",
              "      <th>1</th>\n",
              "      <td>2018-01-03</td>\n",
              "      <td>2476</td>\n",
              "      <td>2555</td>\n",
              "      <td>2555</td>\n",
              "      <td>2476</td>\n",
              "      <td>500.0</td>\n",
              "      <td>0.0336</td>\n",
              "    </tr>\n",
              "    <tr>\n",
              "      <th>2</th>\n",
              "      <td>2018-01-04</td>\n",
              "      <td>2538</td>\n",
              "      <td>2542</td>\n",
              "      <td>2551</td>\n",
              "      <td>2533</td>\n",
              "      <td>470.0</td>\n",
              "      <td>-0.0051</td>\n",
              "    </tr>\n",
              "    <tr>\n",
              "      <th>3</th>\n",
              "      <td>2018-01-05</td>\n",
              "      <td>2554</td>\n",
              "      <td>2570</td>\n",
              "      <td>2561</td>\n",
              "      <td>2527</td>\n",
              "      <td>250.0</td>\n",
              "      <td>0.0110</td>\n",
              "    </tr>\n",
              "    <tr>\n",
              "      <th>4</th>\n",
              "      <td>2018-01-08</td>\n",
              "      <td>2541</td>\n",
              "      <td>2590</td>\n",
              "      <td>2572</td>\n",
              "      <td>2530</td>\n",
              "      <td>160.0</td>\n",
              "      <td>0.0078</td>\n",
              "    </tr>\n",
              "  </tbody>\n",
              "</table>\n",
              "</div>\n",
              "      <button class=\"colab-df-convert\" onclick=\"convertToInteractive('df-a05927f4-50d8-4101-8844-16291b9b48f6')\"\n",
              "              title=\"Convert this dataframe to an interactive table.\"\n",
              "              style=\"display:none;\">\n",
              "        \n",
              "  <svg xmlns=\"http://www.w3.org/2000/svg\" height=\"24px\"viewBox=\"0 0 24 24\"\n",
              "       width=\"24px\">\n",
              "    <path d=\"M0 0h24v24H0V0z\" fill=\"none\"/>\n",
              "    <path d=\"M18.56 5.44l.94 2.06.94-2.06 2.06-.94-2.06-.94-.94-2.06-.94 2.06-2.06.94zm-11 1L8.5 8.5l.94-2.06 2.06-.94-2.06-.94L8.5 2.5l-.94 2.06-2.06.94zm10 10l.94 2.06.94-2.06 2.06-.94-2.06-.94-.94-2.06-.94 2.06-2.06.94z\"/><path d=\"M17.41 7.96l-1.37-1.37c-.4-.4-.92-.59-1.43-.59-.52 0-1.04.2-1.43.59L10.3 9.45l-7.72 7.72c-.78.78-.78 2.05 0 2.83L4 21.41c.39.39.9.59 1.41.59.51 0 1.02-.2 1.41-.59l7.78-7.78 2.81-2.81c.8-.78.8-2.07 0-2.86zM5.41 20L4 18.59l7.72-7.72 1.47 1.35L5.41 20z\"/>\n",
              "  </svg>\n",
              "      </button>\n",
              "      \n",
              "  <style>\n",
              "    .colab-df-container {\n",
              "      display:flex;\n",
              "      flex-wrap:wrap;\n",
              "      gap: 12px;\n",
              "    }\n",
              "\n",
              "    .colab-df-convert {\n",
              "      background-color: #E8F0FE;\n",
              "      border: none;\n",
              "      border-radius: 50%;\n",
              "      cursor: pointer;\n",
              "      display: none;\n",
              "      fill: #1967D2;\n",
              "      height: 32px;\n",
              "      padding: 0 0 0 0;\n",
              "      width: 32px;\n",
              "    }\n",
              "\n",
              "    .colab-df-convert:hover {\n",
              "      background-color: #E2EBFA;\n",
              "      box-shadow: 0px 1px 2px rgba(60, 64, 67, 0.3), 0px 1px 3px 1px rgba(60, 64, 67, 0.15);\n",
              "      fill: #174EA6;\n",
              "    }\n",
              "\n",
              "    [theme=dark] .colab-df-convert {\n",
              "      background-color: #3B4455;\n",
              "      fill: #D2E3FC;\n",
              "    }\n",
              "\n",
              "    [theme=dark] .colab-df-convert:hover {\n",
              "      background-color: #434B5C;\n",
              "      box-shadow: 0px 1px 3px 1px rgba(0, 0, 0, 0.15);\n",
              "      filter: drop-shadow(0px 1px 2px rgba(0, 0, 0, 0.3));\n",
              "      fill: #FFFFFF;\n",
              "    }\n",
              "  </style>\n",
              "\n",
              "      <script>\n",
              "        const buttonEl =\n",
              "          document.querySelector('#df-a05927f4-50d8-4101-8844-16291b9b48f6 button.colab-df-convert');\n",
              "        buttonEl.style.display =\n",
              "          google.colab.kernel.accessAllowed ? 'block' : 'none';\n",
              "\n",
              "        async function convertToInteractive(key) {\n",
              "          const element = document.querySelector('#df-a05927f4-50d8-4101-8844-16291b9b48f6');\n",
              "          const dataTable =\n",
              "            await google.colab.kernel.invokeFunction('convertToInteractive',\n",
              "                                                     [key], {});\n",
              "          if (!dataTable) return;\n",
              "\n",
              "          const docLinkHtml = 'Like what you see? Visit the ' +\n",
              "            '<a target=\"_blank\" href=https://colab.research.google.com/notebooks/data_table.ipynb>data table notebook</a>'\n",
              "            + ' to learn more about interactive tables.';\n",
              "          element.innerHTML = '';\n",
              "          dataTable['output_type'] = 'display_data';\n",
              "          await google.colab.output.renderOutput(dataTable, element);\n",
              "          const docLink = document.createElement('div');\n",
              "          docLink.innerHTML = docLinkHtml;\n",
              "          element.appendChild(docLink);\n",
              "        }\n",
              "      </script>\n",
              "    </div>\n",
              "  </div>\n",
              "  "
            ]
          },
          "metadata": {},
          "execution_count": 3
        }
      ],
      "source": [
        "data = pd.read_csv('https://raw.githubusercontent.com/jc-usm/FYP-USM_2021-2022/main/FYP_Data.csv', na_values='-')               # read FCPO dataset\n",
        "data['Date'] = pd.to_datetime(data['Date'], format=\"%d/%m/%Y\")  # convert Date column to datatime format\n",
        "data.head()                                                     # show the first 5 rows of the data for review"
      ]
    },
    {
      "cell_type": "markdown",
      "metadata": {
        "id": "U_csH2ycrPf5"
      },
      "source": [
        "* Open: Price when the market begin\n",
        "* Close: Price when the market closed\n",
        "* High: Highest price reached during that day\n",
        "* Low: Lowest price traded on that day\n",
        "* Volume: Total amount traded on that day\n",
        "* Percentage Change: "
      ]
    },
    {
      "cell_type": "markdown",
      "metadata": {
        "id": "zN7YLLQyryY8"
      },
      "source": [
        "## Section 1.2: Data Cleaning"
      ]
    },
    {
      "cell_type": "code",
      "execution_count": null,
      "metadata": {
        "id": "2lcnOTxEryY9",
        "colab": {
          "base_uri": "https://localhost:8080/"
        },
        "outputId": "39f21f5f-79f2-4400-f5ac-aff49b2ecc50"
      },
      "outputs": [
        {
          "output_type": "stream",
          "name": "stdout",
          "text": [
            "<class 'pandas.core.frame.DataFrame'>\n",
            "RangeIndex: 1099 entries, 0 to 1098\n",
            "Data columns (total 7 columns):\n",
            " #   Column             Non-Null Count  Dtype         \n",
            "---  ------             --------------  -----         \n",
            " 0   Date               1099 non-null   datetime64[ns]\n",
            " 1   Open               1099 non-null   int64         \n",
            " 2   Close              1099 non-null   int64         \n",
            " 3   High               1099 non-null   int64         \n",
            " 4   Low                1099 non-null   int64         \n",
            " 5   Volume             1038 non-null   float64       \n",
            " 6   Percentage Change  1099 non-null   float64       \n",
            "dtypes: datetime64[ns](1), float64(2), int64(4)\n",
            "memory usage: 60.2 KB\n",
            "\n",
            "\n",
            "                    No. of Null\n",
            "Date                         0\n",
            "Open                         0\n",
            "Close                        0\n",
            "High                         0\n",
            "Low                          0\n",
            "Volume                      61\n",
            "Percentage Change            0\n",
            "\n",
            "\n",
            "The total no. of null is  61\n"
          ]
        }
      ],
      "source": [
        "data.info()                                                     # print information summary of the dataset \n",
        "null = data.isnull().sum()                                      # find the total no. of missing values in each column\n",
        "df_null = pd.DataFrame(data = null, columns = ['No. of Null'])  # create a dataframe to show the number of null\n",
        "print('\\n\\n', df_null)                                          # number of null in each column is shown\n",
        "print(f'\\n\\nThe total no. of null is  {sum(null)}')             # the total number of null is shown"
      ]
    },
    {
      "cell_type": "code",
      "execution_count": null,
      "metadata": {
        "colab": {
          "base_uri": "https://localhost:8080/"
        },
        "id": "cc6XLFvbryY9",
        "outputId": "8ef4b07b-39e4-4854-aecb-154c5ad23ef3"
      },
      "outputs": [
        {
          "output_type": "stream",
          "name": "stdout",
          "text": [
            "<class 'pandas.core.frame.DataFrame'>\n",
            "Int64Index: 1038 entries, 0 to 1098\n",
            "Data columns (total 7 columns):\n",
            " #   Column             Non-Null Count  Dtype         \n",
            "---  ------             --------------  -----         \n",
            " 0   Date               1038 non-null   datetime64[ns]\n",
            " 1   Open               1038 non-null   int64         \n",
            " 2   Close              1038 non-null   int64         \n",
            " 3   High               1038 non-null   int64         \n",
            " 4   Low                1038 non-null   int64         \n",
            " 5   Volume             1038 non-null   float64       \n",
            " 6   Percentage Change  1038 non-null   float64       \n",
            "dtypes: datetime64[ns](1), float64(2), int64(4)\n",
            "memory usage: 64.9 KB\n"
          ]
        }
      ],
      "source": [
        "data_cleaned = data.dropna()  # drop all missing values \n",
        "data_cleaned.info()           # check the dataset information"
      ]
    },
    {
      "cell_type": "code",
      "execution_count": null,
      "metadata": {
        "id": "YyJ6MNPFQFUr"
      },
      "outputs": [],
      "source": [
        "# create lag features: previous day open, high, low, close prices & volume & percentage change \n",
        "new_data = data_cleaned.copy()\n",
        "for col in new_data.drop({'Open','Date', 'Close'}, axis=1).columns:\n",
        "  new_data[f'Prev_{col}'] = new_data[col].shift(periods=1)\n",
        "  new_data = new_data.drop(columns = col, axis=1) "
      ]
    },
    {
      "cell_type": "code",
      "execution_count": null,
      "metadata": {
        "id": "TqWp0PppR1d0"
      },
      "outputs": [],
      "source": [
        "# remove first row of dataset\n",
        "new_data = new_data.iloc[1:,:] "
      ]
    },
    {
      "cell_type": "code",
      "execution_count": null,
      "metadata": {
        "colab": {
          "base_uri": "https://localhost:8080/",
          "height": 401
        },
        "id": "jx040RYKXOuo",
        "outputId": "b34dfe27-269b-4bb9-d749-c352394363c6"
      },
      "outputs": [
        {
          "output_type": "execute_result",
          "data": {
            "text/plain": [
              "            Year  Month  Day_of_Month  Day_of_Year  Week_of_Year  Day_of_Week  \\\n",
              "Date                                                                            \n",
              "2018-01-03  2018      1             3            3             1            3   \n",
              "2018-01-04  2018      1             4            4             1            4   \n",
              "2018-01-05  2018      1             5            5             1            5   \n",
              "2018-01-08  2018      1             8            8             2            1   \n",
              "2018-01-09  2018      1             9            9             2            2   \n",
              "\n",
              "            Weekday  Quarter  Open  Close  Prev_High  Prev_Low  Prev_Volume  \\\n",
              "Date                                                                          \n",
              "2018-01-03        2        1  2476   2555     2481.0    2466.0        100.0   \n",
              "2018-01-04        3        1  2538   2542     2555.0    2476.0        500.0   \n",
              "2018-01-05        4        1  2554   2570     2551.0    2533.0        470.0   \n",
              "2018-01-08        0        1  2541   2590     2561.0    2527.0        250.0   \n",
              "2018-01-09        1        1  2563   2562     2572.0    2530.0        160.0   \n",
              "\n",
              "            Prev_Percentage Change  \n",
              "Date                                \n",
              "2018-01-03                  0.0115  \n",
              "2018-01-04                  0.0336  \n",
              "2018-01-05                 -0.0051  \n",
              "2018-01-08                  0.0110  \n",
              "2018-01-09                  0.0078  "
            ],
            "text/html": [
              "\n",
              "  <div id=\"df-c026e45f-45f3-4b36-aaa0-b043bbe2f6ff\">\n",
              "    <div class=\"colab-df-container\">\n",
              "      <div>\n",
              "<style scoped>\n",
              "    .dataframe tbody tr th:only-of-type {\n",
              "        vertical-align: middle;\n",
              "    }\n",
              "\n",
              "    .dataframe tbody tr th {\n",
              "        vertical-align: top;\n",
              "    }\n",
              "\n",
              "    .dataframe thead th {\n",
              "        text-align: right;\n",
              "    }\n",
              "</style>\n",
              "<table border=\"1\" class=\"dataframe\">\n",
              "  <thead>\n",
              "    <tr style=\"text-align: right;\">\n",
              "      <th></th>\n",
              "      <th>Year</th>\n",
              "      <th>Month</th>\n",
              "      <th>Day_of_Month</th>\n",
              "      <th>Day_of_Year</th>\n",
              "      <th>Week_of_Year</th>\n",
              "      <th>Day_of_Week</th>\n",
              "      <th>Weekday</th>\n",
              "      <th>Quarter</th>\n",
              "      <th>Open</th>\n",
              "      <th>Close</th>\n",
              "      <th>Prev_High</th>\n",
              "      <th>Prev_Low</th>\n",
              "      <th>Prev_Volume</th>\n",
              "      <th>Prev_Percentage Change</th>\n",
              "    </tr>\n",
              "    <tr>\n",
              "      <th>Date</th>\n",
              "      <th></th>\n",
              "      <th></th>\n",
              "      <th></th>\n",
              "      <th></th>\n",
              "      <th></th>\n",
              "      <th></th>\n",
              "      <th></th>\n",
              "      <th></th>\n",
              "      <th></th>\n",
              "      <th></th>\n",
              "      <th></th>\n",
              "      <th></th>\n",
              "      <th></th>\n",
              "      <th></th>\n",
              "    </tr>\n",
              "  </thead>\n",
              "  <tbody>\n",
              "    <tr>\n",
              "      <th>2018-01-03</th>\n",
              "      <td>2018</td>\n",
              "      <td>1</td>\n",
              "      <td>3</td>\n",
              "      <td>3</td>\n",
              "      <td>1</td>\n",
              "      <td>3</td>\n",
              "      <td>2</td>\n",
              "      <td>1</td>\n",
              "      <td>2476</td>\n",
              "      <td>2555</td>\n",
              "      <td>2481.0</td>\n",
              "      <td>2466.0</td>\n",
              "      <td>100.0</td>\n",
              "      <td>0.0115</td>\n",
              "    </tr>\n",
              "    <tr>\n",
              "      <th>2018-01-04</th>\n",
              "      <td>2018</td>\n",
              "      <td>1</td>\n",
              "      <td>4</td>\n",
              "      <td>4</td>\n",
              "      <td>1</td>\n",
              "      <td>4</td>\n",
              "      <td>3</td>\n",
              "      <td>1</td>\n",
              "      <td>2538</td>\n",
              "      <td>2542</td>\n",
              "      <td>2555.0</td>\n",
              "      <td>2476.0</td>\n",
              "      <td>500.0</td>\n",
              "      <td>0.0336</td>\n",
              "    </tr>\n",
              "    <tr>\n",
              "      <th>2018-01-05</th>\n",
              "      <td>2018</td>\n",
              "      <td>1</td>\n",
              "      <td>5</td>\n",
              "      <td>5</td>\n",
              "      <td>1</td>\n",
              "      <td>5</td>\n",
              "      <td>4</td>\n",
              "      <td>1</td>\n",
              "      <td>2554</td>\n",
              "      <td>2570</td>\n",
              "      <td>2551.0</td>\n",
              "      <td>2533.0</td>\n",
              "      <td>470.0</td>\n",
              "      <td>-0.0051</td>\n",
              "    </tr>\n",
              "    <tr>\n",
              "      <th>2018-01-08</th>\n",
              "      <td>2018</td>\n",
              "      <td>1</td>\n",
              "      <td>8</td>\n",
              "      <td>8</td>\n",
              "      <td>2</td>\n",
              "      <td>1</td>\n",
              "      <td>0</td>\n",
              "      <td>1</td>\n",
              "      <td>2541</td>\n",
              "      <td>2590</td>\n",
              "      <td>2561.0</td>\n",
              "      <td>2527.0</td>\n",
              "      <td>250.0</td>\n",
              "      <td>0.0110</td>\n",
              "    </tr>\n",
              "    <tr>\n",
              "      <th>2018-01-09</th>\n",
              "      <td>2018</td>\n",
              "      <td>1</td>\n",
              "      <td>9</td>\n",
              "      <td>9</td>\n",
              "      <td>2</td>\n",
              "      <td>2</td>\n",
              "      <td>1</td>\n",
              "      <td>1</td>\n",
              "      <td>2563</td>\n",
              "      <td>2562</td>\n",
              "      <td>2572.0</td>\n",
              "      <td>2530.0</td>\n",
              "      <td>160.0</td>\n",
              "      <td>0.0078</td>\n",
              "    </tr>\n",
              "  </tbody>\n",
              "</table>\n",
              "</div>\n",
              "      <button class=\"colab-df-convert\" onclick=\"convertToInteractive('df-c026e45f-45f3-4b36-aaa0-b043bbe2f6ff')\"\n",
              "              title=\"Convert this dataframe to an interactive table.\"\n",
              "              style=\"display:none;\">\n",
              "        \n",
              "  <svg xmlns=\"http://www.w3.org/2000/svg\" height=\"24px\"viewBox=\"0 0 24 24\"\n",
              "       width=\"24px\">\n",
              "    <path d=\"M0 0h24v24H0V0z\" fill=\"none\"/>\n",
              "    <path d=\"M18.56 5.44l.94 2.06.94-2.06 2.06-.94-2.06-.94-.94-2.06-.94 2.06-2.06.94zm-11 1L8.5 8.5l.94-2.06 2.06-.94-2.06-.94L8.5 2.5l-.94 2.06-2.06.94zm10 10l.94 2.06.94-2.06 2.06-.94-2.06-.94-.94-2.06-.94 2.06-2.06.94z\"/><path d=\"M17.41 7.96l-1.37-1.37c-.4-.4-.92-.59-1.43-.59-.52 0-1.04.2-1.43.59L10.3 9.45l-7.72 7.72c-.78.78-.78 2.05 0 2.83L4 21.41c.39.39.9.59 1.41.59.51 0 1.02-.2 1.41-.59l7.78-7.78 2.81-2.81c.8-.78.8-2.07 0-2.86zM5.41 20L4 18.59l7.72-7.72 1.47 1.35L5.41 20z\"/>\n",
              "  </svg>\n",
              "      </button>\n",
              "      \n",
              "  <style>\n",
              "    .colab-df-container {\n",
              "      display:flex;\n",
              "      flex-wrap:wrap;\n",
              "      gap: 12px;\n",
              "    }\n",
              "\n",
              "    .colab-df-convert {\n",
              "      background-color: #E8F0FE;\n",
              "      border: none;\n",
              "      border-radius: 50%;\n",
              "      cursor: pointer;\n",
              "      display: none;\n",
              "      fill: #1967D2;\n",
              "      height: 32px;\n",
              "      padding: 0 0 0 0;\n",
              "      width: 32px;\n",
              "    }\n",
              "\n",
              "    .colab-df-convert:hover {\n",
              "      background-color: #E2EBFA;\n",
              "      box-shadow: 0px 1px 2px rgba(60, 64, 67, 0.3), 0px 1px 3px 1px rgba(60, 64, 67, 0.15);\n",
              "      fill: #174EA6;\n",
              "    }\n",
              "\n",
              "    [theme=dark] .colab-df-convert {\n",
              "      background-color: #3B4455;\n",
              "      fill: #D2E3FC;\n",
              "    }\n",
              "\n",
              "    [theme=dark] .colab-df-convert:hover {\n",
              "      background-color: #434B5C;\n",
              "      box-shadow: 0px 1px 3px 1px rgba(0, 0, 0, 0.15);\n",
              "      filter: drop-shadow(0px 1px 2px rgba(0, 0, 0, 0.3));\n",
              "      fill: #FFFFFF;\n",
              "    }\n",
              "  </style>\n",
              "\n",
              "      <script>\n",
              "        const buttonEl =\n",
              "          document.querySelector('#df-c026e45f-45f3-4b36-aaa0-b043bbe2f6ff button.colab-df-convert');\n",
              "        buttonEl.style.display =\n",
              "          google.colab.kernel.accessAllowed ? 'block' : 'none';\n",
              "\n",
              "        async function convertToInteractive(key) {\n",
              "          const element = document.querySelector('#df-c026e45f-45f3-4b36-aaa0-b043bbe2f6ff');\n",
              "          const dataTable =\n",
              "            await google.colab.kernel.invokeFunction('convertToInteractive',\n",
              "                                                     [key], {});\n",
              "          if (!dataTable) return;\n",
              "\n",
              "          const docLinkHtml = 'Like what you see? Visit the ' +\n",
              "            '<a target=\"_blank\" href=https://colab.research.google.com/notebooks/data_table.ipynb>data table notebook</a>'\n",
              "            + ' to learn more about interactive tables.';\n",
              "          element.innerHTML = '';\n",
              "          dataTable['output_type'] = 'display_data';\n",
              "          await google.colab.output.renderOutput(dataTable, element);\n",
              "          const docLink = document.createElement('div');\n",
              "          docLink.innerHTML = docLinkHtml;\n",
              "          element.appendChild(docLink);\n",
              "        }\n",
              "      </script>\n",
              "    </div>\n",
              "  </div>\n",
              "  "
            ]
          },
          "metadata": {},
          "execution_count": 8
        }
      ],
      "source": [
        "# extract year, month, day etc. from Date\n",
        "newdate = new_data['Date']\n",
        "exact_trading_date = pd.DataFrame({'Year': newdate.dt.year,\n",
        "                                    'Month': newdate.dt.month,\n",
        "                                    'Day_of_Month': newdate.dt.day,\n",
        "                                    'Day_of_Year': newdate.dt.dayofyear,\n",
        "                                    'Week_of_Year': newdate.dt.isocalendar().week,\n",
        "                                    'Day_of_Week': newdate.dt.isocalendar().day,\n",
        "                                    'Weekday': newdate.dt.weekday,\n",
        "                                    'Quarter': newdate.dt.quarter,\n",
        "                                    })\n",
        "new_data = pd.concat([exact_trading_date, new_data], axis = 1)\n",
        "new_data = new_data.set_index('Date')\n",
        "new_data.head()"
      ]
    },
    {
      "cell_type": "markdown",
      "metadata": {
        "id": "YbNO41VTwLFS"
      },
      "source": [
        "## Section 3.3 Data Splitting & Transformation"
      ]
    },
    {
      "cell_type": "code",
      "execution_count": null,
      "metadata": {
        "id": "aFqBbuT4uZk2"
      },
      "outputs": [],
      "source": [
        "# specify feature columns and the target\n",
        "features = new_data.drop(columns = ['Close'])\n",
        "target = np.array(new_data['Close'])"
      ]
    },
    {
      "cell_type": "code",
      "execution_count": null,
      "metadata": {
        "id": "9wXPoy6l7k2o"
      },
      "outputs": [],
      "source": [
        "# to import the SVR model for price prediction\n",
        "from sklearn.svm import SVR\n",
        "# to import different evaluation metrics for regression problem\n",
        "from sklearn.metrics import mean_absolute_error, mean_absolute_percentage_error, mean_squared_error, r2_score\n",
        "\n",
        "# each evaluation metric is assigned to a shorter name for easy reference\n",
        "MAE = mean_absolute_error\n",
        "MAPE = mean_absolute_percentage_error\n",
        "MSE = mean_squared_error\n",
        "R2 = r2_score\n",
        "\n",
        "\n",
        "def RegressionMetric(valid_data, predictions):\n",
        "    \"\"\"\n",
        "    Produce 4 different evaluation metrics at once\n",
        "\n",
        "    valid_data - Testing Value\n",
        "    predictions - Predicted Value\n",
        "    \"\"\"\n",
        "\n",
        "    # each eveluation metric is contained in a list\n",
        "    metrics = [MAE, MAPE, MSE, R2]\n",
        "    # create an empty list to keep all eveluation metrics\n",
        "    metric_value = []\n",
        "    # loop through different evaluation metrics and output the value\n",
        "    for metric in metrics:\n",
        "        metric_value.append(metric(valid_data, predictions))\n",
        "    print(\"MAE:\\t\", metric_value[0])\n",
        "    print(\"MAPE:\\t\", metric_value[1]) \n",
        "    print(\"RMSE:\\t\", np.sqrt(metric_value[2]))\n",
        "    print(\"r2:\\t\", metric_value[3])\n",
        "\n",
        "\n",
        "def model_training(Xtrain, Ytrain, Xvalid, Yvalid, current_parameters = None, constant_parameters = None):\n",
        "    \"\"\"\n",
        "    Train the model with given set of hyperparameters and output metric\n",
        "\n",
        "    current_parameters - Dict of hyperparameters and chosen values\n",
        "    constant_parameters - Dict of hyperparameters that are kept constant\n",
        "    Xtrain - Training Features\n",
        "    Xvalid - Testing Features\n",
        "    Ytrain - Training Value\n",
        "    Yvalid - Testing Value\n",
        "    \"\"\"\n",
        "\n",
        "    # to avoid assignment of closure object\n",
        "    if current_parameters is None: current_parameters = {}\n",
        "    if constant_parameters is None: constant_parameters = {}\n",
        "    # copy the constant parameters dictionary\n",
        "    parameters_copy = constant_parameters.copy()\n",
        "    # combine the two constant and current parameters dictionary\n",
        "    parameters_copy.update(current_parameters)\n",
        "    # \"**\" is used to input a dict that contains all the key which are same as the arguments of the mdoel    \n",
        "    model = SVR(**parameters_copy)\n",
        "    # \"fit\" is used to train the model\n",
        "    model.fit(Xtrain, Ytrain)\n",
        "    # \"predict\" is used to make prediction\n",
        "    predictions = model.predict(Xvalid)\n",
        "    # MSE of the model is obtained\n",
        "    metric_value = MSE(Yvalid, predictions)\n",
        "\n",
        "    return metric_value\n",
        "\n",
        "\n",
        "def parameters_choosing(potential_parameters, size_potential_parameters, current_parameters = None):\n",
        "    \"\"\"\n",
        "    Function to choose parameters for next iteration\n",
        "    \n",
        "    Inputs:\n",
        "    potential_parameters - Ordered dictionary of parameter search space\n",
        "    current_parameters - Dict of current parameters\n",
        "    size_potential_parameters - size of parameters search space\n",
        "\n",
        "    Output:\n",
        "    Dictionary of New Parameters\n",
        "    \"\"\"\n",
        "\n",
        "    #when current parameters is non-empty dict\n",
        "    if current_parameters:\n",
        "        # copy current parameters dict to another dict called \"new parameters\"\n",
        "        new_parameters = current_parameters.copy()\n",
        "        # change the \"keys\" of the potential parameters dict into list\n",
        "        potential_param_keys = [*potential_parameters.keys()]\n",
        "        # randomly choose one parameter to be updated\n",
        "        param_to_update = np.random.choice(potential_param_keys)\n",
        "        # obtain the potential values for the parameter-to-be-updated\n",
        "        potential_param_values = potential_parameters[param_to_update]\n",
        "        # obtain the number of potential parameters\n",
        "        no_potential_param_val = size_potential_parameters[param_to_update]\n",
        "        # randomely generate one number as index out of theof the potential parameters\n",
        "        random_index = np.random.randint(1, no_potential_param_val)\n",
        "        # find the current index of the value of the parameter-to-be-updated\n",
        "        curr_param_val_index = potential_param_values.index(current_parameters[param_to_update])\n",
        "        # calculate the new index\n",
        "        new_index = curr_param_val_index + np.random.choice([-1, 1])*random_index\n",
        "\n",
        "        # try this block of code if there is no index error and a new paramater value will be assigned\n",
        "        try:\n",
        "            new_parameters[param_to_update] = potential_param_values[new_index]\n",
        "        # if index is out of the range, then an IndexError is raised\n",
        "        # new parameter is randomly assigned to either the first or the last value of potential parameters\n",
        "        except IndexError:\n",
        "            new_parameters[param_to_update] = potential_param_values[np.random.choice([-1, 0])]\n",
        "\n",
        "    # when current parameters is empty dict\n",
        "    else:\n",
        "        # create a new empty dict\n",
        "        new_parameters = {}\n",
        "        # randomly assign the potential values to the parameters\n",
        "        for key, value in potential_parameters.items():\n",
        "            new_parameters[key] = np.random.choice(value)\n",
        "        \n",
        "    return new_parameters\n",
        "\n",
        "\n",
        "# Function for the Metropolis formula in the simulated annealing process\n",
        "def metropolis_formula(temperature, current_metric, previous_metric):\n",
        "\n",
        "    # one random number is generated using the uniform function\n",
        "    random_number = np.random.uniform()\n",
        "    # the difference between the current and previous metrics is obtained\n",
        "    difference = current_metric - previous_metric\n",
        "    # the value of metropolis formula is obatined\n",
        "    metropolis_val = np.exp(- difference / temperature)\n",
        "    return random_number, difference, metropolis_val\n",
        "\n",
        "\n",
        "def simulate_annealing(param_dict, constant_params, size_param_dict,\n",
        "                        X_train, Y_train,  X_valid, Y_valid, \n",
        "                        no_iters = 100, alpha = 0.95,  \n",
        "                        initial_temperature = 100, min_temperature = 20,\n",
        "                       previous_params = None):\n",
        "    \"\"\"\n",
        "    Function to perform hyperparameter search using simulated annealing (minimization)\n",
        "\n",
        "    Inputs:\n",
        "    param_dict - Dictionary of parameter search space\n",
        "    const_param - Static parameters of the model\n",
        "    size_param_dict - size of parameters search space\n",
        "    Xtrain - Training Features\n",
        "    Xvalid - Testing Features\n",
        "    Ytrain - Training Value\n",
        "    Yvalid - Testing Value\n",
        "    no_iters - Number of iterations to perform the parameter search\n",
        "    alpha - factor to reduce temperature\n",
        "    initial_temperature - Initial temperature\n",
        "    min_temperature - Minimum temperature\n",
        "    \n",
        "    Output:\n",
        "    Dataframe of the parameters explored and corresponding model performance\n",
        "    \"\"\"\n",
        "    T = initial_temperature\n",
        "    T_min = min_temperature\n",
        "    prev_params = previous_params\n",
        "    \n",
        "    # create an empty dataframe to store the result\n",
        "    columns_name = [\"Number of Temperature Reductions\"] + [\"Current Temperature\"] + [*param_dict.keys()] + ['Metric', 'Best Metric']\n",
        "    results = pd.DataFrame(columns = columns_name)\n",
        "    result_list = []\n",
        "    \n",
        "    # Obtain an initial evaluation metric using the default parameters\n",
        "    ori_metric = model_training(X_train, Y_train, X_valid, Y_valid)\n",
        "    # set the initial evaluation metric as local minima\n",
        "    prev_metric = ori_metric\n",
        "    # set the initial evaluation metric as global minima\n",
        "    best_metric = ori_metric\n",
        "    \n",
        "    # create an empty set to store the visited parameters\n",
        "    hash_values = set()\n",
        "    \n",
        "    # create a counter for number of temperature drops\n",
        "    j = 0\n",
        "\n",
        "    # run the loop if the minimum temperature is not reached\n",
        "    while T >= T_min:\n",
        "        print(\"Current Temperature is: %.2f\" %T)\n",
        "        print(\"\\n\")\n",
        "        \n",
        "        # check if the number of iterations is reached\n",
        "        for i in range(no_iters):\n",
        "            print('Iteration ' + str(i + 1))\n",
        "\n",
        "            # choose a new set of parameters\n",
        "            curr_params = parameters_choosing(param_dict, size_param_dict, prev_params)\n",
        "            \n",
        "            # convert parameters' value to tuple\n",
        "            hash_val = tuple(curr_params.values())\n",
        "\n",
        "            # check if the parameters is repeated\n",
        "            if hash_val in hash_values:\n",
        "                print('Combination revisited.')\n",
        "                print('\\n\\n')\n",
        "\n",
        "            else:\n",
        "                hash_values.add(hash_val)\n",
        "                \n",
        "                # obtain new evaluation metric\n",
        "                metric = model_training(X_train, Y_train, X_valid, Y_valid, curr_params, constant_params)\n",
        "\n",
        "                # check if the new metric value is smaller than the local minima \n",
        "                if metric < prev_metric:\n",
        "                    print('Local Improvement in metric from {:8.6f} to {:8.6f} '\n",
        "                            .format(prev_metric, metric) + ' - parameters accepted' + '\\n')\n",
        "                    prev_metric = metric\n",
        "                    prev_params = curr_params.copy()\n",
        "                    \n",
        "                    # check if the new metric value is smaller than the global minima\n",
        "                    if metric < best_metric:\n",
        "                        print('Global Improvement in metric from {:8.6f} to {:8.6f} '\n",
        "                                .format(best_metric, metric) + ' - best parameters updated' + '\\n\\n')\n",
        "                        best_metric = metric\n",
        "                \n",
        "                # use metropolis formula to decide whether to accept the new set of parameters\n",
        "                else:\n",
        "                    random_no, diff, Metropolis = metropolis_formula(T,metric, prev_metric)\n",
        "                    \n",
        "                    if random_no < Metropolis:\n",
        "                        print(\"No Improvement but parameters are ACCEPTED.\") \n",
        "                        prev_metric = metric\n",
        "                        prev_params = curr_params\n",
        "                        \n",
        "                    else:\n",
        "                        print(\"No Improvement and parameters are REJECTED.\") \n",
        "                    \n",
        "                    print(\"Metric change:   %.6f\" % diff)\n",
        "                    print(\"Threshold:       %.6f\" % Metropolis)\n",
        "                    print(\"Random Number:   %.6f\" % random_no)\n",
        "                    print('\\n')\n",
        "\n",
        "            # store the result into the dataframe\n",
        "            results.loc[i, \"Number of Temperature Reductions\"] = j\n",
        "            results.loc[i, [*curr_params.keys()]] = [*curr_params.values()]\n",
        "            results.loc[i, 'Metric'] = metric\n",
        "            results.loc[i, 'Best Metric'] = best_metric\n",
        "            print(\"\\n\")\n",
        "        \n",
        "        results.loc[:, \"Current Temperature\"] = T\n",
        "        result_copy = results.copy()\n",
        "        result_list.append(result_copy)\n",
        "        \n",
        "        # reduce the temperature with the pre-defined cooling factor\n",
        "        T = alpha * T\n",
        "\n",
        "        print(\"Temperature has been reduced.\")\n",
        "        print(\"Number of Temperature Reductions: \" + str(j + 1))\n",
        "        j = j + 1\n",
        "\n",
        "        # check if the minimum temperature is reached\n",
        "        if T < T_min: print(\"Minimum temperature is reached. The algorithm is terminated.\")\n",
        "\n",
        "    # combine the result of for each temperature\n",
        "    final_result = pd.concat(result_list)\n",
        "        \n",
        "    return final_result\n",
        "\n",
        "def inverse_transformation(test_data, prediction_data, transformation, index_data, index_name = 'Date'):\n",
        "    \"\"\"\n",
        "    Function to inverse transform the data into original scale\n",
        "\n",
        "    Inputs:\n",
        "    test_data - The data for testing \n",
        "    prediction_data - The data from predictions\n",
        "    transformation - The transformation function that transform the original data into scaled data\n",
        "    index_data - The data that will be the index of the output dataframe\n",
        "        \n",
        "    Output:\n",
        "    Dataframe of Transformed Close, Transformed Prediction, Close and Prediction Data\n",
        "    \"\"\"\n",
        "    # reshape the transformed close price in test set\n",
        "    transformed_test = test_data.reshape(len(test_data), 1)\n",
        "    # transform it back to the actual value         \n",
        "    ori_test = transformation.inverse_transform(transformed_test)\n",
        "    # reshape the transformed predicted close price      \n",
        "    transformed_preds = prediction_data.reshape(len(prediction_data), 1)\n",
        "    # tranform it back to the actual value      \n",
        "    ori_prediction = transformation.inverse_transform(transformed_preds)\n",
        "    # create the data frame with the actual and predicted close price    \n",
        "    newdf = pd.DataFrame({'Transformed Actual Close': test_data, 'Transformed Prediction': prediction_data,\n",
        "                      'Actual Close': ori_test[:, 0], 'Prediction': ori_prediction[:, 0]})\n",
        "    # set 'Date' as the index (easier to read time series plot)\n",
        "    newdf = pd.concat([index_data, newdf], axis = 1).set_index(index_name)  \n",
        "\n",
        "    return newdf"
      ]
    },
    {
      "cell_type": "markdown",
      "source": [
        "# Experiment: Use different ratio of train-test splitting"
      ],
      "metadata": {
        "id": "ZP7Xzm4SjC7a"
      }
    },
    {
      "cell_type": "markdown",
      "source": [
        "## All Ratios' Result"
      ],
      "metadata": {
        "id": "DXg8pvLf1-oI"
      }
    },
    {
      "cell_type": "code",
      "source": [
        "def df_range(date1, date2, idx):\n",
        "  print(f'The shapes of  x_train, x_test, y_train, y_test are {x_train.shape, x_test.shape, y_train.shape, y_test.shape}, respectively.')\n",
        "  min_date_train = np.min(date1)\n",
        "  max_date_train = np.max(date1)\n",
        "  min_date_test = np.min(date2)\n",
        "  max_date_test = np.max(date2)\n",
        "  print(f'Date in {idx*100}% Train Set: {min_date_train}, {max_date_train}')\n",
        "  print(f'Date in {100-(idx*100)}% Test Set: {min_date_test}, {max_date_test}\\n')"
      ],
      "metadata": {
        "id": "MaUgRIYX7MOv"
      },
      "execution_count": null,
      "outputs": []
    },
    {
      "cell_type": "code",
      "source": [
        "# split the dataset into two subsets: training set & test set \n",
        "target = target.reshape(len(target), 1)\n",
        "for val in (0.10, 0.50, 0.60, 0.70, 0.80, 0.90, 0.95):\n",
        "  x_train, x_test, y_train, y_test = train_test_split(features, target, train_size = val, shuffle = False)\n",
        "  time_index = x_test.reset_index()[['Date']] \n",
        "  df_range(x_train.index,x_test.index, val)\n",
        "  # scale the training data using PowerTransformer()\n",
        "  scalerX = PowerTransformer().fit(x_train)\n",
        "  scalerY = PowerTransformer().fit(y_train)\n",
        "\n",
        "  # producing a series with transformed values that has the same axis length.\n",
        "  x_train = scalerX.transform(x_train)\n",
        "  y_train = scalerY.transform(y_train)\n",
        "  x_test = scalerX.transform(x_test)\n",
        "  y_test = scalerY.transform(y_test)\n",
        "\n",
        "  # change the multi-dimensional array into a contiguous flattened array (same data type as the input array)\n",
        "  y_train = np.ravel(y_train) \n",
        "  y_test  = np.ravel(y_test)\n",
        "\n",
        "  svr_model = SVR().fit(x_train, y_train)\n",
        "  # pred = svr_model.predict(x_train)\n",
        "  # # back tranform the data\n",
        "  # transformed_ytrain = y_train.reshape(len(y_train), 1)          # reshape the transformed close price in test set\n",
        "  # ori_ytrain= scalerY.inverse_transform(transformed_ytrain)      # transform it back to the actual value \n",
        "  # transformed_preds_train = pred.reshape(len(pred), 1)        # reshape the transformed predicted close price\n",
        "  # ori_preds_train= scalerY.inverse_transform(transformed_preds_train)      # tranform it back to the actual value\n",
        "  # print(f'Training Accuracy for {val*100}% Training Data: ')\n",
        "  # RegressionMetric(ori_ytrain, ori_preds_train)\n",
        "  predict = svr_model.predict(x_test)\n",
        "  # back tranform the data\n",
        "  transformed_ytest = y_test.reshape(len(y_test), 1)          # reshape the transformed close price in test set\n",
        "  ori_ytest = scalerY.inverse_transform(transformed_ytest)    # transform it back to the actual value \n",
        "  transformed_preds = predict.reshape(len(predict), 1)        # reshape the transformed predicted close price\n",
        "  ori_preds =scalerY.inverse_transform(transformed_preds)    # tranform it back to the actual value\n",
        "\n",
        "  print(f'Evaluation Metrics for {val*100}% Training Data - Transformed Scale: ')\n",
        "  RegressionMetric(y_test, predict)\n",
        "  print(f'Evaluation Metrics for {val*100}% Training Data - Original Scale:')\n",
        "  RegressionMetric(ori_ytest, ori_preds)\n",
        "  print('\\n')"
      ],
      "metadata": {
        "colab": {
          "base_uri": "https://localhost:8080/"
        },
        "id": "5msKG5Bh6d1-",
        "outputId": "cb03d5cb-7408-47c1-bd33-e5e2d7e4e0e0"
      },
      "execution_count": null,
      "outputs": [
        {
          "output_type": "stream",
          "name": "stdout",
          "text": [
            "The shapes of  x_train, x_test, y_train, y_test are ((103, 13), (934, 13), (103, 1), (934, 1)), respectively.\n",
            "Date in 10.0% Train Set: 2018-01-03 00:00:00, 2018-06-18 00:00:00\n",
            "Date in 90.0% Test Set: 2018-06-19 00:00:00, 2022-06-30 00:00:00\n",
            "\n",
            "Evaluation Metrics for 10.0% Training Data - Transformed Scale: \n",
            "MAE:\t 11.461830249468004\n",
            "MAPE:\t 1.0077184730307798\n",
            "RMSE:\t 14.110352304154913\n",
            "r2:\t -0.323799591453259\n",
            "Evaluation Metrics for 10.0% Training Data - Original Scale:\n",
            "MAE:\t 1249.6791045262262\n",
            "MAPE:\t 0.28817815613512204\n",
            "RMSE:\t 1802.0829423512998\n",
            "r2:\t -0.43567954330843794\n",
            "\n",
            "\n",
            "The shapes of  x_train, x_test, y_train, y_test are ((518, 13), (519, 13), (518, 1), (519, 1)), respectively.\n",
            "Date in 50.0% Train Set: 2018-01-03 00:00:00, 2020-04-27 00:00:00\n",
            "Date in 50.0% Test Set: 2020-04-28 00:00:00, 2022-06-30 00:00:00\n",
            "\n",
            "Evaluation Metrics for 50.0% Training Data - Transformed Scale: \n",
            "MAE:\t 1.9820324636457327\n",
            "MAPE:\t 0.5849041334558747\n",
            "RMSE:\t 2.3230328664137114\n",
            "r2:\t -2.9972815592218978\n",
            "Evaluation Metrics for 50.0% Training Data - Original Scale:\n",
            "MAE:\t 1835.6551032711025\n",
            "MAPE:\t 0.35223497113514096\n",
            "RMSE:\t 2333.1391827761126\n",
            "r2:\t -1.8961581545505597\n",
            "\n",
            "\n",
            "The shapes of  x_train, x_test, y_train, y_test are ((622, 13), (415, 13), (622, 1), (415, 1)), respectively.\n",
            "Date in 60.0% Train Set: 2018-01-03 00:00:00, 2020-10-07 00:00:00\n",
            "Date in 40.0% Test Set: 2020-10-08 00:00:00, 2022-06-30 00:00:00\n",
            "\n"
          ]
        },
        {
          "output_type": "stream",
          "name": "stderr",
          "text": [
            "/usr/local/lib/python3.7/dist-packages/sklearn/preprocessing/_data.py:3253: RuntimeWarning: divide by zero encountered in log\n",
            "  loglike = -n_samples / 2 * np.log(x_trans.var())\n",
            "/usr/local/lib/python3.7/dist-packages/sklearn/preprocessing/_data.py:3253: RuntimeWarning: divide by zero encountered in log\n",
            "  loglike = -n_samples / 2 * np.log(x_trans.var())\n"
          ]
        },
        {
          "output_type": "stream",
          "name": "stdout",
          "text": [
            "Evaluation Metrics for 60.0% Training Data - Transformed Scale: \n",
            "MAE:\t 2.5092571815048617\n",
            "MAPE:\t 0.6625800442536318\n",
            "RMSE:\t 2.7467199192681337\n",
            "r2:\t -14.86339763044363\n",
            "Evaluation Metrics for 60.0% Training Data - Original Scale:\n",
            "MAE:\t 2196.197261582465\n",
            "MAPE:\t 0.41385475488433615\n",
            "RMSE:\t 2561.5029584541553\n",
            "r2:\t -3.982261031753798\n",
            "\n",
            "\n",
            "The shapes of  x_train, x_test, y_train, y_test are ((725, 13), (312, 13), (725, 1), (312, 1)), respectively.\n",
            "Date in 70.0% Train Set: 2018-01-03 00:00:00, 2021-03-12 00:00:00\n",
            "Date in 30.0% Test Set: 2021-03-16 00:00:00, 2022-06-30 00:00:00\n",
            "\n",
            "Evaluation Metrics for 70.0% Training Data - Transformed Scale: \n",
            "MAE:\t 0.521394382190628\n",
            "MAPE:\t 0.22913130204364435\n",
            "RMSE:\t 0.6189043292852909\n",
            "r2:\t -6.717490847758441\n",
            "Evaluation Metrics for 70.0% Training Data - Original Scale:\n",
            "MAE:\t 1529.1835452785763\n",
            "MAPE:\t 0.26485553441454474\n",
            "RMSE:\t 1884.0697555821016\n",
            "r2:\t -2.2978878668585767\n",
            "\n",
            "\n",
            "The shapes of  x_train, x_test, y_train, y_test are ((829, 13), (208, 13), (829, 1), (208, 1)), respectively.\n",
            "Date in 80.0% Train Set: 2018-01-03 00:00:00, 2021-08-20 00:00:00\n",
            "Date in 20.0% Test Set: 2021-08-23 00:00:00, 2022-06-30 00:00:00\n",
            "\n"
          ]
        },
        {
          "output_type": "stream",
          "name": "stderr",
          "text": [
            "/usr/local/lib/python3.7/dist-packages/sklearn/preprocessing/_data.py:3253: RuntimeWarning: divide by zero encountered in log\n",
            "  loglike = -n_samples / 2 * np.log(x_trans.var())\n"
          ]
        },
        {
          "output_type": "stream",
          "name": "stdout",
          "text": [
            "Evaluation Metrics for 80.0% Training Data - Transformed Scale: \n",
            "MAE:\t 0.4360286540104567\n",
            "MAPE:\t 0.21492914607624178\n",
            "RMSE:\t 0.533204555497031\n",
            "r2:\t -9.561849174492178\n",
            "Evaluation Metrics for 80.0% Training Data - Original Scale:\n",
            "MAE:\t 1546.9972364812716\n",
            "MAPE:\t 0.24996940112065633\n",
            "RMSE:\t 1859.813737539173\n",
            "r2:\t -3.281610608300042\n",
            "\n",
            "\n",
            "The shapes of  x_train, x_test, y_train, y_test are ((933, 13), (104, 13), (933, 1), (104, 1)), respectively.\n",
            "Date in 90.0% Train Set: 2018-01-03 00:00:00, 2022-01-21 00:00:00\n",
            "Date in 10.0% Test Set: 2022-01-24 00:00:00, 2022-06-30 00:00:00\n",
            "\n",
            "Evaluation Metrics for 90.0% Training Data - Transformed Scale: \n",
            "MAE:\t 0.44637446962984295\n",
            "MAPE:\t 0.23532163628887862\n",
            "RMSE:\t 0.5562575081970481\n",
            "r2:\t -15.2757080501002\n",
            "Evaluation Metrics for 90.0% Training Data - Original Scale:\n",
            "MAE:\t 1724.041348611267\n",
            "MAPE:\t 0.2564550706126124\n",
            "RMSE:\t 1979.6620663530678\n",
            "r2:\t -6.475521396048947\n",
            "\n",
            "\n",
            "The shapes of  x_train, x_test, y_train, y_test are ((985, 13), (52, 13), (985, 1), (52, 1)), respectively.\n",
            "Date in 95.0% Train Set: 2018-01-03 00:00:00, 2022-04-07 00:00:00\n",
            "Date in 5.0% Test Set: 2022-04-08 00:00:00, 2022-06-30 00:00:00\n",
            "\n",
            "Evaluation Metrics for 95.0% Training Data - Transformed Scale: \n",
            "MAE:\t 0.14334646425218006\n",
            "MAPE:\t 0.08616743439612874\n",
            "RMSE:\t 0.1800379379071889\n",
            "r2:\t -0.23578993103866108\n",
            "Evaluation Metrics for 95.0% Training Data - Original Scale:\n",
            "MAE:\t 695.5704447099646\n",
            "MAPE:\t 0.1053656717740029\n",
            "RMSE:\t 845.2524001837405\n",
            "r2:\t -0.19471745133462104\n",
            "\n",
            "\n"
          ]
        }
      ]
    },
    {
      "cell_type": "markdown",
      "source": [
        "## Train-Test Splitting Ratio 5:5"
      ],
      "metadata": {
        "id": "sPnw0CKwH8z8"
      }
    },
    {
      "cell_type": "code",
      "source": [
        "# split the dataset into two subsets: training set & test set \n",
        "target = target.reshape(len(target), 1)\n",
        "x_train55, x_test55, y_train55, y_test55 = train_test_split(features, target, train_size = 0.60, shuffle = False)\n",
        "\n",
        "# check the shape of x_train, x_test, y_train, y_test\n",
        "x_train55.shape, x_test55.shape, y_train55.shape, y_test55.shape"
      ],
      "metadata": {
        "id": "cXNbCturH8Ny",
        "colab": {
          "base_uri": "https://localhost:8080/"
        },
        "outputId": "98185142-a968-4a2b-bb8d-5a01ec42ecb0"
      },
      "execution_count": null,
      "outputs": [
        {
          "output_type": "execute_result",
          "data": {
            "text/plain": [
              "((622, 13), (415, 13), (622, 1), (415, 1))"
            ]
          },
          "metadata": {},
          "execution_count": 13
        }
      ]
    },
    {
      "cell_type": "code",
      "source": [
        "time_index55 = x_test55.reset_index()[['Date']] "
      ],
      "metadata": {
        "id": "1E7uUm7QIK_-"
      },
      "execution_count": null,
      "outputs": []
    },
    {
      "cell_type": "code",
      "source": [
        "# scale the training data using PowerTransformer()\n",
        "scalerX = PowerTransformer().fit(x_train55)\n",
        "scalerY = PowerTransformer().fit(y_train55)\n",
        "\n",
        "# producing a series with transformed values that has the same axis length.\n",
        "x_train55 = scalerX.transform(x_train55)\n",
        "y_train55 = scalerY.transform(y_train55)\n",
        "x_test55 = scalerX.transform(x_test55)\n",
        "y_test55 = scalerY.transform(y_test55)\n",
        "\n",
        "# change the multi-dimensional array into a contiguous flattened array (same data type as the input array)\n",
        "y_train55 = np.ravel(y_train55) \n",
        "y_test55  = np.ravel(y_test55)"
      ],
      "metadata": {
        "id": "DpeUWMQMINhd",
        "colab": {
          "base_uri": "https://localhost:8080/"
        },
        "outputId": "3d7a50c9-4c7d-4074-966b-7538caa78206"
      },
      "execution_count": null,
      "outputs": [
        {
          "output_type": "stream",
          "name": "stderr",
          "text": [
            "/usr/local/lib/python3.7/dist-packages/sklearn/preprocessing/_data.py:3253: RuntimeWarning: divide by zero encountered in log\n",
            "  loglike = -n_samples / 2 * np.log(x_trans.var())\n"
          ]
        }
      ]
    },
    {
      "cell_type": "code",
      "source": [
        "# print the regression metrics of the SVR model without hyperparameter optimization (default hyperparameter values are set)\n",
        "from sklearn.svm import SVR\n",
        "svr_model = SVR().fit(x_train55, y_train55)\n",
        "predict55 = svr_model.predict(x_test55)"
      ],
      "metadata": {
        "id": "edrRNc4iIXF6"
      },
      "execution_count": null,
      "outputs": []
    },
    {
      "cell_type": "markdown",
      "source": [
        "### Prediction Performance of 5:5"
      ],
      "metadata": {
        "id": "1jMDPx51Iaxe"
      }
    },
    {
      "cell_type": "code",
      "source": [
        "# back tranform the data\n",
        "transformed_ytest55 = y_test55.reshape(len(y_test55), 1)          # reshape the transformed close price in test set\n",
        "ori_ytest55= scalerY.inverse_transform(transformed_ytest55)      # transform it back to the actual value \n",
        "transformed_preds55 = predict55.reshape(len(predict55), 1)        # reshape the transformed predicted close price\n",
        "ori_preds55= scalerY.inverse_transform(transformed_preds55)      # tranform it back to the actual value\n",
        "RegressionMetric(ori_ytest55, ori_preds55)\n"
      ],
      "metadata": {
        "id": "9zSQTOueIhZ1",
        "colab": {
          "base_uri": "https://localhost:8080/"
        },
        "outputId": "ce989950-0e45-4f32-9c28-10b19c18d2bc"
      },
      "execution_count": null,
      "outputs": [
        {
          "output_type": "stream",
          "name": "stdout",
          "text": [
            "MAE:\t 2196.197261582465\n",
            "MAPE:\t 0.41385475488433615\n",
            "RMSE:\t 2561.5029584541553\n",
            "r2:\t -3.982261031753798\n"
          ]
        }
      ]
    },
    {
      "cell_type": "code",
      "source": [
        "df55= pd.DataFrame({'Actual Close': ori_ytest55[:, 0],           # create the data frame with the actual and predicted close price\n",
        "                   'Prediction55': ori_preds55[:, 0]})            \n",
        "df55= pd.concat([time_index55, df55], axis = 1).set_index('Date')   # set 'Date' as the index (easier to read time series plot)\n",
        "df55"
      ],
      "metadata": {
        "id": "lAJJlhvIIhNf",
        "colab": {
          "base_uri": "https://localhost:8080/",
          "height": 450
        },
        "outputId": "0ecbeb2d-f575-40c7-ae34-62656fba1b62"
      },
      "execution_count": null,
      "outputs": [
        {
          "output_type": "execute_result",
          "data": {
            "text/plain": [
              "            Actual Close  Prediction55\n",
              "Date                                  \n",
              "2020-10-08        3000.0   2985.300463\n",
              "2020-10-09        3020.0   2962.514007\n",
              "2020-10-12        3060.0   2995.651049\n",
              "2020-10-14        3049.0   3041.842483\n",
              "2020-10-16        2985.0   3023.817196\n",
              "...                  ...           ...\n",
              "2022-06-24        4798.0   2566.953304\n",
              "2022-06-27        5049.0   2519.427124\n",
              "2022-06-28        5159.0   2521.699987\n",
              "2022-06-29        5069.0   2560.937684\n",
              "2022-06-30        5088.0   2535.171964\n",
              "\n",
              "[415 rows x 2 columns]"
            ],
            "text/html": [
              "\n",
              "  <div id=\"df-478d2ec5-e86f-466b-8941-770fbc57a30c\">\n",
              "    <div class=\"colab-df-container\">\n",
              "      <div>\n",
              "<style scoped>\n",
              "    .dataframe tbody tr th:only-of-type {\n",
              "        vertical-align: middle;\n",
              "    }\n",
              "\n",
              "    .dataframe tbody tr th {\n",
              "        vertical-align: top;\n",
              "    }\n",
              "\n",
              "    .dataframe thead th {\n",
              "        text-align: right;\n",
              "    }\n",
              "</style>\n",
              "<table border=\"1\" class=\"dataframe\">\n",
              "  <thead>\n",
              "    <tr style=\"text-align: right;\">\n",
              "      <th></th>\n",
              "      <th>Actual Close</th>\n",
              "      <th>Prediction55</th>\n",
              "    </tr>\n",
              "    <tr>\n",
              "      <th>Date</th>\n",
              "      <th></th>\n",
              "      <th></th>\n",
              "    </tr>\n",
              "  </thead>\n",
              "  <tbody>\n",
              "    <tr>\n",
              "      <th>2020-10-08</th>\n",
              "      <td>3000.0</td>\n",
              "      <td>2985.300463</td>\n",
              "    </tr>\n",
              "    <tr>\n",
              "      <th>2020-10-09</th>\n",
              "      <td>3020.0</td>\n",
              "      <td>2962.514007</td>\n",
              "    </tr>\n",
              "    <tr>\n",
              "      <th>2020-10-12</th>\n",
              "      <td>3060.0</td>\n",
              "      <td>2995.651049</td>\n",
              "    </tr>\n",
              "    <tr>\n",
              "      <th>2020-10-14</th>\n",
              "      <td>3049.0</td>\n",
              "      <td>3041.842483</td>\n",
              "    </tr>\n",
              "    <tr>\n",
              "      <th>2020-10-16</th>\n",
              "      <td>2985.0</td>\n",
              "      <td>3023.817196</td>\n",
              "    </tr>\n",
              "    <tr>\n",
              "      <th>...</th>\n",
              "      <td>...</td>\n",
              "      <td>...</td>\n",
              "    </tr>\n",
              "    <tr>\n",
              "      <th>2022-06-24</th>\n",
              "      <td>4798.0</td>\n",
              "      <td>2566.953304</td>\n",
              "    </tr>\n",
              "    <tr>\n",
              "      <th>2022-06-27</th>\n",
              "      <td>5049.0</td>\n",
              "      <td>2519.427124</td>\n",
              "    </tr>\n",
              "    <tr>\n",
              "      <th>2022-06-28</th>\n",
              "      <td>5159.0</td>\n",
              "      <td>2521.699987</td>\n",
              "    </tr>\n",
              "    <tr>\n",
              "      <th>2022-06-29</th>\n",
              "      <td>5069.0</td>\n",
              "      <td>2560.937684</td>\n",
              "    </tr>\n",
              "    <tr>\n",
              "      <th>2022-06-30</th>\n",
              "      <td>5088.0</td>\n",
              "      <td>2535.171964</td>\n",
              "    </tr>\n",
              "  </tbody>\n",
              "</table>\n",
              "<p>415 rows × 2 columns</p>\n",
              "</div>\n",
              "      <button class=\"colab-df-convert\" onclick=\"convertToInteractive('df-478d2ec5-e86f-466b-8941-770fbc57a30c')\"\n",
              "              title=\"Convert this dataframe to an interactive table.\"\n",
              "              style=\"display:none;\">\n",
              "        \n",
              "  <svg xmlns=\"http://www.w3.org/2000/svg\" height=\"24px\"viewBox=\"0 0 24 24\"\n",
              "       width=\"24px\">\n",
              "    <path d=\"M0 0h24v24H0V0z\" fill=\"none\"/>\n",
              "    <path d=\"M18.56 5.44l.94 2.06.94-2.06 2.06-.94-2.06-.94-.94-2.06-.94 2.06-2.06.94zm-11 1L8.5 8.5l.94-2.06 2.06-.94-2.06-.94L8.5 2.5l-.94 2.06-2.06.94zm10 10l.94 2.06.94-2.06 2.06-.94-2.06-.94-.94-2.06-.94 2.06-2.06.94z\"/><path d=\"M17.41 7.96l-1.37-1.37c-.4-.4-.92-.59-1.43-.59-.52 0-1.04.2-1.43.59L10.3 9.45l-7.72 7.72c-.78.78-.78 2.05 0 2.83L4 21.41c.39.39.9.59 1.41.59.51 0 1.02-.2 1.41-.59l7.78-7.78 2.81-2.81c.8-.78.8-2.07 0-2.86zM5.41 20L4 18.59l7.72-7.72 1.47 1.35L5.41 20z\"/>\n",
              "  </svg>\n",
              "      </button>\n",
              "      \n",
              "  <style>\n",
              "    .colab-df-container {\n",
              "      display:flex;\n",
              "      flex-wrap:wrap;\n",
              "      gap: 12px;\n",
              "    }\n",
              "\n",
              "    .colab-df-convert {\n",
              "      background-color: #E8F0FE;\n",
              "      border: none;\n",
              "      border-radius: 50%;\n",
              "      cursor: pointer;\n",
              "      display: none;\n",
              "      fill: #1967D2;\n",
              "      height: 32px;\n",
              "      padding: 0 0 0 0;\n",
              "      width: 32px;\n",
              "    }\n",
              "\n",
              "    .colab-df-convert:hover {\n",
              "      background-color: #E2EBFA;\n",
              "      box-shadow: 0px 1px 2px rgba(60, 64, 67, 0.3), 0px 1px 3px 1px rgba(60, 64, 67, 0.15);\n",
              "      fill: #174EA6;\n",
              "    }\n",
              "\n",
              "    [theme=dark] .colab-df-convert {\n",
              "      background-color: #3B4455;\n",
              "      fill: #D2E3FC;\n",
              "    }\n",
              "\n",
              "    [theme=dark] .colab-df-convert:hover {\n",
              "      background-color: #434B5C;\n",
              "      box-shadow: 0px 1px 3px 1px rgba(0, 0, 0, 0.15);\n",
              "      filter: drop-shadow(0px 1px 2px rgba(0, 0, 0, 0.3));\n",
              "      fill: #FFFFFF;\n",
              "    }\n",
              "  </style>\n",
              "\n",
              "      <script>\n",
              "        const buttonEl =\n",
              "          document.querySelector('#df-478d2ec5-e86f-466b-8941-770fbc57a30c button.colab-df-convert');\n",
              "        buttonEl.style.display =\n",
              "          google.colab.kernel.accessAllowed ? 'block' : 'none';\n",
              "\n",
              "        async function convertToInteractive(key) {\n",
              "          const element = document.querySelector('#df-478d2ec5-e86f-466b-8941-770fbc57a30c');\n",
              "          const dataTable =\n",
              "            await google.colab.kernel.invokeFunction('convertToInteractive',\n",
              "                                                     [key], {});\n",
              "          if (!dataTable) return;\n",
              "\n",
              "          const docLinkHtml = 'Like what you see? Visit the ' +\n",
              "            '<a target=\"_blank\" href=https://colab.research.google.com/notebooks/data_table.ipynb>data table notebook</a>'\n",
              "            + ' to learn more about interactive tables.';\n",
              "          element.innerHTML = '';\n",
              "          dataTable['output_type'] = 'display_data';\n",
              "          await google.colab.output.renderOutput(dataTable, element);\n",
              "          const docLink = document.createElement('div');\n",
              "          docLink.innerHTML = docLinkHtml;\n",
              "          element.appendChild(docLink);\n",
              "        }\n",
              "      </script>\n",
              "    </div>\n",
              "  </div>\n",
              "  "
            ]
          },
          "metadata": {},
          "execution_count": 18
        }
      ]
    },
    {
      "cell_type": "code",
      "source": [
        "df55['Difference']= df55['Actual Close']-df55['Prediction55']"
      ],
      "metadata": {
        "id": "RihTMP5yIhBw"
      },
      "execution_count": null,
      "outputs": []
    },
    {
      "cell_type": "markdown",
      "source": [
        "## Train-Test Splitting Ratio 6:4"
      ],
      "metadata": {
        "id": "6w_WaM_Np-Kl"
      }
    },
    {
      "cell_type": "code",
      "source": [
        "# split the dataset into two subsets: training set & test set \n",
        "target = target.reshape(len(target), 1)\n",
        "x_train64, x_test64, y_train64, y_test64 = train_test_split(features, target, train_size = 0.60, shuffle = False)\n",
        "\n",
        "# check the shape of x_train, x_test, y_train, y_test\n",
        "x_train64.shape, x_test64.shape, y_train64.shape, y_test64.shape"
      ],
      "metadata": {
        "colab": {
          "base_uri": "https://localhost:8080/"
        },
        "id": "4ncNprgmiPFW",
        "outputId": "2ad8aa2e-bbb0-4710-cbef-67cf7f73726e"
      },
      "execution_count": null,
      "outputs": [
        {
          "output_type": "execute_result",
          "data": {
            "text/plain": [
              "((622, 13), (415, 13), (622, 1), (415, 1))"
            ]
          },
          "metadata": {},
          "execution_count": 20
        }
      ]
    },
    {
      "cell_type": "code",
      "source": [
        "time_index64 = x_test64.reset_index()[['Date']] "
      ],
      "metadata": {
        "id": "bV9drb1tij2p"
      },
      "execution_count": null,
      "outputs": []
    },
    {
      "cell_type": "code",
      "source": [
        "# scale the training data using PowerTransformer()\n",
        "scalerX = PowerTransformer().fit(x_train64)\n",
        "scalerY = PowerTransformer().fit(y_train64)\n",
        "\n",
        "# producing a series with transformed values that has the same axis length.\n",
        "x_train64 = scalerX.transform(x_train64)\n",
        "y_train64 = scalerY.transform(y_train64)\n",
        "x_test64 = scalerX.transform(x_test64)\n",
        "y_test64 = scalerY.transform(y_test64)\n",
        "\n",
        "# change the multi-dimensional array into a contiguous flattened array (same data type as the input array)\n",
        "y_train64 = np.ravel(y_train64) \n",
        "y_test64  = np.ravel(y_test64)"
      ],
      "metadata": {
        "colab": {
          "base_uri": "https://localhost:8080/"
        },
        "id": "avH1ERrIjOz9",
        "outputId": "2433a998-7a70-444d-995d-21dd5fc8ce9d"
      },
      "execution_count": null,
      "outputs": [
        {
          "output_type": "stream",
          "name": "stderr",
          "text": [
            "/usr/local/lib/python3.7/dist-packages/sklearn/preprocessing/_data.py:3253: RuntimeWarning: divide by zero encountered in log\n",
            "  loglike = -n_samples / 2 * np.log(x_trans.var())\n"
          ]
        }
      ]
    },
    {
      "cell_type": "code",
      "source": [
        "# print the regression metrics of the SVR model without hyperparameter optimization (default hyperparameter values are set)\n",
        "from sklearn.svm import SVR\n",
        "svr_model = SVR().fit(x_train64, y_train64)\n",
        "predict64 = svr_model.predict(x_test64)"
      ],
      "metadata": {
        "id": "SEDVN_xvjYHQ"
      },
      "execution_count": null,
      "outputs": []
    },
    {
      "cell_type": "markdown",
      "source": [
        "### Prediction Performance of 6:4"
      ],
      "metadata": {
        "id": "uN6Wg7FI0mmv"
      }
    },
    {
      "cell_type": "code",
      "source": [
        "# back tranform the data\n",
        "transformed_ytest64 = y_test64.reshape(len(y_test64), 1)          # reshape the transformed close price in test set\n",
        "ori_ytest64 = scalerY.inverse_transform(transformed_ytest64)      # transform it back to the actual value \n",
        "transformed_preds64 = predict64.reshape(len(predict64), 1)        # reshape the transformed predicted close price\n",
        "ori_preds64 = scalerY.inverse_transform(transformed_preds64)      # tranform it back to the actual value\n",
        "RegressionMetric(ori_ytest64, ori_preds64)\n"
      ],
      "metadata": {
        "colab": {
          "base_uri": "https://localhost:8080/"
        },
        "id": "hiiSQIJIkhGM",
        "outputId": "4e0d06c6-8abe-4f5f-b6c7-ee6f005251f8"
      },
      "execution_count": null,
      "outputs": [
        {
          "output_type": "stream",
          "name": "stdout",
          "text": [
            "MAE:\t 2196.197261582465\n",
            "MAPE:\t 0.41385475488433615\n",
            "RMSE:\t 2561.5029584541553\n",
            "r2:\t -3.982261031753798\n"
          ]
        }
      ]
    },
    {
      "cell_type": "code",
      "source": [
        "df64 = pd.DataFrame({'Actual Close': ori_ytest64[:, 0],           # create the data frame with the actual and predicted close price\n",
        "                   'Prediction64': ori_preds64[:, 0]})            \n",
        "df64 = pd.concat([time_index64, df64], axis = 1).set_index('Date')   # set 'Date' as the index (easier to read time series plot)\n",
        "df64"
      ],
      "metadata": {
        "colab": {
          "base_uri": "https://localhost:8080/",
          "height": 450
        },
        "id": "XJ2Vx9JT4zPd",
        "outputId": "20140d81-619a-4763-9d02-3bca11639b78"
      },
      "execution_count": null,
      "outputs": [
        {
          "output_type": "execute_result",
          "data": {
            "text/plain": [
              "            Actual Close  Prediction64\n",
              "Date                                  \n",
              "2020-10-08        3000.0   2985.300463\n",
              "2020-10-09        3020.0   2962.514007\n",
              "2020-10-12        3060.0   2995.651049\n",
              "2020-10-14        3049.0   3041.842483\n",
              "2020-10-16        2985.0   3023.817196\n",
              "...                  ...           ...\n",
              "2022-06-24        4798.0   2566.953304\n",
              "2022-06-27        5049.0   2519.427124\n",
              "2022-06-28        5159.0   2521.699987\n",
              "2022-06-29        5069.0   2560.937684\n",
              "2022-06-30        5088.0   2535.171964\n",
              "\n",
              "[415 rows x 2 columns]"
            ],
            "text/html": [
              "\n",
              "  <div id=\"df-c2ac22d6-27e2-46e3-a6e9-f24515d421c6\">\n",
              "    <div class=\"colab-df-container\">\n",
              "      <div>\n",
              "<style scoped>\n",
              "    .dataframe tbody tr th:only-of-type {\n",
              "        vertical-align: middle;\n",
              "    }\n",
              "\n",
              "    .dataframe tbody tr th {\n",
              "        vertical-align: top;\n",
              "    }\n",
              "\n",
              "    .dataframe thead th {\n",
              "        text-align: right;\n",
              "    }\n",
              "</style>\n",
              "<table border=\"1\" class=\"dataframe\">\n",
              "  <thead>\n",
              "    <tr style=\"text-align: right;\">\n",
              "      <th></th>\n",
              "      <th>Actual Close</th>\n",
              "      <th>Prediction64</th>\n",
              "    </tr>\n",
              "    <tr>\n",
              "      <th>Date</th>\n",
              "      <th></th>\n",
              "      <th></th>\n",
              "    </tr>\n",
              "  </thead>\n",
              "  <tbody>\n",
              "    <tr>\n",
              "      <th>2020-10-08</th>\n",
              "      <td>3000.0</td>\n",
              "      <td>2985.300463</td>\n",
              "    </tr>\n",
              "    <tr>\n",
              "      <th>2020-10-09</th>\n",
              "      <td>3020.0</td>\n",
              "      <td>2962.514007</td>\n",
              "    </tr>\n",
              "    <tr>\n",
              "      <th>2020-10-12</th>\n",
              "      <td>3060.0</td>\n",
              "      <td>2995.651049</td>\n",
              "    </tr>\n",
              "    <tr>\n",
              "      <th>2020-10-14</th>\n",
              "      <td>3049.0</td>\n",
              "      <td>3041.842483</td>\n",
              "    </tr>\n",
              "    <tr>\n",
              "      <th>2020-10-16</th>\n",
              "      <td>2985.0</td>\n",
              "      <td>3023.817196</td>\n",
              "    </tr>\n",
              "    <tr>\n",
              "      <th>...</th>\n",
              "      <td>...</td>\n",
              "      <td>...</td>\n",
              "    </tr>\n",
              "    <tr>\n",
              "      <th>2022-06-24</th>\n",
              "      <td>4798.0</td>\n",
              "      <td>2566.953304</td>\n",
              "    </tr>\n",
              "    <tr>\n",
              "      <th>2022-06-27</th>\n",
              "      <td>5049.0</td>\n",
              "      <td>2519.427124</td>\n",
              "    </tr>\n",
              "    <tr>\n",
              "      <th>2022-06-28</th>\n",
              "      <td>5159.0</td>\n",
              "      <td>2521.699987</td>\n",
              "    </tr>\n",
              "    <tr>\n",
              "      <th>2022-06-29</th>\n",
              "      <td>5069.0</td>\n",
              "      <td>2560.937684</td>\n",
              "    </tr>\n",
              "    <tr>\n",
              "      <th>2022-06-30</th>\n",
              "      <td>5088.0</td>\n",
              "      <td>2535.171964</td>\n",
              "    </tr>\n",
              "  </tbody>\n",
              "</table>\n",
              "<p>415 rows × 2 columns</p>\n",
              "</div>\n",
              "      <button class=\"colab-df-convert\" onclick=\"convertToInteractive('df-c2ac22d6-27e2-46e3-a6e9-f24515d421c6')\"\n",
              "              title=\"Convert this dataframe to an interactive table.\"\n",
              "              style=\"display:none;\">\n",
              "        \n",
              "  <svg xmlns=\"http://www.w3.org/2000/svg\" height=\"24px\"viewBox=\"0 0 24 24\"\n",
              "       width=\"24px\">\n",
              "    <path d=\"M0 0h24v24H0V0z\" fill=\"none\"/>\n",
              "    <path d=\"M18.56 5.44l.94 2.06.94-2.06 2.06-.94-2.06-.94-.94-2.06-.94 2.06-2.06.94zm-11 1L8.5 8.5l.94-2.06 2.06-.94-2.06-.94L8.5 2.5l-.94 2.06-2.06.94zm10 10l.94 2.06.94-2.06 2.06-.94-2.06-.94-.94-2.06-.94 2.06-2.06.94z\"/><path d=\"M17.41 7.96l-1.37-1.37c-.4-.4-.92-.59-1.43-.59-.52 0-1.04.2-1.43.59L10.3 9.45l-7.72 7.72c-.78.78-.78 2.05 0 2.83L4 21.41c.39.39.9.59 1.41.59.51 0 1.02-.2 1.41-.59l7.78-7.78 2.81-2.81c.8-.78.8-2.07 0-2.86zM5.41 20L4 18.59l7.72-7.72 1.47 1.35L5.41 20z\"/>\n",
              "  </svg>\n",
              "      </button>\n",
              "      \n",
              "  <style>\n",
              "    .colab-df-container {\n",
              "      display:flex;\n",
              "      flex-wrap:wrap;\n",
              "      gap: 12px;\n",
              "    }\n",
              "\n",
              "    .colab-df-convert {\n",
              "      background-color: #E8F0FE;\n",
              "      border: none;\n",
              "      border-radius: 50%;\n",
              "      cursor: pointer;\n",
              "      display: none;\n",
              "      fill: #1967D2;\n",
              "      height: 32px;\n",
              "      padding: 0 0 0 0;\n",
              "      width: 32px;\n",
              "    }\n",
              "\n",
              "    .colab-df-convert:hover {\n",
              "      background-color: #E2EBFA;\n",
              "      box-shadow: 0px 1px 2px rgba(60, 64, 67, 0.3), 0px 1px 3px 1px rgba(60, 64, 67, 0.15);\n",
              "      fill: #174EA6;\n",
              "    }\n",
              "\n",
              "    [theme=dark] .colab-df-convert {\n",
              "      background-color: #3B4455;\n",
              "      fill: #D2E3FC;\n",
              "    }\n",
              "\n",
              "    [theme=dark] .colab-df-convert:hover {\n",
              "      background-color: #434B5C;\n",
              "      box-shadow: 0px 1px 3px 1px rgba(0, 0, 0, 0.15);\n",
              "      filter: drop-shadow(0px 1px 2px rgba(0, 0, 0, 0.3));\n",
              "      fill: #FFFFFF;\n",
              "    }\n",
              "  </style>\n",
              "\n",
              "      <script>\n",
              "        const buttonEl =\n",
              "          document.querySelector('#df-c2ac22d6-27e2-46e3-a6e9-f24515d421c6 button.colab-df-convert');\n",
              "        buttonEl.style.display =\n",
              "          google.colab.kernel.accessAllowed ? 'block' : 'none';\n",
              "\n",
              "        async function convertToInteractive(key) {\n",
              "          const element = document.querySelector('#df-c2ac22d6-27e2-46e3-a6e9-f24515d421c6');\n",
              "          const dataTable =\n",
              "            await google.colab.kernel.invokeFunction('convertToInteractive',\n",
              "                                                     [key], {});\n",
              "          if (!dataTable) return;\n",
              "\n",
              "          const docLinkHtml = 'Like what you see? Visit the ' +\n",
              "            '<a target=\"_blank\" href=https://colab.research.google.com/notebooks/data_table.ipynb>data table notebook</a>'\n",
              "            + ' to learn more about interactive tables.';\n",
              "          element.innerHTML = '';\n",
              "          dataTable['output_type'] = 'display_data';\n",
              "          await google.colab.output.renderOutput(dataTable, element);\n",
              "          const docLink = document.createElement('div');\n",
              "          docLink.innerHTML = docLinkHtml;\n",
              "          element.appendChild(docLink);\n",
              "        }\n",
              "      </script>\n",
              "    </div>\n",
              "  </div>\n",
              "  "
            ]
          },
          "metadata": {},
          "execution_count": 25
        }
      ]
    },
    {
      "cell_type": "code",
      "source": [
        "df64['Difference']= df64['Actual Close']-df64['Prediction64']"
      ],
      "metadata": {
        "id": "k6QCO9LxF8kW"
      },
      "execution_count": null,
      "outputs": []
    },
    {
      "cell_type": "markdown",
      "source": [
        "## Train-Test Splitting Ratio 7:3"
      ],
      "metadata": {
        "id": "YSk2DRUDk-uf"
      }
    },
    {
      "cell_type": "code",
      "source": [
        "# split the dataset into two subsets: training set & test set \n",
        "target = target.reshape(len(target), 1)\n",
        "x_train73, x_test73, y_train73, y_test73 = train_test_split(features, target, train_size = 0.70, shuffle = False)\n",
        "\n",
        "# check the shape of x_train, x_test, y_train, y_test\n",
        "x_train73.shape, x_test73.shape, y_train73.shape, y_test73.shape"
      ],
      "metadata": {
        "colab": {
          "base_uri": "https://localhost:8080/"
        },
        "id": "MBYCRrNUk_pU",
        "outputId": "da165c3b-b7eb-49d9-de6b-908c65471f65"
      },
      "execution_count": null,
      "outputs": [
        {
          "output_type": "execute_result",
          "data": {
            "text/plain": [
              "((725, 13), (312, 13), (725, 1), (312, 1))"
            ]
          },
          "metadata": {},
          "execution_count": 27
        }
      ]
    },
    {
      "cell_type": "code",
      "source": [
        "time_index73 = x_test73.reset_index()[['Date']] "
      ],
      "metadata": {
        "id": "p-mac2-Rly_H"
      },
      "execution_count": null,
      "outputs": []
    },
    {
      "cell_type": "code",
      "source": [
        "# scale the training data using PowerTransformer()\n",
        "scalerX = PowerTransformer().fit(x_train73)\n",
        "scalerY = PowerTransformer().fit(y_train73)\n",
        "\n",
        "# producing a series with transformed values that has the same axis length.\n",
        "x_train73 = scalerX.transform(x_train73)\n",
        "y_train73 = scalerY.transform(y_train73)\n",
        "x_test73 = scalerX.transform(x_test73)\n",
        "y_test73 = scalerY.transform(y_test73)\n",
        "\n",
        "# change the multi-dimensional array into a contiguous flattened array (same data type as the input array)\n",
        "y_train73 = np.ravel(y_train73) \n",
        "y_test73 = np.ravel(y_test73)"
      ],
      "metadata": {
        "colab": {
          "base_uri": "https://localhost:8080/"
        },
        "id": "clCwNbYElIU7",
        "outputId": "9843c6ff-a5de-4397-b5f2-618c5ff0803b"
      },
      "execution_count": null,
      "outputs": [
        {
          "output_type": "stream",
          "name": "stderr",
          "text": [
            "/usr/local/lib/python3.7/dist-packages/sklearn/preprocessing/_data.py:3253: RuntimeWarning: divide by zero encountered in log\n",
            "  loglike = -n_samples / 2 * np.log(x_trans.var())\n"
          ]
        }
      ]
    },
    {
      "cell_type": "code",
      "source": [
        "# print the regression metrics of the SVR model without hyperparameter optimization (default hyperparameter values are set)\n",
        "from sklearn.svm import SVR\n",
        "svr_model = SVR().fit(x_train73, y_train73)\n",
        "predict73 = svr_model.predict(x_test73)"
      ],
      "metadata": {
        "id": "9vdOB8bKlY9n"
      },
      "execution_count": null,
      "outputs": []
    },
    {
      "cell_type": "markdown",
      "source": [
        "### Prediction Performance of 7:3"
      ],
      "metadata": {
        "id": "viLA1f2C06sQ"
      }
    },
    {
      "cell_type": "code",
      "source": [
        "# back tranform the data\n",
        "transformed_ytest73 = y_test73.reshape(len(y_test73), 1)            # reshape the transformed close price in test set\n",
        "ori_ytest73 = scalerY.inverse_transform(transformed_ytest73)      # transform it back to the actual value \n",
        "transformed_preds73 = predict73.reshape(len(predict73), 1)          # reshape the transformed predicted close price\n",
        "ori_preds73 = scalerY.inverse_transform(transformed_preds73)      # tranform it back to the actual value\n",
        "RegressionMetric(ori_ytest73, ori_preds73)\n"
      ],
      "metadata": {
        "colab": {
          "base_uri": "https://localhost:8080/"
        },
        "id": "NL4yNKY9leRs",
        "outputId": "2ef10235-ebe6-4bc3-b921-606d2655b5c3"
      },
      "execution_count": null,
      "outputs": [
        {
          "output_type": "stream",
          "name": "stdout",
          "text": [
            "MAE:\t 1529.1835452785763\n",
            "MAPE:\t 0.26485553441454474\n",
            "RMSE:\t 1884.0697555821016\n",
            "r2:\t -2.2978878668585767\n"
          ]
        }
      ]
    },
    {
      "cell_type": "code",
      "source": [
        "df73 = pd.DataFrame({'Actual Close': ori_ytest73[:, 0],           # create the data frame with the actual and predicted close price\n",
        "                   'Prediction73': ori_preds73[:, 0]})            \n",
        "df73 = pd.concat([time_index73, df73], axis = 1).set_index('Date')   # set 'Date' as the index (easier to read time series plot)\n",
        "df73"
      ],
      "metadata": {
        "colab": {
          "base_uri": "https://localhost:8080/",
          "height": 450
        },
        "id": "KoREEnWT6mX5",
        "outputId": "c18dd5f3-d388-4d16-d65f-f6fd0109a7e4"
      },
      "execution_count": null,
      "outputs": [
        {
          "output_type": "execute_result",
          "data": {
            "text/plain": [
              "            Actual Close  Prediction73\n",
              "Date                                  \n",
              "2021-03-16   4170.000004   3997.110732\n",
              "2021-03-17   4200.000003   3979.249913\n",
              "2021-03-18   4080.000002   4188.647799\n",
              "2021-03-19   4012.999999   3717.260568\n",
              "2021-03-22   4137.999998   3494.832533\n",
              "...                  ...           ...\n",
              "2022-06-24   4798.000004   3546.612129\n",
              "2022-06-27   5048.999980   3285.686800\n",
              "2022-06-28   5158.999996   3290.257533\n",
              "2022-06-29   5069.000004   3565.171277\n",
              "2022-06-30   5088.000001   3480.676035\n",
              "\n",
              "[312 rows x 2 columns]"
            ],
            "text/html": [
              "\n",
              "  <div id=\"df-756cad7f-2633-4ac3-b44e-a263154c6f5c\">\n",
              "    <div class=\"colab-df-container\">\n",
              "      <div>\n",
              "<style scoped>\n",
              "    .dataframe tbody tr th:only-of-type {\n",
              "        vertical-align: middle;\n",
              "    }\n",
              "\n",
              "    .dataframe tbody tr th {\n",
              "        vertical-align: top;\n",
              "    }\n",
              "\n",
              "    .dataframe thead th {\n",
              "        text-align: right;\n",
              "    }\n",
              "</style>\n",
              "<table border=\"1\" class=\"dataframe\">\n",
              "  <thead>\n",
              "    <tr style=\"text-align: right;\">\n",
              "      <th></th>\n",
              "      <th>Actual Close</th>\n",
              "      <th>Prediction73</th>\n",
              "    </tr>\n",
              "    <tr>\n",
              "      <th>Date</th>\n",
              "      <th></th>\n",
              "      <th></th>\n",
              "    </tr>\n",
              "  </thead>\n",
              "  <tbody>\n",
              "    <tr>\n",
              "      <th>2021-03-16</th>\n",
              "      <td>4170.000004</td>\n",
              "      <td>3997.110732</td>\n",
              "    </tr>\n",
              "    <tr>\n",
              "      <th>2021-03-17</th>\n",
              "      <td>4200.000003</td>\n",
              "      <td>3979.249913</td>\n",
              "    </tr>\n",
              "    <tr>\n",
              "      <th>2021-03-18</th>\n",
              "      <td>4080.000002</td>\n",
              "      <td>4188.647799</td>\n",
              "    </tr>\n",
              "    <tr>\n",
              "      <th>2021-03-19</th>\n",
              "      <td>4012.999999</td>\n",
              "      <td>3717.260568</td>\n",
              "    </tr>\n",
              "    <tr>\n",
              "      <th>2021-03-22</th>\n",
              "      <td>4137.999998</td>\n",
              "      <td>3494.832533</td>\n",
              "    </tr>\n",
              "    <tr>\n",
              "      <th>...</th>\n",
              "      <td>...</td>\n",
              "      <td>...</td>\n",
              "    </tr>\n",
              "    <tr>\n",
              "      <th>2022-06-24</th>\n",
              "      <td>4798.000004</td>\n",
              "      <td>3546.612129</td>\n",
              "    </tr>\n",
              "    <tr>\n",
              "      <th>2022-06-27</th>\n",
              "      <td>5048.999980</td>\n",
              "      <td>3285.686800</td>\n",
              "    </tr>\n",
              "    <tr>\n",
              "      <th>2022-06-28</th>\n",
              "      <td>5158.999996</td>\n",
              "      <td>3290.257533</td>\n",
              "    </tr>\n",
              "    <tr>\n",
              "      <th>2022-06-29</th>\n",
              "      <td>5069.000004</td>\n",
              "      <td>3565.171277</td>\n",
              "    </tr>\n",
              "    <tr>\n",
              "      <th>2022-06-30</th>\n",
              "      <td>5088.000001</td>\n",
              "      <td>3480.676035</td>\n",
              "    </tr>\n",
              "  </tbody>\n",
              "</table>\n",
              "<p>312 rows × 2 columns</p>\n",
              "</div>\n",
              "      <button class=\"colab-df-convert\" onclick=\"convertToInteractive('df-756cad7f-2633-4ac3-b44e-a263154c6f5c')\"\n",
              "              title=\"Convert this dataframe to an interactive table.\"\n",
              "              style=\"display:none;\">\n",
              "        \n",
              "  <svg xmlns=\"http://www.w3.org/2000/svg\" height=\"24px\"viewBox=\"0 0 24 24\"\n",
              "       width=\"24px\">\n",
              "    <path d=\"M0 0h24v24H0V0z\" fill=\"none\"/>\n",
              "    <path d=\"M18.56 5.44l.94 2.06.94-2.06 2.06-.94-2.06-.94-.94-2.06-.94 2.06-2.06.94zm-11 1L8.5 8.5l.94-2.06 2.06-.94-2.06-.94L8.5 2.5l-.94 2.06-2.06.94zm10 10l.94 2.06.94-2.06 2.06-.94-2.06-.94-.94-2.06-.94 2.06-2.06.94z\"/><path d=\"M17.41 7.96l-1.37-1.37c-.4-.4-.92-.59-1.43-.59-.52 0-1.04.2-1.43.59L10.3 9.45l-7.72 7.72c-.78.78-.78 2.05 0 2.83L4 21.41c.39.39.9.59 1.41.59.51 0 1.02-.2 1.41-.59l7.78-7.78 2.81-2.81c.8-.78.8-2.07 0-2.86zM5.41 20L4 18.59l7.72-7.72 1.47 1.35L5.41 20z\"/>\n",
              "  </svg>\n",
              "      </button>\n",
              "      \n",
              "  <style>\n",
              "    .colab-df-container {\n",
              "      display:flex;\n",
              "      flex-wrap:wrap;\n",
              "      gap: 12px;\n",
              "    }\n",
              "\n",
              "    .colab-df-convert {\n",
              "      background-color: #E8F0FE;\n",
              "      border: none;\n",
              "      border-radius: 50%;\n",
              "      cursor: pointer;\n",
              "      display: none;\n",
              "      fill: #1967D2;\n",
              "      height: 32px;\n",
              "      padding: 0 0 0 0;\n",
              "      width: 32px;\n",
              "    }\n",
              "\n",
              "    .colab-df-convert:hover {\n",
              "      background-color: #E2EBFA;\n",
              "      box-shadow: 0px 1px 2px rgba(60, 64, 67, 0.3), 0px 1px 3px 1px rgba(60, 64, 67, 0.15);\n",
              "      fill: #174EA6;\n",
              "    }\n",
              "\n",
              "    [theme=dark] .colab-df-convert {\n",
              "      background-color: #3B4455;\n",
              "      fill: #D2E3FC;\n",
              "    }\n",
              "\n",
              "    [theme=dark] .colab-df-convert:hover {\n",
              "      background-color: #434B5C;\n",
              "      box-shadow: 0px 1px 3px 1px rgba(0, 0, 0, 0.15);\n",
              "      filter: drop-shadow(0px 1px 2px rgba(0, 0, 0, 0.3));\n",
              "      fill: #FFFFFF;\n",
              "    }\n",
              "  </style>\n",
              "\n",
              "      <script>\n",
              "        const buttonEl =\n",
              "          document.querySelector('#df-756cad7f-2633-4ac3-b44e-a263154c6f5c button.colab-df-convert');\n",
              "        buttonEl.style.display =\n",
              "          google.colab.kernel.accessAllowed ? 'block' : 'none';\n",
              "\n",
              "        async function convertToInteractive(key) {\n",
              "          const element = document.querySelector('#df-756cad7f-2633-4ac3-b44e-a263154c6f5c');\n",
              "          const dataTable =\n",
              "            await google.colab.kernel.invokeFunction('convertToInteractive',\n",
              "                                                     [key], {});\n",
              "          if (!dataTable) return;\n",
              "\n",
              "          const docLinkHtml = 'Like what you see? Visit the ' +\n",
              "            '<a target=\"_blank\" href=https://colab.research.google.com/notebooks/data_table.ipynb>data table notebook</a>'\n",
              "            + ' to learn more about interactive tables.';\n",
              "          element.innerHTML = '';\n",
              "          dataTable['output_type'] = 'display_data';\n",
              "          await google.colab.output.renderOutput(dataTable, element);\n",
              "          const docLink = document.createElement('div');\n",
              "          docLink.innerHTML = docLinkHtml;\n",
              "          element.appendChild(docLink);\n",
              "        }\n",
              "      </script>\n",
              "    </div>\n",
              "  </div>\n",
              "  "
            ]
          },
          "metadata": {},
          "execution_count": 32
        }
      ]
    },
    {
      "cell_type": "code",
      "source": [
        "df73['Difference']= df73['Actual Close']-df73['Prediction73']"
      ],
      "metadata": {
        "id": "2GCyp47s6SSP"
      },
      "execution_count": null,
      "outputs": []
    },
    {
      "cell_type": "markdown",
      "source": [
        "## Train-Test Splitting Ratio 8:2"
      ],
      "metadata": {
        "id": "QgKLHmnrnJQh"
      }
    },
    {
      "cell_type": "code",
      "source": [
        "# split the dataset into two subsets: training set & test set \n",
        "target = target.reshape(len(target), 1)\n",
        "x_train82, x_test82, y_train82, y_test82 = train_test_split(features, target, train_size = 0.80, shuffle = False)\n",
        "\n",
        "# check the shape of x_train, x_test, y_train, y_test\n",
        "x_train82.shape, x_test82.shape, y_train82.shape, y_test82.shape"
      ],
      "metadata": {
        "id": "g6Ft3Q4CnLza",
        "colab": {
          "base_uri": "https://localhost:8080/"
        },
        "outputId": "cc2dd0b5-16e8-45d1-b410-84b8390ae710"
      },
      "execution_count": null,
      "outputs": [
        {
          "output_type": "execute_result",
          "data": {
            "text/plain": [
              "((829, 13), (208, 13), (829, 1), (208, 1))"
            ]
          },
          "metadata": {},
          "execution_count": 34
        }
      ]
    },
    {
      "cell_type": "code",
      "source": [
        "time_index82 = x_test82.reset_index()[['Date']] "
      ],
      "metadata": {
        "id": "Z2k4v_hWnc-u"
      },
      "execution_count": null,
      "outputs": []
    },
    {
      "cell_type": "code",
      "source": [
        "# scale the training data using PowerTransformer()\n",
        "scalerX = PowerTransformer().fit(x_train82)\n",
        "scalerY = PowerTransformer().fit(y_train82)\n",
        "\n",
        "# producing a series with transformed values that has the same axis length.\n",
        "x_train82 = scalerX.transform(x_train82)\n",
        "y_train82 = scalerY.transform(y_train82)\n",
        "x_test82 = scalerX.transform(x_test82)\n",
        "y_test82 = scalerY.transform(y_test82)\n",
        "\n",
        "# change the multi-dimensional array into a contiguous flattened array (same data type as the input array)\n",
        "y_train82 = np.ravel(y_train82) \n",
        "y_test82 = np.ravel(y_test82)"
      ],
      "metadata": {
        "id": "FwGREJt4n6PO"
      },
      "execution_count": null,
      "outputs": []
    },
    {
      "cell_type": "code",
      "source": [
        "# print the regression metrics of the SVR model without hyperparameter optimization (default hyperparameter values are set)\n",
        "from sklearn.svm import SVR\n",
        "svr_model = SVR().fit(x_train82, y_train82)\n",
        "predict82 = svr_model.predict(x_test82)"
      ],
      "metadata": {
        "id": "d7ST8HwvnlUl"
      },
      "execution_count": null,
      "outputs": []
    },
    {
      "cell_type": "markdown",
      "source": [
        "### Prediction Performance 8:2"
      ],
      "metadata": {
        "id": "D5iecad42jVq"
      }
    },
    {
      "cell_type": "code",
      "source": [
        "# back tranform the data\n",
        "transformed_ytest82 = y_test82.reshape(len(y_test82), 1)            # reshape the transformed close price in test set\n",
        "ori_ytest82 = scalerY.inverse_transform(transformed_ytest82)      # transform it back to the actual value \n",
        "transformed_preds82 = predict82.reshape(len(predict82), 1)          # reshape the transformed predicted close price\n",
        "ori_preds82 = scalerY.inverse_transform(transformed_preds82)      # tranform it back to the actual value\n",
        "RegressionMetric(ori_ytest82, ori_preds82)"
      ],
      "metadata": {
        "colab": {
          "base_uri": "https://localhost:8080/"
        },
        "id": "5U3CZThooJjj",
        "outputId": "5d252b8c-c465-40b1-f323-17cd4cdd19d6"
      },
      "execution_count": null,
      "outputs": [
        {
          "output_type": "stream",
          "name": "stdout",
          "text": [
            "MAE:\t 1546.9972364812716\n",
            "MAPE:\t 0.24996940112065633\n",
            "RMSE:\t 1859.813737539173\n",
            "r2:\t -3.281610608300042\n"
          ]
        }
      ]
    },
    {
      "cell_type": "code",
      "source": [
        "df82 = pd.DataFrame({'Actual Close': ori_ytest82[:, 0],           # create the data frame with the actual and predicted close price\n",
        "                      'Prediction82': ori_preds82[:, 0]})            \n",
        "df82 = pd.concat([time_index82, df82], axis = 1).set_index('Date')   # set 'Date' as the index (easier to read time series plot)\n",
        "df82"
      ],
      "metadata": {
        "colab": {
          "base_uri": "https://localhost:8080/",
          "height": 450
        },
        "id": "BIaMvDkTHvex",
        "outputId": "c9e9e99e-3da9-481a-8fb4-adc8f07a4868"
      },
      "execution_count": null,
      "outputs": [
        {
          "output_type": "execute_result",
          "data": {
            "text/plain": [
              "            Actual Close  Prediction82\n",
              "Date                                  \n",
              "2021-08-23   4552.000000   4308.258527\n",
              "2021-08-24   4529.000000   4545.321426\n",
              "2021-08-25   4589.000000   4516.265602\n",
              "2021-08-26   4599.000000   4445.974459\n",
              "2021-08-27   4559.999999   4332.374016\n",
              "...                  ...           ...\n",
              "2022-06-24   4798.000000   4052.961760\n",
              "2022-06-27   5049.000000   4004.714905\n",
              "2022-06-28   5159.000000   3894.070075\n",
              "2022-06-29   5069.000001   4203.865753\n",
              "2022-06-30   5088.000001   4277.160772\n",
              "\n",
              "[208 rows x 2 columns]"
            ],
            "text/html": [
              "\n",
              "  <div id=\"df-fef0185e-ec66-4a05-bca6-33f7411abeb8\">\n",
              "    <div class=\"colab-df-container\">\n",
              "      <div>\n",
              "<style scoped>\n",
              "    .dataframe tbody tr th:only-of-type {\n",
              "        vertical-align: middle;\n",
              "    }\n",
              "\n",
              "    .dataframe tbody tr th {\n",
              "        vertical-align: top;\n",
              "    }\n",
              "\n",
              "    .dataframe thead th {\n",
              "        text-align: right;\n",
              "    }\n",
              "</style>\n",
              "<table border=\"1\" class=\"dataframe\">\n",
              "  <thead>\n",
              "    <tr style=\"text-align: right;\">\n",
              "      <th></th>\n",
              "      <th>Actual Close</th>\n",
              "      <th>Prediction82</th>\n",
              "    </tr>\n",
              "    <tr>\n",
              "      <th>Date</th>\n",
              "      <th></th>\n",
              "      <th></th>\n",
              "    </tr>\n",
              "  </thead>\n",
              "  <tbody>\n",
              "    <tr>\n",
              "      <th>2021-08-23</th>\n",
              "      <td>4552.000000</td>\n",
              "      <td>4308.258527</td>\n",
              "    </tr>\n",
              "    <tr>\n",
              "      <th>2021-08-24</th>\n",
              "      <td>4529.000000</td>\n",
              "      <td>4545.321426</td>\n",
              "    </tr>\n",
              "    <tr>\n",
              "      <th>2021-08-25</th>\n",
              "      <td>4589.000000</td>\n",
              "      <td>4516.265602</td>\n",
              "    </tr>\n",
              "    <tr>\n",
              "      <th>2021-08-26</th>\n",
              "      <td>4599.000000</td>\n",
              "      <td>4445.974459</td>\n",
              "    </tr>\n",
              "    <tr>\n",
              "      <th>2021-08-27</th>\n",
              "      <td>4559.999999</td>\n",
              "      <td>4332.374016</td>\n",
              "    </tr>\n",
              "    <tr>\n",
              "      <th>...</th>\n",
              "      <td>...</td>\n",
              "      <td>...</td>\n",
              "    </tr>\n",
              "    <tr>\n",
              "      <th>2022-06-24</th>\n",
              "      <td>4798.000000</td>\n",
              "      <td>4052.961760</td>\n",
              "    </tr>\n",
              "    <tr>\n",
              "      <th>2022-06-27</th>\n",
              "      <td>5049.000000</td>\n",
              "      <td>4004.714905</td>\n",
              "    </tr>\n",
              "    <tr>\n",
              "      <th>2022-06-28</th>\n",
              "      <td>5159.000000</td>\n",
              "      <td>3894.070075</td>\n",
              "    </tr>\n",
              "    <tr>\n",
              "      <th>2022-06-29</th>\n",
              "      <td>5069.000001</td>\n",
              "      <td>4203.865753</td>\n",
              "    </tr>\n",
              "    <tr>\n",
              "      <th>2022-06-30</th>\n",
              "      <td>5088.000001</td>\n",
              "      <td>4277.160772</td>\n",
              "    </tr>\n",
              "  </tbody>\n",
              "</table>\n",
              "<p>208 rows × 2 columns</p>\n",
              "</div>\n",
              "      <button class=\"colab-df-convert\" onclick=\"convertToInteractive('df-fef0185e-ec66-4a05-bca6-33f7411abeb8')\"\n",
              "              title=\"Convert this dataframe to an interactive table.\"\n",
              "              style=\"display:none;\">\n",
              "        \n",
              "  <svg xmlns=\"http://www.w3.org/2000/svg\" height=\"24px\"viewBox=\"0 0 24 24\"\n",
              "       width=\"24px\">\n",
              "    <path d=\"M0 0h24v24H0V0z\" fill=\"none\"/>\n",
              "    <path d=\"M18.56 5.44l.94 2.06.94-2.06 2.06-.94-2.06-.94-.94-2.06-.94 2.06-2.06.94zm-11 1L8.5 8.5l.94-2.06 2.06-.94-2.06-.94L8.5 2.5l-.94 2.06-2.06.94zm10 10l.94 2.06.94-2.06 2.06-.94-2.06-.94-.94-2.06-.94 2.06-2.06.94z\"/><path d=\"M17.41 7.96l-1.37-1.37c-.4-.4-.92-.59-1.43-.59-.52 0-1.04.2-1.43.59L10.3 9.45l-7.72 7.72c-.78.78-.78 2.05 0 2.83L4 21.41c.39.39.9.59 1.41.59.51 0 1.02-.2 1.41-.59l7.78-7.78 2.81-2.81c.8-.78.8-2.07 0-2.86zM5.41 20L4 18.59l7.72-7.72 1.47 1.35L5.41 20z\"/>\n",
              "  </svg>\n",
              "      </button>\n",
              "      \n",
              "  <style>\n",
              "    .colab-df-container {\n",
              "      display:flex;\n",
              "      flex-wrap:wrap;\n",
              "      gap: 12px;\n",
              "    }\n",
              "\n",
              "    .colab-df-convert {\n",
              "      background-color: #E8F0FE;\n",
              "      border: none;\n",
              "      border-radius: 50%;\n",
              "      cursor: pointer;\n",
              "      display: none;\n",
              "      fill: #1967D2;\n",
              "      height: 32px;\n",
              "      padding: 0 0 0 0;\n",
              "      width: 32px;\n",
              "    }\n",
              "\n",
              "    .colab-df-convert:hover {\n",
              "      background-color: #E2EBFA;\n",
              "      box-shadow: 0px 1px 2px rgba(60, 64, 67, 0.3), 0px 1px 3px 1px rgba(60, 64, 67, 0.15);\n",
              "      fill: #174EA6;\n",
              "    }\n",
              "\n",
              "    [theme=dark] .colab-df-convert {\n",
              "      background-color: #3B4455;\n",
              "      fill: #D2E3FC;\n",
              "    }\n",
              "\n",
              "    [theme=dark] .colab-df-convert:hover {\n",
              "      background-color: #434B5C;\n",
              "      box-shadow: 0px 1px 3px 1px rgba(0, 0, 0, 0.15);\n",
              "      filter: drop-shadow(0px 1px 2px rgba(0, 0, 0, 0.3));\n",
              "      fill: #FFFFFF;\n",
              "    }\n",
              "  </style>\n",
              "\n",
              "      <script>\n",
              "        const buttonEl =\n",
              "          document.querySelector('#df-fef0185e-ec66-4a05-bca6-33f7411abeb8 button.colab-df-convert');\n",
              "        buttonEl.style.display =\n",
              "          google.colab.kernel.accessAllowed ? 'block' : 'none';\n",
              "\n",
              "        async function convertToInteractive(key) {\n",
              "          const element = document.querySelector('#df-fef0185e-ec66-4a05-bca6-33f7411abeb8');\n",
              "          const dataTable =\n",
              "            await google.colab.kernel.invokeFunction('convertToInteractive',\n",
              "                                                     [key], {});\n",
              "          if (!dataTable) return;\n",
              "\n",
              "          const docLinkHtml = 'Like what you see? Visit the ' +\n",
              "            '<a target=\"_blank\" href=https://colab.research.google.com/notebooks/data_table.ipynb>data table notebook</a>'\n",
              "            + ' to learn more about interactive tables.';\n",
              "          element.innerHTML = '';\n",
              "          dataTable['output_type'] = 'display_data';\n",
              "          await google.colab.output.renderOutput(dataTable, element);\n",
              "          const docLink = document.createElement('div');\n",
              "          docLink.innerHTML = docLinkHtml;\n",
              "          element.appendChild(docLink);\n",
              "        }\n",
              "      </script>\n",
              "    </div>\n",
              "  </div>\n",
              "  "
            ]
          },
          "metadata": {},
          "execution_count": 39
        }
      ]
    },
    {
      "cell_type": "code",
      "source": [
        "df82['Difference']= df82['Actual Close']-df82['Prediction82']"
      ],
      "metadata": {
        "id": "iLwNaVdt6zAt"
      },
      "execution_count": null,
      "outputs": []
    },
    {
      "cell_type": "markdown",
      "source": [
        "## Train-Test Splitting Ratio 1:9 (Original Model)"
      ],
      "metadata": {
        "id": "Cl21Y52t5Zs0"
      }
    },
    {
      "cell_type": "code",
      "source": [
        "# split the dataset into two subsets: training set & test set \n",
        "target= target.reshape(len(target), 1)\n",
        "x_train19, x_test19, y_train19, y_test19 = train_test_split(features, target, train_size = 0.10, shuffle = False)\n",
        "\n",
        "# check the shape of x_train, x_test, y_train, y_test\n",
        "x_train19.shape, x_test19.shape, y_train19.shape, y_test19.shape"
      ],
      "metadata": {
        "colab": {
          "base_uri": "https://localhost:8080/"
        },
        "id": "JMi0VDVQ50g0",
        "outputId": "3a434663-8deb-4996-e122-5a08556c6634"
      },
      "execution_count": null,
      "outputs": [
        {
          "output_type": "execute_result",
          "data": {
            "text/plain": [
              "((103, 13), (934, 13), (103, 1), (934, 1))"
            ]
          },
          "metadata": {},
          "execution_count": 41
        }
      ]
    },
    {
      "cell_type": "code",
      "source": [
        "time_index19 = x_test19.reset_index()[['Date']] "
      ],
      "metadata": {
        "id": "KWpSblsJ50Qw"
      },
      "execution_count": null,
      "outputs": []
    },
    {
      "cell_type": "code",
      "source": [
        "# scale the training data using PowerTransformer()\n",
        "scalerX = PowerTransformer().fit(x_train19)\n",
        "scalerY = PowerTransformer().fit(y_train19)\n",
        "\n",
        "# producing a series with transformed values that has the same axis length.\n",
        "x_train19 = scalerX.transform(x_train19)\n",
        "y_train19 = scalerY.transform(y_train19)\n",
        "x_test19 = scalerX.transform(x_test19)\n",
        "y_test19 = scalerY.transform(y_test19)\n",
        "\n",
        "# change the multi-dimensional array into a contiguous flattened array (same data type as the input array)\n",
        "y_train19 = np.ravel(y_train19) \n",
        "y_test19 = np.ravel(y_test19)"
      ],
      "metadata": {
        "colab": {
          "base_uri": "https://localhost:8080/"
        },
        "id": "cD49BfuV6KUI",
        "outputId": "157c3fbe-5777-416b-f337-4316f31822f9"
      },
      "execution_count": null,
      "outputs": [
        {
          "output_type": "stream",
          "name": "stderr",
          "text": [
            "/usr/local/lib/python3.7/dist-packages/sklearn/preprocessing/_data.py:3253: RuntimeWarning: divide by zero encountered in log\n",
            "  loglike = -n_samples / 2 * np.log(x_trans.var())\n"
          ]
        }
      ]
    },
    {
      "cell_type": "code",
      "source": [
        "# print the regression metrics of the SVR model without hyperparameter optimization (default hyperparameter values are set)\n",
        "from sklearn.svm import SVR\n",
        "svr_model = SVR().fit(x_train19, y_train19)\n",
        "predict19 = svr_model.predict(x_test19)"
      ],
      "metadata": {
        "id": "wovY30hR6xqo"
      },
      "execution_count": null,
      "outputs": []
    },
    {
      "cell_type": "markdown",
      "source": [
        "### Prediction Performance 1:9"
      ],
      "metadata": {
        "id": "co5eZUBj2o2i"
      }
    },
    {
      "cell_type": "code",
      "source": [
        "# back tranform the data\n",
        "transformed_ytest19 = y_test19.reshape(len(y_test19), 1)            # reshape the transformed close price in test set\n",
        "ori_ytest19 = scalerY.inverse_transform(transformed_ytest19)      # transform it back to the actual value \n",
        "transformed_preds19 = predict19.reshape(len(predict19), 1)          # reshape the transformed predicted close price\n",
        "ori_preds19 = scalerY.inverse_transform(transformed_preds19)      # tranform it back to the actual value\n",
        "RegressionMetric(ori_ytest19, ori_preds19)\n"
      ],
      "metadata": {
        "colab": {
          "base_uri": "https://localhost:8080/"
        },
        "id": "usgmZQHN6925",
        "outputId": "779d97f6-be82-4c79-ad27-6ad14748eb0a"
      },
      "execution_count": null,
      "outputs": [
        {
          "output_type": "stream",
          "name": "stdout",
          "text": [
            "MAE:\t 1249.6791045262262\n",
            "MAPE:\t 0.28817815613512204\n",
            "RMSE:\t 1802.0829423512998\n",
            "r2:\t -0.43567954330843794\n"
          ]
        }
      ]
    },
    {
      "cell_type": "code",
      "source": [
        "df19 = pd.DataFrame({'Actual Close': ori_ytest19[:, 0],           # create the data frame with the actual and predicted close price\n",
        "                      'Prediction19': ori_preds19[:, 0]})            \n",
        "df19 = pd.concat([time_index19, df19], axis = 1).set_index('Date')   # set 'Date' as the index (easier to read time series plot)\n",
        "df19"
      ],
      "metadata": {
        "colab": {
          "base_uri": "https://localhost:8080/",
          "height": 450
        },
        "id": "SR0qTVP_IR12",
        "outputId": "ca5e7db1-69d9-482a-dfc0-901c262a87f8"
      },
      "execution_count": null,
      "outputs": [
        {
          "output_type": "execute_result",
          "data": {
            "text/plain": [
              "            Actual Close  Prediction19\n",
              "Date                                  \n",
              "2018-06-19        2264.0   2368.921389\n",
              "2018-06-20        2261.0   2403.595543\n",
              "2018-06-21        2254.0   2383.545268\n",
              "2018-06-22        2283.0   2394.650338\n",
              "2018-06-25        2295.0   2379.434902\n",
              "...                  ...           ...\n",
              "2022-06-24        4798.0   2448.749754\n",
              "2022-06-27        5049.0   2448.749754\n",
              "2022-06-28        5159.0   2448.749754\n",
              "2022-06-29        5069.0   2448.749754\n",
              "2022-06-30        5088.0   2448.749754\n",
              "\n",
              "[934 rows x 2 columns]"
            ],
            "text/html": [
              "\n",
              "  <div id=\"df-007426e3-3251-40e7-92e8-63d87239ad36\">\n",
              "    <div class=\"colab-df-container\">\n",
              "      <div>\n",
              "<style scoped>\n",
              "    .dataframe tbody tr th:only-of-type {\n",
              "        vertical-align: middle;\n",
              "    }\n",
              "\n",
              "    .dataframe tbody tr th {\n",
              "        vertical-align: top;\n",
              "    }\n",
              "\n",
              "    .dataframe thead th {\n",
              "        text-align: right;\n",
              "    }\n",
              "</style>\n",
              "<table border=\"1\" class=\"dataframe\">\n",
              "  <thead>\n",
              "    <tr style=\"text-align: right;\">\n",
              "      <th></th>\n",
              "      <th>Actual Close</th>\n",
              "      <th>Prediction19</th>\n",
              "    </tr>\n",
              "    <tr>\n",
              "      <th>Date</th>\n",
              "      <th></th>\n",
              "      <th></th>\n",
              "    </tr>\n",
              "  </thead>\n",
              "  <tbody>\n",
              "    <tr>\n",
              "      <th>2018-06-19</th>\n",
              "      <td>2264.0</td>\n",
              "      <td>2368.921389</td>\n",
              "    </tr>\n",
              "    <tr>\n",
              "      <th>2018-06-20</th>\n",
              "      <td>2261.0</td>\n",
              "      <td>2403.595543</td>\n",
              "    </tr>\n",
              "    <tr>\n",
              "      <th>2018-06-21</th>\n",
              "      <td>2254.0</td>\n",
              "      <td>2383.545268</td>\n",
              "    </tr>\n",
              "    <tr>\n",
              "      <th>2018-06-22</th>\n",
              "      <td>2283.0</td>\n",
              "      <td>2394.650338</td>\n",
              "    </tr>\n",
              "    <tr>\n",
              "      <th>2018-06-25</th>\n",
              "      <td>2295.0</td>\n",
              "      <td>2379.434902</td>\n",
              "    </tr>\n",
              "    <tr>\n",
              "      <th>...</th>\n",
              "      <td>...</td>\n",
              "      <td>...</td>\n",
              "    </tr>\n",
              "    <tr>\n",
              "      <th>2022-06-24</th>\n",
              "      <td>4798.0</td>\n",
              "      <td>2448.749754</td>\n",
              "    </tr>\n",
              "    <tr>\n",
              "      <th>2022-06-27</th>\n",
              "      <td>5049.0</td>\n",
              "      <td>2448.749754</td>\n",
              "    </tr>\n",
              "    <tr>\n",
              "      <th>2022-06-28</th>\n",
              "      <td>5159.0</td>\n",
              "      <td>2448.749754</td>\n",
              "    </tr>\n",
              "    <tr>\n",
              "      <th>2022-06-29</th>\n",
              "      <td>5069.0</td>\n",
              "      <td>2448.749754</td>\n",
              "    </tr>\n",
              "    <tr>\n",
              "      <th>2022-06-30</th>\n",
              "      <td>5088.0</td>\n",
              "      <td>2448.749754</td>\n",
              "    </tr>\n",
              "  </tbody>\n",
              "</table>\n",
              "<p>934 rows × 2 columns</p>\n",
              "</div>\n",
              "      <button class=\"colab-df-convert\" onclick=\"convertToInteractive('df-007426e3-3251-40e7-92e8-63d87239ad36')\"\n",
              "              title=\"Convert this dataframe to an interactive table.\"\n",
              "              style=\"display:none;\">\n",
              "        \n",
              "  <svg xmlns=\"http://www.w3.org/2000/svg\" height=\"24px\"viewBox=\"0 0 24 24\"\n",
              "       width=\"24px\">\n",
              "    <path d=\"M0 0h24v24H0V0z\" fill=\"none\"/>\n",
              "    <path d=\"M18.56 5.44l.94 2.06.94-2.06 2.06-.94-2.06-.94-.94-2.06-.94 2.06-2.06.94zm-11 1L8.5 8.5l.94-2.06 2.06-.94-2.06-.94L8.5 2.5l-.94 2.06-2.06.94zm10 10l.94 2.06.94-2.06 2.06-.94-2.06-.94-.94-2.06-.94 2.06-2.06.94z\"/><path d=\"M17.41 7.96l-1.37-1.37c-.4-.4-.92-.59-1.43-.59-.52 0-1.04.2-1.43.59L10.3 9.45l-7.72 7.72c-.78.78-.78 2.05 0 2.83L4 21.41c.39.39.9.59 1.41.59.51 0 1.02-.2 1.41-.59l7.78-7.78 2.81-2.81c.8-.78.8-2.07 0-2.86zM5.41 20L4 18.59l7.72-7.72 1.47 1.35L5.41 20z\"/>\n",
              "  </svg>\n",
              "      </button>\n",
              "      \n",
              "  <style>\n",
              "    .colab-df-container {\n",
              "      display:flex;\n",
              "      flex-wrap:wrap;\n",
              "      gap: 12px;\n",
              "    }\n",
              "\n",
              "    .colab-df-convert {\n",
              "      background-color: #E8F0FE;\n",
              "      border: none;\n",
              "      border-radius: 50%;\n",
              "      cursor: pointer;\n",
              "      display: none;\n",
              "      fill: #1967D2;\n",
              "      height: 32px;\n",
              "      padding: 0 0 0 0;\n",
              "      width: 32px;\n",
              "    }\n",
              "\n",
              "    .colab-df-convert:hover {\n",
              "      background-color: #E2EBFA;\n",
              "      box-shadow: 0px 1px 2px rgba(60, 64, 67, 0.3), 0px 1px 3px 1px rgba(60, 64, 67, 0.15);\n",
              "      fill: #174EA6;\n",
              "    }\n",
              "\n",
              "    [theme=dark] .colab-df-convert {\n",
              "      background-color: #3B4455;\n",
              "      fill: #D2E3FC;\n",
              "    }\n",
              "\n",
              "    [theme=dark] .colab-df-convert:hover {\n",
              "      background-color: #434B5C;\n",
              "      box-shadow: 0px 1px 3px 1px rgba(0, 0, 0, 0.15);\n",
              "      filter: drop-shadow(0px 1px 2px rgba(0, 0, 0, 0.3));\n",
              "      fill: #FFFFFF;\n",
              "    }\n",
              "  </style>\n",
              "\n",
              "      <script>\n",
              "        const buttonEl =\n",
              "          document.querySelector('#df-007426e3-3251-40e7-92e8-63d87239ad36 button.colab-df-convert');\n",
              "        buttonEl.style.display =\n",
              "          google.colab.kernel.accessAllowed ? 'block' : 'none';\n",
              "\n",
              "        async function convertToInteractive(key) {\n",
              "          const element = document.querySelector('#df-007426e3-3251-40e7-92e8-63d87239ad36');\n",
              "          const dataTable =\n",
              "            await google.colab.kernel.invokeFunction('convertToInteractive',\n",
              "                                                     [key], {});\n",
              "          if (!dataTable) return;\n",
              "\n",
              "          const docLinkHtml = 'Like what you see? Visit the ' +\n",
              "            '<a target=\"_blank\" href=https://colab.research.google.com/notebooks/data_table.ipynb>data table notebook</a>'\n",
              "            + ' to learn more about interactive tables.';\n",
              "          element.innerHTML = '';\n",
              "          dataTable['output_type'] = 'display_data';\n",
              "          await google.colab.output.renderOutput(dataTable, element);\n",
              "          const docLink = document.createElement('div');\n",
              "          docLink.innerHTML = docLinkHtml;\n",
              "          element.appendChild(docLink);\n",
              "        }\n",
              "      </script>\n",
              "    </div>\n",
              "  </div>\n",
              "  "
            ]
          },
          "metadata": {},
          "execution_count": 46
        }
      ]
    },
    {
      "cell_type": "code",
      "source": [
        "df19['Difference']= df19['Actual Close']-df19['Prediction19']"
      ],
      "metadata": {
        "id": "V41pN6607AMn"
      },
      "execution_count": null,
      "outputs": []
    },
    {
      "cell_type": "markdown",
      "source": [
        "## Train-Test Splitting Ratio 9:1"
      ],
      "metadata": {
        "id": "2IPJl2kK6_q9"
      }
    },
    {
      "cell_type": "code",
      "source": [
        "# split the dataset into two subsets: training set & test set \n",
        "target= target.reshape(len(target), 1)\n",
        "x_train91, x_test91, y_train91, y_test91 = train_test_split(features, target, train_size = 0.90, shuffle = False)\n",
        "\n",
        "# check the shape of x_train, x_test, y_train, y_test\n",
        "x_train91.shape, x_test91.shape, y_train91.shape, y_test91.shape"
      ],
      "metadata": {
        "colab": {
          "base_uri": "https://localhost:8080/"
        },
        "id": "Oukaar6_6-7H",
        "outputId": "fcf57e56-9556-4b50-8da5-1e81d34529e4"
      },
      "execution_count": null,
      "outputs": [
        {
          "output_type": "execute_result",
          "data": {
            "text/plain": [
              "((933, 13), (104, 13), (933, 1), (104, 1))"
            ]
          },
          "metadata": {},
          "execution_count": 48
        }
      ]
    },
    {
      "cell_type": "code",
      "source": [
        "time_index91 = x_test91.reset_index()[['Date']] "
      ],
      "metadata": {
        "id": "zxGqq63n7WJa"
      },
      "execution_count": null,
      "outputs": []
    },
    {
      "cell_type": "code",
      "source": [
        "# scale the training data using PowerTransformer()\n",
        "scalerX = PowerTransformer().fit(x_train91)\n",
        "scalerY = PowerTransformer().fit(y_train91)\n",
        "\n",
        "# producing a series with transformed values that has the same axis length.\n",
        "x_train91 = scalerX.transform(x_train91)\n",
        "y_train91 = scalerY.transform(y_train91)\n",
        "x_test91 = scalerX.transform(x_test91)\n",
        "y_test91 = scalerY.transform(y_test91)\n",
        "\n",
        "# change the multi-dimensional array into a contiguous flattened array (same data type as the input array)\n",
        "y_train91 = np.ravel(y_train91) \n",
        "y_test91= np.ravel(y_test91)"
      ],
      "metadata": {
        "id": "YSMtGvhk7aT8"
      },
      "execution_count": null,
      "outputs": []
    },
    {
      "cell_type": "code",
      "source": [
        "svr_model = SVR().fit(x_train91, y_train91)\n",
        "predict91 = svr_model.predict(x_test91)"
      ],
      "metadata": {
        "id": "vXAgyMGl7qbt"
      },
      "execution_count": null,
      "outputs": []
    },
    {
      "cell_type": "markdown",
      "source": [
        "### Prediction Performance 9:1"
      ],
      "metadata": {
        "id": "CQVNZtRI7tkm"
      }
    },
    {
      "cell_type": "code",
      "source": [
        "# back tranform the data\n",
        "transformed_ytest91 = y_test91.reshape(len(y_test91), 1)            # reshape the transformed close price in test set\n",
        "ori_ytest91 = scalerY.inverse_transform(transformed_ytest91)      # transform it back to the actual value \n",
        "transformed_preds91 = predict91.reshape(len(predict91), 1)          # reshape the transformed predicted close price\n",
        "ori_preds91 = scalerY.inverse_transform(transformed_preds91)      # tranform it back to the actual value\n",
        "RegressionMetric(ori_ytest91, ori_preds91)\n"
      ],
      "metadata": {
        "colab": {
          "base_uri": "https://localhost:8080/"
        },
        "id": "czJJW7jw775-",
        "outputId": "0b5fbaf1-bc31-4665-96e3-611e417aac4b"
      },
      "execution_count": null,
      "outputs": [
        {
          "output_type": "stream",
          "name": "stdout",
          "text": [
            "MAE:\t 1724.041348611267\n",
            "MAPE:\t 0.2564550706126124\n",
            "RMSE:\t 1979.6620663530678\n",
            "r2:\t -6.475521396048947\n"
          ]
        }
      ]
    },
    {
      "cell_type": "code",
      "source": [
        "df91 = pd.DataFrame({'Actual Close': ori_ytest91[:, 0],           # create the data frame with the actual and predicted close price\n",
        "                      'Prediction91': ori_preds91[:, 0]})            \n",
        "df91 = pd.concat([time_index91, df91], axis = 1).set_index('Date')   # set 'Date' as the index (easier to read time series plot)\n",
        "df91"
      ],
      "metadata": {
        "colab": {
          "base_uri": "https://localhost:8080/",
          "height": 450
        },
        "id": "kB-hVpJJ8FEy",
        "outputId": "a7c10f69-a170-4172-e754-1c924948089e"
      },
      "execution_count": null,
      "outputs": [
        {
          "output_type": "execute_result",
          "data": {
            "text/plain": [
              "            Actual Close  Prediction91\n",
              "Date                                  \n",
              "2022-01-24        5438.0   4287.621615\n",
              "2022-01-25        5454.0   4458.362956\n",
              "2022-01-26        5506.0   4618.145053\n",
              "2022-01-27        5613.0   5034.263466\n",
              "2022-01-28        5803.0   4944.066056\n",
              "...                  ...           ...\n",
              "2022-06-24        4798.0   4457.777582\n",
              "2022-06-27        5049.0   4533.315965\n",
              "2022-06-28        5159.0   4111.233052\n",
              "2022-06-29        5069.0   4598.897456\n",
              "2022-06-30        5088.0   4649.942291\n",
              "\n",
              "[104 rows x 2 columns]"
            ],
            "text/html": [
              "\n",
              "  <div id=\"df-ba8abccd-8c16-43b9-9d78-b5aa27bef48f\">\n",
              "    <div class=\"colab-df-container\">\n",
              "      <div>\n",
              "<style scoped>\n",
              "    .dataframe tbody tr th:only-of-type {\n",
              "        vertical-align: middle;\n",
              "    }\n",
              "\n",
              "    .dataframe tbody tr th {\n",
              "        vertical-align: top;\n",
              "    }\n",
              "\n",
              "    .dataframe thead th {\n",
              "        text-align: right;\n",
              "    }\n",
              "</style>\n",
              "<table border=\"1\" class=\"dataframe\">\n",
              "  <thead>\n",
              "    <tr style=\"text-align: right;\">\n",
              "      <th></th>\n",
              "      <th>Actual Close</th>\n",
              "      <th>Prediction91</th>\n",
              "    </tr>\n",
              "    <tr>\n",
              "      <th>Date</th>\n",
              "      <th></th>\n",
              "      <th></th>\n",
              "    </tr>\n",
              "  </thead>\n",
              "  <tbody>\n",
              "    <tr>\n",
              "      <th>2022-01-24</th>\n",
              "      <td>5438.0</td>\n",
              "      <td>4287.621615</td>\n",
              "    </tr>\n",
              "    <tr>\n",
              "      <th>2022-01-25</th>\n",
              "      <td>5454.0</td>\n",
              "      <td>4458.362956</td>\n",
              "    </tr>\n",
              "    <tr>\n",
              "      <th>2022-01-26</th>\n",
              "      <td>5506.0</td>\n",
              "      <td>4618.145053</td>\n",
              "    </tr>\n",
              "    <tr>\n",
              "      <th>2022-01-27</th>\n",
              "      <td>5613.0</td>\n",
              "      <td>5034.263466</td>\n",
              "    </tr>\n",
              "    <tr>\n",
              "      <th>2022-01-28</th>\n",
              "      <td>5803.0</td>\n",
              "      <td>4944.066056</td>\n",
              "    </tr>\n",
              "    <tr>\n",
              "      <th>...</th>\n",
              "      <td>...</td>\n",
              "      <td>...</td>\n",
              "    </tr>\n",
              "    <tr>\n",
              "      <th>2022-06-24</th>\n",
              "      <td>4798.0</td>\n",
              "      <td>4457.777582</td>\n",
              "    </tr>\n",
              "    <tr>\n",
              "      <th>2022-06-27</th>\n",
              "      <td>5049.0</td>\n",
              "      <td>4533.315965</td>\n",
              "    </tr>\n",
              "    <tr>\n",
              "      <th>2022-06-28</th>\n",
              "      <td>5159.0</td>\n",
              "      <td>4111.233052</td>\n",
              "    </tr>\n",
              "    <tr>\n",
              "      <th>2022-06-29</th>\n",
              "      <td>5069.0</td>\n",
              "      <td>4598.897456</td>\n",
              "    </tr>\n",
              "    <tr>\n",
              "      <th>2022-06-30</th>\n",
              "      <td>5088.0</td>\n",
              "      <td>4649.942291</td>\n",
              "    </tr>\n",
              "  </tbody>\n",
              "</table>\n",
              "<p>104 rows × 2 columns</p>\n",
              "</div>\n",
              "      <button class=\"colab-df-convert\" onclick=\"convertToInteractive('df-ba8abccd-8c16-43b9-9d78-b5aa27bef48f')\"\n",
              "              title=\"Convert this dataframe to an interactive table.\"\n",
              "              style=\"display:none;\">\n",
              "        \n",
              "  <svg xmlns=\"http://www.w3.org/2000/svg\" height=\"24px\"viewBox=\"0 0 24 24\"\n",
              "       width=\"24px\">\n",
              "    <path d=\"M0 0h24v24H0V0z\" fill=\"none\"/>\n",
              "    <path d=\"M18.56 5.44l.94 2.06.94-2.06 2.06-.94-2.06-.94-.94-2.06-.94 2.06-2.06.94zm-11 1L8.5 8.5l.94-2.06 2.06-.94-2.06-.94L8.5 2.5l-.94 2.06-2.06.94zm10 10l.94 2.06.94-2.06 2.06-.94-2.06-.94-.94-2.06-.94 2.06-2.06.94z\"/><path d=\"M17.41 7.96l-1.37-1.37c-.4-.4-.92-.59-1.43-.59-.52 0-1.04.2-1.43.59L10.3 9.45l-7.72 7.72c-.78.78-.78 2.05 0 2.83L4 21.41c.39.39.9.59 1.41.59.51 0 1.02-.2 1.41-.59l7.78-7.78 2.81-2.81c.8-.78.8-2.07 0-2.86zM5.41 20L4 18.59l7.72-7.72 1.47 1.35L5.41 20z\"/>\n",
              "  </svg>\n",
              "      </button>\n",
              "      \n",
              "  <style>\n",
              "    .colab-df-container {\n",
              "      display:flex;\n",
              "      flex-wrap:wrap;\n",
              "      gap: 12px;\n",
              "    }\n",
              "\n",
              "    .colab-df-convert {\n",
              "      background-color: #E8F0FE;\n",
              "      border: none;\n",
              "      border-radius: 50%;\n",
              "      cursor: pointer;\n",
              "      display: none;\n",
              "      fill: #1967D2;\n",
              "      height: 32px;\n",
              "      padding: 0 0 0 0;\n",
              "      width: 32px;\n",
              "    }\n",
              "\n",
              "    .colab-df-convert:hover {\n",
              "      background-color: #E2EBFA;\n",
              "      box-shadow: 0px 1px 2px rgba(60, 64, 67, 0.3), 0px 1px 3px 1px rgba(60, 64, 67, 0.15);\n",
              "      fill: #174EA6;\n",
              "    }\n",
              "\n",
              "    [theme=dark] .colab-df-convert {\n",
              "      background-color: #3B4455;\n",
              "      fill: #D2E3FC;\n",
              "    }\n",
              "\n",
              "    [theme=dark] .colab-df-convert:hover {\n",
              "      background-color: #434B5C;\n",
              "      box-shadow: 0px 1px 3px 1px rgba(0, 0, 0, 0.15);\n",
              "      filter: drop-shadow(0px 1px 2px rgba(0, 0, 0, 0.3));\n",
              "      fill: #FFFFFF;\n",
              "    }\n",
              "  </style>\n",
              "\n",
              "      <script>\n",
              "        const buttonEl =\n",
              "          document.querySelector('#df-ba8abccd-8c16-43b9-9d78-b5aa27bef48f button.colab-df-convert');\n",
              "        buttonEl.style.display =\n",
              "          google.colab.kernel.accessAllowed ? 'block' : 'none';\n",
              "\n",
              "        async function convertToInteractive(key) {\n",
              "          const element = document.querySelector('#df-ba8abccd-8c16-43b9-9d78-b5aa27bef48f');\n",
              "          const dataTable =\n",
              "            await google.colab.kernel.invokeFunction('convertToInteractive',\n",
              "                                                     [key], {});\n",
              "          if (!dataTable) return;\n",
              "\n",
              "          const docLinkHtml = 'Like what you see? Visit the ' +\n",
              "            '<a target=\"_blank\" href=https://colab.research.google.com/notebooks/data_table.ipynb>data table notebook</a>'\n",
              "            + ' to learn more about interactive tables.';\n",
              "          element.innerHTML = '';\n",
              "          dataTable['output_type'] = 'display_data';\n",
              "          await google.colab.output.renderOutput(dataTable, element);\n",
              "          const docLink = document.createElement('div');\n",
              "          docLink.innerHTML = docLinkHtml;\n",
              "          element.appendChild(docLink);\n",
              "        }\n",
              "      </script>\n",
              "    </div>\n",
              "  </div>\n",
              "  "
            ]
          },
          "metadata": {},
          "execution_count": 53
        }
      ]
    },
    {
      "cell_type": "code",
      "source": [
        "df91['Difference']= df91['Actual Close']-df91['Prediction91']"
      ],
      "metadata": {
        "id": "3xZUj29M7jY3"
      },
      "execution_count": null,
      "outputs": []
    },
    {
      "cell_type": "markdown",
      "source": [
        "## Train-Test Splitting Ratio 9.5:0.5"
      ],
      "metadata": {
        "id": "oGZmwv1BzQ1s"
      }
    },
    {
      "cell_type": "code",
      "source": [
        "# split the dataset into two subsets: training set & test set \n",
        "target= target.reshape(len(target), 1)\n",
        "x_train95, x_test95, y_train95, y_test95 = train_test_split(features, target, train_size = 0.95, shuffle = False)\n",
        "\n",
        "# check the shape of x_train, x_test, y_train, y_test\n",
        "x_train95.shape, x_test95.shape, y_train95.shape, y_test95.shape"
      ],
      "metadata": {
        "colab": {
          "base_uri": "https://localhost:8080/"
        },
        "id": "bJD_MHmtzQfB",
        "outputId": "3229efa7-ff44-4223-c30e-ae2497aa9da5"
      },
      "execution_count": null,
      "outputs": [
        {
          "output_type": "execute_result",
          "data": {
            "text/plain": [
              "((985, 13), (52, 13), (985, 1), (52, 1))"
            ]
          },
          "metadata": {},
          "execution_count": 55
        }
      ]
    },
    {
      "cell_type": "code",
      "source": [
        "time_index95 = x_test95.reset_index()[['Date']] "
      ],
      "metadata": {
        "id": "QNa01S5IzpJ8"
      },
      "execution_count": null,
      "outputs": []
    },
    {
      "cell_type": "code",
      "source": [
        "# scale the training data using PowerTransformer()\n",
        "scalerX = PowerTransformer().fit(x_train95)\n",
        "scalerY = PowerTransformer().fit(y_train95)\n",
        "\n",
        "# producing a series with transformed values that has the same axis length.\n",
        "x_train95 = scalerX.transform(x_train95)\n",
        "y_train95 = scalerY.transform(y_train95)\n",
        "x_test95 = scalerX.transform(x_test95)\n",
        "y_test95 = scalerY.transform(y_test95)\n",
        "\n",
        "# change the multi-dimensional array into a contiguous flattened array (same data type as the input array)\n",
        "y_train95 = np.ravel(y_train95) \n",
        "y_test95 = np.ravel(y_test95)"
      ],
      "metadata": {
        "id": "K0qtrGePzt_A"
      },
      "execution_count": null,
      "outputs": []
    },
    {
      "cell_type": "code",
      "source": [
        "svr_model = SVR().fit(x_train95, y_train95)\n",
        "predict95 = svr_model.predict(x_test95)"
      ],
      "metadata": {
        "id": "hxKAcx0Kz9sG"
      },
      "execution_count": null,
      "outputs": []
    },
    {
      "cell_type": "markdown",
      "source": [
        "### Prediction Performance 9.5:0.5"
      ],
      "metadata": {
        "id": "sfD6cgpX2tW2"
      }
    },
    {
      "cell_type": "code",
      "source": [
        "# back tranform the data\n",
        "transformed_ytest95 = y_test95.reshape(len(y_test95), 1)            # reshape the transformed close price in test set\n",
        "ori_ytest95 = scalerY.inverse_transform(transformed_ytest95)      # transform it back to the actual value \n",
        "transformed_preds95 = predict95.reshape(len(predict95), 1)          # reshape the transformed predicted close price\n",
        "ori_preds95 = scalerY.inverse_transform(transformed_preds95)      # tranform it back to the actual value\n",
        "RegressionMetric(ori_ytest95, ori_preds95)\n"
      ],
      "metadata": {
        "colab": {
          "base_uri": "https://localhost:8080/"
        },
        "id": "RnQUaHcMz9VG",
        "outputId": "a1241eb6-71a1-4862-b0fd-f48dd3b6d7aa"
      },
      "execution_count": null,
      "outputs": [
        {
          "output_type": "stream",
          "name": "stdout",
          "text": [
            "MAE:\t 695.5704447099646\n",
            "MAPE:\t 0.1053656717740029\n",
            "RMSE:\t 845.2524001837405\n",
            "r2:\t -0.19471745133462104\n"
          ]
        }
      ]
    },
    {
      "cell_type": "code",
      "source": [
        "df95 = pd.DataFrame({ 'Actual Close': ori_ytest95[:, 0],           # create the data frame with the actual and predicted close price\n",
        "                      'Prediction95': ori_preds95[:, 0]})            \n",
        "df95 = pd.concat([time_index95, df95], axis = 1).set_index('Date')   # set 'Date' as the index (easier to read time series plot)\n",
        "df95.head()"
      ],
      "metadata": {
        "id": "iXQwwRgm1Kin",
        "colab": {
          "base_uri": "https://localhost:8080/",
          "height": 235
        },
        "outputId": "22b2c6b3-cc3b-4e09-9e32-7dd07648e3b9"
      },
      "execution_count": null,
      "outputs": [
        {
          "output_type": "execute_result",
          "data": {
            "text/plain": [
              "            Actual Close  Prediction95\n",
              "Date                                  \n",
              "2022-04-08        6681.0   6128.523868\n",
              "2022-04-11        6765.0   6380.073445\n",
              "2022-04-12        6890.0   6573.398535\n",
              "2022-04-13        6833.0   6685.213956\n",
              "2022-04-14        6820.0   5295.153419"
            ],
            "text/html": [
              "\n",
              "  <div id=\"df-4bbbf66e-2058-437f-be06-a4f1a139a0f3\">\n",
              "    <div class=\"colab-df-container\">\n",
              "      <div>\n",
              "<style scoped>\n",
              "    .dataframe tbody tr th:only-of-type {\n",
              "        vertical-align: middle;\n",
              "    }\n",
              "\n",
              "    .dataframe tbody tr th {\n",
              "        vertical-align: top;\n",
              "    }\n",
              "\n",
              "    .dataframe thead th {\n",
              "        text-align: right;\n",
              "    }\n",
              "</style>\n",
              "<table border=\"1\" class=\"dataframe\">\n",
              "  <thead>\n",
              "    <tr style=\"text-align: right;\">\n",
              "      <th></th>\n",
              "      <th>Actual Close</th>\n",
              "      <th>Prediction95</th>\n",
              "    </tr>\n",
              "    <tr>\n",
              "      <th>Date</th>\n",
              "      <th></th>\n",
              "      <th></th>\n",
              "    </tr>\n",
              "  </thead>\n",
              "  <tbody>\n",
              "    <tr>\n",
              "      <th>2022-04-08</th>\n",
              "      <td>6681.0</td>\n",
              "      <td>6128.523868</td>\n",
              "    </tr>\n",
              "    <tr>\n",
              "      <th>2022-04-11</th>\n",
              "      <td>6765.0</td>\n",
              "      <td>6380.073445</td>\n",
              "    </tr>\n",
              "    <tr>\n",
              "      <th>2022-04-12</th>\n",
              "      <td>6890.0</td>\n",
              "      <td>6573.398535</td>\n",
              "    </tr>\n",
              "    <tr>\n",
              "      <th>2022-04-13</th>\n",
              "      <td>6833.0</td>\n",
              "      <td>6685.213956</td>\n",
              "    </tr>\n",
              "    <tr>\n",
              "      <th>2022-04-14</th>\n",
              "      <td>6820.0</td>\n",
              "      <td>5295.153419</td>\n",
              "    </tr>\n",
              "  </tbody>\n",
              "</table>\n",
              "</div>\n",
              "      <button class=\"colab-df-convert\" onclick=\"convertToInteractive('df-4bbbf66e-2058-437f-be06-a4f1a139a0f3')\"\n",
              "              title=\"Convert this dataframe to an interactive table.\"\n",
              "              style=\"display:none;\">\n",
              "        \n",
              "  <svg xmlns=\"http://www.w3.org/2000/svg\" height=\"24px\"viewBox=\"0 0 24 24\"\n",
              "       width=\"24px\">\n",
              "    <path d=\"M0 0h24v24H0V0z\" fill=\"none\"/>\n",
              "    <path d=\"M18.56 5.44l.94 2.06.94-2.06 2.06-.94-2.06-.94-.94-2.06-.94 2.06-2.06.94zm-11 1L8.5 8.5l.94-2.06 2.06-.94-2.06-.94L8.5 2.5l-.94 2.06-2.06.94zm10 10l.94 2.06.94-2.06 2.06-.94-2.06-.94-.94-2.06-.94 2.06-2.06.94z\"/><path d=\"M17.41 7.96l-1.37-1.37c-.4-.4-.92-.59-1.43-.59-.52 0-1.04.2-1.43.59L10.3 9.45l-7.72 7.72c-.78.78-.78 2.05 0 2.83L4 21.41c.39.39.9.59 1.41.59.51 0 1.02-.2 1.41-.59l7.78-7.78 2.81-2.81c.8-.78.8-2.07 0-2.86zM5.41 20L4 18.59l7.72-7.72 1.47 1.35L5.41 20z\"/>\n",
              "  </svg>\n",
              "      </button>\n",
              "      \n",
              "  <style>\n",
              "    .colab-df-container {\n",
              "      display:flex;\n",
              "      flex-wrap:wrap;\n",
              "      gap: 12px;\n",
              "    }\n",
              "\n",
              "    .colab-df-convert {\n",
              "      background-color: #E8F0FE;\n",
              "      border: none;\n",
              "      border-radius: 50%;\n",
              "      cursor: pointer;\n",
              "      display: none;\n",
              "      fill: #1967D2;\n",
              "      height: 32px;\n",
              "      padding: 0 0 0 0;\n",
              "      width: 32px;\n",
              "    }\n",
              "\n",
              "    .colab-df-convert:hover {\n",
              "      background-color: #E2EBFA;\n",
              "      box-shadow: 0px 1px 2px rgba(60, 64, 67, 0.3), 0px 1px 3px 1px rgba(60, 64, 67, 0.15);\n",
              "      fill: #174EA6;\n",
              "    }\n",
              "\n",
              "    [theme=dark] .colab-df-convert {\n",
              "      background-color: #3B4455;\n",
              "      fill: #D2E3FC;\n",
              "    }\n",
              "\n",
              "    [theme=dark] .colab-df-convert:hover {\n",
              "      background-color: #434B5C;\n",
              "      box-shadow: 0px 1px 3px 1px rgba(0, 0, 0, 0.15);\n",
              "      filter: drop-shadow(0px 1px 2px rgba(0, 0, 0, 0.3));\n",
              "      fill: #FFFFFF;\n",
              "    }\n",
              "  </style>\n",
              "\n",
              "      <script>\n",
              "        const buttonEl =\n",
              "          document.querySelector('#df-4bbbf66e-2058-437f-be06-a4f1a139a0f3 button.colab-df-convert');\n",
              "        buttonEl.style.display =\n",
              "          google.colab.kernel.accessAllowed ? 'block' : 'none';\n",
              "\n",
              "        async function convertToInteractive(key) {\n",
              "          const element = document.querySelector('#df-4bbbf66e-2058-437f-be06-a4f1a139a0f3');\n",
              "          const dataTable =\n",
              "            await google.colab.kernel.invokeFunction('convertToInteractive',\n",
              "                                                     [key], {});\n",
              "          if (!dataTable) return;\n",
              "\n",
              "          const docLinkHtml = 'Like what you see? Visit the ' +\n",
              "            '<a target=\"_blank\" href=https://colab.research.google.com/notebooks/data_table.ipynb>data table notebook</a>'\n",
              "            + ' to learn more about interactive tables.';\n",
              "          element.innerHTML = '';\n",
              "          dataTable['output_type'] = 'display_data';\n",
              "          await google.colab.output.renderOutput(dataTable, element);\n",
              "          const docLink = document.createElement('div');\n",
              "          docLink.innerHTML = docLinkHtml;\n",
              "          element.appendChild(docLink);\n",
              "        }\n",
              "      </script>\n",
              "    </div>\n",
              "  </div>\n",
              "  "
            ]
          },
          "metadata": {},
          "execution_count": 62
        }
      ]
    },
    {
      "cell_type": "code",
      "source": [
        "df95['Difference']= df95['Actual Close']-df95['Prediction95']"
      ],
      "metadata": {
        "id": "jtONFTVN8Zvr"
      },
      "execution_count": null,
      "outputs": []
    },
    {
      "cell_type": "code",
      "source": [
        "# # visualize the actual and predicted close price\n",
        "# plt.figure(figsize=(20, 8))\n",
        "# plt.plot(full_df['Actual Close'],label='Actual Close',color='steelblue')\n",
        "# plt.plot(full_df['Prediction19'], label='SVR: 10% Training',color='y')\n",
        "# plt.plot(full_df['Prediction64'], label='SVR: 60% Training',color='m')\n",
        "# plt.plot(full_df['Prediction73'], label='SVR: 70% Training',color='g')\n",
        "# plt.plot(full_df['Prediction82'], label='SVR: 80% Training',color='lime')\n",
        "# # plt.plot(full_df['Prediction82_SA'], label='SA-SVR: 80% Training',color='r')\n",
        "# # plt.plot(full_df['Prediction19_SA'], label='SA-SVR: 10% Training',color='darkorange')\n",
        "# plt.title('SVR and SA-SVR Prediction Performance in Difference Training Data Size', pad = 20)\n",
        "# plt.ylabel('Price (MYR per tonne)', rotation = 90, labelpad = 30)\n",
        "# plt.legend(loc=0)\n",
        "# plt.show()"
      ],
      "metadata": {
        "id": "PDrkkdRy8tst"
      },
      "execution_count": null,
      "outputs": []
    },
    {
      "cell_type": "code",
      "source": [
        "# # print the regression metrics of the SVR model without hyperparameter optimization (default hyperparameter values are set)\n",
        "# from sklearn.svm import SVR\n",
        "# svr_model = SVR(C = 670126, gamma = 1e-06, epsilon = 1e-16).fit(x_train82, y_train82)\n",
        "# predict82_SA2 = svr_model.predict(x_test82)\n",
        "# RegressionMetric(y_test82, predict82_SA2)"
      ],
      "metadata": {
        "id": "rry2H2_pY1Aq"
      },
      "execution_count": null,
      "outputs": []
    },
    {
      "cell_type": "code",
      "source": [
        "col='Difference'\n",
        "diff_df = pd.DataFrame({'SVR: 10% Training': df19[col].abs(), \n",
        "                        'SVR: 60% Training': df64[col].abs(),\n",
        "                        'SVR: 70% Training': df73[col].abs(),\n",
        "                        'SVR: 80% Training': df82[col].abs(),\n",
        "                        'SVR: 90% Training': df91[col].abs(),\n",
        "                        'SVR: 95% Training': df95[col].abs()})\n",
        "diff_df"
      ],
      "metadata": {
        "id": "eHUh_MaKAy6P",
        "colab": {
          "base_uri": "https://localhost:8080/",
          "height": 681
        },
        "outputId": "6d6220cf-be3f-4e38-b1c2-0ded1c4f00c4"
      },
      "execution_count": null,
      "outputs": [
        {
          "output_type": "execute_result",
          "data": {
            "text/plain": [
              "            SVR: 10% Training  SVR: 60% Training  SVR: 70% Training  \\\n",
              "Date                                                                  \n",
              "2018-06-19         104.921389                NaN                NaN   \n",
              "2018-06-20         142.595543                NaN                NaN   \n",
              "2018-06-21         129.545268                NaN                NaN   \n",
              "2018-06-22         111.650338                NaN                NaN   \n",
              "2018-06-25          84.434902                NaN                NaN   \n",
              "...                       ...                ...                ...   \n",
              "2022-06-24        2349.250246        2231.046696        1251.387875   \n",
              "2022-06-27        2600.250246        2529.572876        1763.313180   \n",
              "2022-06-28        2710.250246        2637.300013        1868.742463   \n",
              "2022-06-29        2620.250246        2508.062316        1503.828727   \n",
              "2022-06-30        2639.250246        2552.828036        1607.323966   \n",
              "\n",
              "            SVR: 80% Training  SVR: 90% Training  SVR: 95% Training  \n",
              "Date                                                                 \n",
              "2018-06-19                NaN                NaN                NaN  \n",
              "2018-06-20                NaN                NaN                NaN  \n",
              "2018-06-21                NaN                NaN                NaN  \n",
              "2018-06-22                NaN                NaN                NaN  \n",
              "2018-06-25                NaN                NaN                NaN  \n",
              "...                       ...                ...                ...  \n",
              "2022-06-24         745.038240         340.222418         200.342437  \n",
              "2022-06-27        1044.285095         515.684035         384.695622  \n",
              "2022-06-28        1264.929925        1047.766948         488.266129  \n",
              "2022-06-29         865.134248         470.102544         398.109566  \n",
              "2022-06-30         810.839229         438.057709         320.753441  \n",
              "\n",
              "[934 rows x 6 columns]"
            ],
            "text/html": [
              "\n",
              "  <div id=\"df-83167e65-437c-429c-8794-d359460949c8\">\n",
              "    <div class=\"colab-df-container\">\n",
              "      <div>\n",
              "<style scoped>\n",
              "    .dataframe tbody tr th:only-of-type {\n",
              "        vertical-align: middle;\n",
              "    }\n",
              "\n",
              "    .dataframe tbody tr th {\n",
              "        vertical-align: top;\n",
              "    }\n",
              "\n",
              "    .dataframe thead th {\n",
              "        text-align: right;\n",
              "    }\n",
              "</style>\n",
              "<table border=\"1\" class=\"dataframe\">\n",
              "  <thead>\n",
              "    <tr style=\"text-align: right;\">\n",
              "      <th></th>\n",
              "      <th>SVR: 10% Training</th>\n",
              "      <th>SVR: 60% Training</th>\n",
              "      <th>SVR: 70% Training</th>\n",
              "      <th>SVR: 80% Training</th>\n",
              "      <th>SVR: 90% Training</th>\n",
              "      <th>SVR: 95% Training</th>\n",
              "    </tr>\n",
              "    <tr>\n",
              "      <th>Date</th>\n",
              "      <th></th>\n",
              "      <th></th>\n",
              "      <th></th>\n",
              "      <th></th>\n",
              "      <th></th>\n",
              "      <th></th>\n",
              "    </tr>\n",
              "  </thead>\n",
              "  <tbody>\n",
              "    <tr>\n",
              "      <th>2018-06-19</th>\n",
              "      <td>104.921389</td>\n",
              "      <td>NaN</td>\n",
              "      <td>NaN</td>\n",
              "      <td>NaN</td>\n",
              "      <td>NaN</td>\n",
              "      <td>NaN</td>\n",
              "    </tr>\n",
              "    <tr>\n",
              "      <th>2018-06-20</th>\n",
              "      <td>142.595543</td>\n",
              "      <td>NaN</td>\n",
              "      <td>NaN</td>\n",
              "      <td>NaN</td>\n",
              "      <td>NaN</td>\n",
              "      <td>NaN</td>\n",
              "    </tr>\n",
              "    <tr>\n",
              "      <th>2018-06-21</th>\n",
              "      <td>129.545268</td>\n",
              "      <td>NaN</td>\n",
              "      <td>NaN</td>\n",
              "      <td>NaN</td>\n",
              "      <td>NaN</td>\n",
              "      <td>NaN</td>\n",
              "    </tr>\n",
              "    <tr>\n",
              "      <th>2018-06-22</th>\n",
              "      <td>111.650338</td>\n",
              "      <td>NaN</td>\n",
              "      <td>NaN</td>\n",
              "      <td>NaN</td>\n",
              "      <td>NaN</td>\n",
              "      <td>NaN</td>\n",
              "    </tr>\n",
              "    <tr>\n",
              "      <th>2018-06-25</th>\n",
              "      <td>84.434902</td>\n",
              "      <td>NaN</td>\n",
              "      <td>NaN</td>\n",
              "      <td>NaN</td>\n",
              "      <td>NaN</td>\n",
              "      <td>NaN</td>\n",
              "    </tr>\n",
              "    <tr>\n",
              "      <th>...</th>\n",
              "      <td>...</td>\n",
              "      <td>...</td>\n",
              "      <td>...</td>\n",
              "      <td>...</td>\n",
              "      <td>...</td>\n",
              "      <td>...</td>\n",
              "    </tr>\n",
              "    <tr>\n",
              "      <th>2022-06-24</th>\n",
              "      <td>2349.250246</td>\n",
              "      <td>2231.046696</td>\n",
              "      <td>1251.387875</td>\n",
              "      <td>745.038240</td>\n",
              "      <td>340.222418</td>\n",
              "      <td>200.342437</td>\n",
              "    </tr>\n",
              "    <tr>\n",
              "      <th>2022-06-27</th>\n",
              "      <td>2600.250246</td>\n",
              "      <td>2529.572876</td>\n",
              "      <td>1763.313180</td>\n",
              "      <td>1044.285095</td>\n",
              "      <td>515.684035</td>\n",
              "      <td>384.695622</td>\n",
              "    </tr>\n",
              "    <tr>\n",
              "      <th>2022-06-28</th>\n",
              "      <td>2710.250246</td>\n",
              "      <td>2637.300013</td>\n",
              "      <td>1868.742463</td>\n",
              "      <td>1264.929925</td>\n",
              "      <td>1047.766948</td>\n",
              "      <td>488.266129</td>\n",
              "    </tr>\n",
              "    <tr>\n",
              "      <th>2022-06-29</th>\n",
              "      <td>2620.250246</td>\n",
              "      <td>2508.062316</td>\n",
              "      <td>1503.828727</td>\n",
              "      <td>865.134248</td>\n",
              "      <td>470.102544</td>\n",
              "      <td>398.109566</td>\n",
              "    </tr>\n",
              "    <tr>\n",
              "      <th>2022-06-30</th>\n",
              "      <td>2639.250246</td>\n",
              "      <td>2552.828036</td>\n",
              "      <td>1607.323966</td>\n",
              "      <td>810.839229</td>\n",
              "      <td>438.057709</td>\n",
              "      <td>320.753441</td>\n",
              "    </tr>\n",
              "  </tbody>\n",
              "</table>\n",
              "<p>934 rows × 6 columns</p>\n",
              "</div>\n",
              "      <button class=\"colab-df-convert\" onclick=\"convertToInteractive('df-83167e65-437c-429c-8794-d359460949c8')\"\n",
              "              title=\"Convert this dataframe to an interactive table.\"\n",
              "              style=\"display:none;\">\n",
              "        \n",
              "  <svg xmlns=\"http://www.w3.org/2000/svg\" height=\"24px\"viewBox=\"0 0 24 24\"\n",
              "       width=\"24px\">\n",
              "    <path d=\"M0 0h24v24H0V0z\" fill=\"none\"/>\n",
              "    <path d=\"M18.56 5.44l.94 2.06.94-2.06 2.06-.94-2.06-.94-.94-2.06-.94 2.06-2.06.94zm-11 1L8.5 8.5l.94-2.06 2.06-.94-2.06-.94L8.5 2.5l-.94 2.06-2.06.94zm10 10l.94 2.06.94-2.06 2.06-.94-2.06-.94-.94-2.06-.94 2.06-2.06.94z\"/><path d=\"M17.41 7.96l-1.37-1.37c-.4-.4-.92-.59-1.43-.59-.52 0-1.04.2-1.43.59L10.3 9.45l-7.72 7.72c-.78.78-.78 2.05 0 2.83L4 21.41c.39.39.9.59 1.41.59.51 0 1.02-.2 1.41-.59l7.78-7.78 2.81-2.81c.8-.78.8-2.07 0-2.86zM5.41 20L4 18.59l7.72-7.72 1.47 1.35L5.41 20z\"/>\n",
              "  </svg>\n",
              "      </button>\n",
              "      \n",
              "  <style>\n",
              "    .colab-df-container {\n",
              "      display:flex;\n",
              "      flex-wrap:wrap;\n",
              "      gap: 12px;\n",
              "    }\n",
              "\n",
              "    .colab-df-convert {\n",
              "      background-color: #E8F0FE;\n",
              "      border: none;\n",
              "      border-radius: 50%;\n",
              "      cursor: pointer;\n",
              "      display: none;\n",
              "      fill: #1967D2;\n",
              "      height: 32px;\n",
              "      padding: 0 0 0 0;\n",
              "      width: 32px;\n",
              "    }\n",
              "\n",
              "    .colab-df-convert:hover {\n",
              "      background-color: #E2EBFA;\n",
              "      box-shadow: 0px 1px 2px rgba(60, 64, 67, 0.3), 0px 1px 3px 1px rgba(60, 64, 67, 0.15);\n",
              "      fill: #174EA6;\n",
              "    }\n",
              "\n",
              "    [theme=dark] .colab-df-convert {\n",
              "      background-color: #3B4455;\n",
              "      fill: #D2E3FC;\n",
              "    }\n",
              "\n",
              "    [theme=dark] .colab-df-convert:hover {\n",
              "      background-color: #434B5C;\n",
              "      box-shadow: 0px 1px 3px 1px rgba(0, 0, 0, 0.15);\n",
              "      filter: drop-shadow(0px 1px 2px rgba(0, 0, 0, 0.3));\n",
              "      fill: #FFFFFF;\n",
              "    }\n",
              "  </style>\n",
              "\n",
              "      <script>\n",
              "        const buttonEl =\n",
              "          document.querySelector('#df-83167e65-437c-429c-8794-d359460949c8 button.colab-df-convert');\n",
              "        buttonEl.style.display =\n",
              "          google.colab.kernel.accessAllowed ? 'block' : 'none';\n",
              "\n",
              "        async function convertToInteractive(key) {\n",
              "          const element = document.querySelector('#df-83167e65-437c-429c-8794-d359460949c8');\n",
              "          const dataTable =\n",
              "            await google.colab.kernel.invokeFunction('convertToInteractive',\n",
              "                                                     [key], {});\n",
              "          if (!dataTable) return;\n",
              "\n",
              "          const docLinkHtml = 'Like what you see? Visit the ' +\n",
              "            '<a target=\"_blank\" href=https://colab.research.google.com/notebooks/data_table.ipynb>data table notebook</a>'\n",
              "            + ' to learn more about interactive tables.';\n",
              "          element.innerHTML = '';\n",
              "          dataTable['output_type'] = 'display_data';\n",
              "          await google.colab.output.renderOutput(dataTable, element);\n",
              "          const docLink = document.createElement('div');\n",
              "          docLink.innerHTML = docLinkHtml;\n",
              "          element.appendChild(docLink);\n",
              "        }\n",
              "      </script>\n",
              "    </div>\n",
              "  </div>\n",
              "  "
            ]
          },
          "metadata": {},
          "execution_count": 73
        }
      ]
    },
    {
      "cell_type": "code",
      "source": [
        "plt.plot"
      ],
      "metadata": {
        "colab": {
          "base_uri": "https://localhost:8080/"
        },
        "id": "ENOOe5ZBzp1r",
        "outputId": "2d7356ad-8078-4b9a-efde-5125b9eaa000"
      },
      "execution_count": null,
      "outputs": [
        {
          "output_type": "execute_result",
          "data": {
            "text/plain": [
              "<function matplotlib.pyplot.plot>"
            ]
          },
          "metadata": {},
          "execution_count": 67
        }
      ]
    },
    {
      "cell_type": "code",
      "source": [
        "diff_df.describe()"
      ],
      "metadata": {
        "colab": {
          "base_uri": "https://localhost:8080/",
          "height": 297
        },
        "id": "_Zy5cnaYzMMC",
        "outputId": "ce09b365-0379-4563-c64a-c8ca9594903d"
      },
      "execution_count": null,
      "outputs": [
        {
          "output_type": "execute_result",
          "data": {
            "text/plain": [
              "       Difference19  Difference55  Difference64  Difference73  Difference82  \\\n",
              "count    934.000000    415.000000    415.000000    312.000000    208.000000   \n",
              "mean    1249.679105   2196.197262   2196.197262   1529.183545   1546.997236   \n",
              "std     1299.081188   1319.929202   1319.929202   1102.366290   1034.821255   \n",
              "min        0.264146      7.157517      7.157517     81.323891      6.045849   \n",
              "25%      314.541837   1153.281590   1153.281590    760.244982    742.135549   \n",
              "50%      531.998963   1926.873450   1926.873450   1208.594440   1464.546185   \n",
              "75%     2037.500246   2838.918777   2838.918777   2199.523048   2228.502083   \n",
              "max     5714.250246   5847.598410   5847.598410   5665.572450   5534.681969   \n",
              "\n",
              "       Difference91  Difference95  \n",
              "count    104.000000     52.000000  \n",
              "mean    1724.041349    695.570445  \n",
              "std      977.719289    484.928448  \n",
              "min        4.074523     68.688840  \n",
              "25%     1162.192281    316.699174  \n",
              "50%     1623.174990    593.278721  \n",
              "75%     1955.132429    986.631947  \n",
              "max     5361.304332   2019.613138  "
            ],
            "text/html": [
              "\n",
              "  <div id=\"df-f813df69-f204-446d-8e28-c80bb3c1e900\">\n",
              "    <div class=\"colab-df-container\">\n",
              "      <div>\n",
              "<style scoped>\n",
              "    .dataframe tbody tr th:only-of-type {\n",
              "        vertical-align: middle;\n",
              "    }\n",
              "\n",
              "    .dataframe tbody tr th {\n",
              "        vertical-align: top;\n",
              "    }\n",
              "\n",
              "    .dataframe thead th {\n",
              "        text-align: right;\n",
              "    }\n",
              "</style>\n",
              "<table border=\"1\" class=\"dataframe\">\n",
              "  <thead>\n",
              "    <tr style=\"text-align: right;\">\n",
              "      <th></th>\n",
              "      <th>Difference19</th>\n",
              "      <th>Difference55</th>\n",
              "      <th>Difference64</th>\n",
              "      <th>Difference73</th>\n",
              "      <th>Difference82</th>\n",
              "      <th>Difference91</th>\n",
              "      <th>Difference95</th>\n",
              "    </tr>\n",
              "  </thead>\n",
              "  <tbody>\n",
              "    <tr>\n",
              "      <th>count</th>\n",
              "      <td>934.000000</td>\n",
              "      <td>415.000000</td>\n",
              "      <td>415.000000</td>\n",
              "      <td>312.000000</td>\n",
              "      <td>208.000000</td>\n",
              "      <td>104.000000</td>\n",
              "      <td>52.000000</td>\n",
              "    </tr>\n",
              "    <tr>\n",
              "      <th>mean</th>\n",
              "      <td>1249.679105</td>\n",
              "      <td>2196.197262</td>\n",
              "      <td>2196.197262</td>\n",
              "      <td>1529.183545</td>\n",
              "      <td>1546.997236</td>\n",
              "      <td>1724.041349</td>\n",
              "      <td>695.570445</td>\n",
              "    </tr>\n",
              "    <tr>\n",
              "      <th>std</th>\n",
              "      <td>1299.081188</td>\n",
              "      <td>1319.929202</td>\n",
              "      <td>1319.929202</td>\n",
              "      <td>1102.366290</td>\n",
              "      <td>1034.821255</td>\n",
              "      <td>977.719289</td>\n",
              "      <td>484.928448</td>\n",
              "    </tr>\n",
              "    <tr>\n",
              "      <th>min</th>\n",
              "      <td>0.264146</td>\n",
              "      <td>7.157517</td>\n",
              "      <td>7.157517</td>\n",
              "      <td>81.323891</td>\n",
              "      <td>6.045849</td>\n",
              "      <td>4.074523</td>\n",
              "      <td>68.688840</td>\n",
              "    </tr>\n",
              "    <tr>\n",
              "      <th>25%</th>\n",
              "      <td>314.541837</td>\n",
              "      <td>1153.281590</td>\n",
              "      <td>1153.281590</td>\n",
              "      <td>760.244982</td>\n",
              "      <td>742.135549</td>\n",
              "      <td>1162.192281</td>\n",
              "      <td>316.699174</td>\n",
              "    </tr>\n",
              "    <tr>\n",
              "      <th>50%</th>\n",
              "      <td>531.998963</td>\n",
              "      <td>1926.873450</td>\n",
              "      <td>1926.873450</td>\n",
              "      <td>1208.594440</td>\n",
              "      <td>1464.546185</td>\n",
              "      <td>1623.174990</td>\n",
              "      <td>593.278721</td>\n",
              "    </tr>\n",
              "    <tr>\n",
              "      <th>75%</th>\n",
              "      <td>2037.500246</td>\n",
              "      <td>2838.918777</td>\n",
              "      <td>2838.918777</td>\n",
              "      <td>2199.523048</td>\n",
              "      <td>2228.502083</td>\n",
              "      <td>1955.132429</td>\n",
              "      <td>986.631947</td>\n",
              "    </tr>\n",
              "    <tr>\n",
              "      <th>max</th>\n",
              "      <td>5714.250246</td>\n",
              "      <td>5847.598410</td>\n",
              "      <td>5847.598410</td>\n",
              "      <td>5665.572450</td>\n",
              "      <td>5534.681969</td>\n",
              "      <td>5361.304332</td>\n",
              "      <td>2019.613138</td>\n",
              "    </tr>\n",
              "  </tbody>\n",
              "</table>\n",
              "</div>\n",
              "      <button class=\"colab-df-convert\" onclick=\"convertToInteractive('df-f813df69-f204-446d-8e28-c80bb3c1e900')\"\n",
              "              title=\"Convert this dataframe to an interactive table.\"\n",
              "              style=\"display:none;\">\n",
              "        \n",
              "  <svg xmlns=\"http://www.w3.org/2000/svg\" height=\"24px\"viewBox=\"0 0 24 24\"\n",
              "       width=\"24px\">\n",
              "    <path d=\"M0 0h24v24H0V0z\" fill=\"none\"/>\n",
              "    <path d=\"M18.56 5.44l.94 2.06.94-2.06 2.06-.94-2.06-.94-.94-2.06-.94 2.06-2.06.94zm-11 1L8.5 8.5l.94-2.06 2.06-.94-2.06-.94L8.5 2.5l-.94 2.06-2.06.94zm10 10l.94 2.06.94-2.06 2.06-.94-2.06-.94-.94-2.06-.94 2.06-2.06.94z\"/><path d=\"M17.41 7.96l-1.37-1.37c-.4-.4-.92-.59-1.43-.59-.52 0-1.04.2-1.43.59L10.3 9.45l-7.72 7.72c-.78.78-.78 2.05 0 2.83L4 21.41c.39.39.9.59 1.41.59.51 0 1.02-.2 1.41-.59l7.78-7.78 2.81-2.81c.8-.78.8-2.07 0-2.86zM5.41 20L4 18.59l7.72-7.72 1.47 1.35L5.41 20z\"/>\n",
              "  </svg>\n",
              "      </button>\n",
              "      \n",
              "  <style>\n",
              "    .colab-df-container {\n",
              "      display:flex;\n",
              "      flex-wrap:wrap;\n",
              "      gap: 12px;\n",
              "    }\n",
              "\n",
              "    .colab-df-convert {\n",
              "      background-color: #E8F0FE;\n",
              "      border: none;\n",
              "      border-radius: 50%;\n",
              "      cursor: pointer;\n",
              "      display: none;\n",
              "      fill: #1967D2;\n",
              "      height: 32px;\n",
              "      padding: 0 0 0 0;\n",
              "      width: 32px;\n",
              "    }\n",
              "\n",
              "    .colab-df-convert:hover {\n",
              "      background-color: #E2EBFA;\n",
              "      box-shadow: 0px 1px 2px rgba(60, 64, 67, 0.3), 0px 1px 3px 1px rgba(60, 64, 67, 0.15);\n",
              "      fill: #174EA6;\n",
              "    }\n",
              "\n",
              "    [theme=dark] .colab-df-convert {\n",
              "      background-color: #3B4455;\n",
              "      fill: #D2E3FC;\n",
              "    }\n",
              "\n",
              "    [theme=dark] .colab-df-convert:hover {\n",
              "      background-color: #434B5C;\n",
              "      box-shadow: 0px 1px 3px 1px rgba(0, 0, 0, 0.15);\n",
              "      filter: drop-shadow(0px 1px 2px rgba(0, 0, 0, 0.3));\n",
              "      fill: #FFFFFF;\n",
              "    }\n",
              "  </style>\n",
              "\n",
              "      <script>\n",
              "        const buttonEl =\n",
              "          document.querySelector('#df-f813df69-f204-446d-8e28-c80bb3c1e900 button.colab-df-convert');\n",
              "        buttonEl.style.display =\n",
              "          google.colab.kernel.accessAllowed ? 'block' : 'none';\n",
              "\n",
              "        async function convertToInteractive(key) {\n",
              "          const element = document.querySelector('#df-f813df69-f204-446d-8e28-c80bb3c1e900');\n",
              "          const dataTable =\n",
              "            await google.colab.kernel.invokeFunction('convertToInteractive',\n",
              "                                                     [key], {});\n",
              "          if (!dataTable) return;\n",
              "\n",
              "          const docLinkHtml = 'Like what you see? Visit the ' +\n",
              "            '<a target=\"_blank\" href=https://colab.research.google.com/notebooks/data_table.ipynb>data table notebook</a>'\n",
              "            + ' to learn more about interactive tables.';\n",
              "          element.innerHTML = '';\n",
              "          dataTable['output_type'] = 'display_data';\n",
              "          await google.colab.output.renderOutput(dataTable, element);\n",
              "          const docLink = document.createElement('div');\n",
              "          docLink.innerHTML = docLinkHtml;\n",
              "          element.appendChild(docLink);\n",
              "        }\n",
              "      </script>\n",
              "    </div>\n",
              "  </div>\n",
              "  "
            ]
          },
          "metadata": {},
          "execution_count": 68
        }
      ]
    },
    {
      "cell_type": "code",
      "source": [
        "plt.rcParams[\"figure.figsize\"] = [15, 5.50]\n",
        "plt.rcParams[\"figure.autolayout\"] = True\n",
        "fig = diff_df.plot(kind='line', title='Absolute Error')\n",
        "plt.show()"
      ],
      "metadata": {
        "colab": {
          "base_uri": "https://localhost:8080/",
          "height": 385
        },
        "id": "hJe6GQbOCx4e",
        "outputId": "f910dfac-ea65-4763-ca9d-863f830da531"
      },
      "execution_count": null,
      "outputs": [
        {
          "output_type": "display_data",
          "data": {
            "text/plain": [
              "<Figure size 1080x396 with 1 Axes>"
            ],
            "image/png": "[encoded data removed]"
          },
          "metadata": {
            "needs_background": "light"
          }
        }
      ]
    },
    {
      "cell_type": "code",
      "source": [
        "col='Prediction'\n",
        "full_df = pd.DataFrame({'Actual Close': df19['Actual Close'],\n",
        "                        f'{col} 1:9': df19[f'{col}19'], \n",
        "                        f'{col} 6:4': df64[f'{col}64'],\n",
        "                        f'{col} 7:3': df73[f'{col}73'],\n",
        "                        f'{col} 8:2': df82[f'{col}82'],\n",
        "                        f'{col} 9:1': df91[f'{col}91'],\n",
        "                        f'{col} 9:5': df95[f'{col}95']})\n",
        "full_df.fillna('-')"
      ],
      "metadata": {
        "id": "0btwZTV-CM-O",
        "colab": {
          "base_uri": "https://localhost:8080/",
          "height": 17
        },
        "outputId": "3a4287b9-2313-427f-c796-747a0a2fd767"
      },
      "execution_count": null,
      "outputs": [
        {
          "output_type": "execute_result",
          "data": {
            "text/plain": [
              "            Actual Close  Prediction 1:9 Prediction 6:4 Prediction 7:3  \\\n",
              "Date                                                                     \n",
              "2018-06-19        2264.0     2368.921389              -              -   \n",
              "2018-06-20        2261.0     2403.595543              -              -   \n",
              "2018-06-21        2254.0     2383.545268              -              -   \n",
              "2018-06-22        2283.0     2394.650338              -              -   \n",
              "2018-06-25        2295.0     2379.434902              -              -   \n",
              "...                  ...             ...            ...            ...   \n",
              "2022-06-24        4798.0     2448.749754    2566.953304    3546.612129   \n",
              "2022-06-27        5049.0     2448.749754    2519.427124      3285.6868   \n",
              "2022-06-28        5159.0     2448.749754    2521.699987    3290.257533   \n",
              "2022-06-29        5069.0     2448.749754    2560.937684    3565.171277   \n",
              "2022-06-30        5088.0     2448.749754    2535.171964    3480.676035   \n",
              "\n",
              "           Prediction 8:2 Prediction 9:1 Prediction 9:5  \n",
              "Date                                                     \n",
              "2018-06-19              -              -              -  \n",
              "2018-06-20              -              -              -  \n",
              "2018-06-21              -              -              -  \n",
              "2018-06-22              -              -              -  \n",
              "2018-06-25              -              -              -  \n",
              "...                   ...            ...            ...  \n",
              "2022-06-24     4052.96176    4457.777582    4597.657563  \n",
              "2022-06-27    4004.714905    4533.315965    4664.304378  \n",
              "2022-06-28    3894.070075    4111.233052    4670.733871  \n",
              "2022-06-29    4203.865753    4598.897456    4670.890434  \n",
              "2022-06-30    4277.160772    4649.942291    4767.246559  \n",
              "\n",
              "[934 rows x 7 columns]"
            ],
            "text/html": [
              "\n",
              "  <div id=\"df-3997b3e5-30de-4ad1-868c-93ec95d12576\">\n",
              "    <div class=\"colab-df-container\">\n",
              "      <div>\n",
              "<style scoped>\n",
              "    .dataframe tbody tr th:only-of-type {\n",
              "        vertical-align: middle;\n",
              "    }\n",
              "\n",
              "    .dataframe tbody tr th {\n",
              "        vertical-align: top;\n",
              "    }\n",
              "\n",
              "    .dataframe thead th {\n",
              "        text-align: right;\n",
              "    }\n",
              "</style>\n",
              "<table border=\"1\" class=\"dataframe\">\n",
              "  <thead>\n",
              "    <tr style=\"text-align: right;\">\n",
              "      <th></th>\n",
              "      <th>Actual Close</th>\n",
              "      <th>Prediction 1:9</th>\n",
              "      <th>Prediction 6:4</th>\n",
              "      <th>Prediction 7:3</th>\n",
              "      <th>Prediction 8:2</th>\n",
              "      <th>Prediction 9:1</th>\n",
              "      <th>Prediction 9:5</th>\n",
              "    </tr>\n",
              "    <tr>\n",
              "      <th>Date</th>\n",
              "      <th></th>\n",
              "      <th></th>\n",
              "      <th></th>\n",
              "      <th></th>\n",
              "      <th></th>\n",
              "      <th></th>\n",
              "      <th></th>\n",
              "    </tr>\n",
              "  </thead>\n",
              "  <tbody>\n",
              "    <tr>\n",
              "      <th>2018-06-19</th>\n",
              "      <td>2264.0</td>\n",
              "      <td>2368.921389</td>\n",
              "      <td>-</td>\n",
              "      <td>-</td>\n",
              "      <td>-</td>\n",
              "      <td>-</td>\n",
              "      <td>-</td>\n",
              "    </tr>\n",
              "    <tr>\n",
              "      <th>2018-06-20</th>\n",
              "      <td>2261.0</td>\n",
              "      <td>2403.595543</td>\n",
              "      <td>-</td>\n",
              "      <td>-</td>\n",
              "      <td>-</td>\n",
              "      <td>-</td>\n",
              "      <td>-</td>\n",
              "    </tr>\n",
              "    <tr>\n",
              "      <th>2018-06-21</th>\n",
              "      <td>2254.0</td>\n",
              "      <td>2383.545268</td>\n",
              "      <td>-</td>\n",
              "      <td>-</td>\n",
              "      <td>-</td>\n",
              "      <td>-</td>\n",
              "      <td>-</td>\n",
              "    </tr>\n",
              "    <tr>\n",
              "      <th>2018-06-22</th>\n",
              "      <td>2283.0</td>\n",
              "      <td>2394.650338</td>\n",
              "      <td>-</td>\n",
              "      <td>-</td>\n",
              "      <td>-</td>\n",
              "      <td>-</td>\n",
              "      <td>-</td>\n",
              "    </tr>\n",
              "    <tr>\n",
              "      <th>2018-06-25</th>\n",
              "      <td>2295.0</td>\n",
              "      <td>2379.434902</td>\n",
              "      <td>-</td>\n",
              "      <td>-</td>\n",
              "      <td>-</td>\n",
              "      <td>-</td>\n",
              "      <td>-</td>\n",
              "    </tr>\n",
              "    <tr>\n",
              "      <th>...</th>\n",
              "      <td>...</td>\n",
              "      <td>...</td>\n",
              "      <td>...</td>\n",
              "      <td>...</td>\n",
              "      <td>...</td>\n",
              "      <td>...</td>\n",
              "      <td>...</td>\n",
              "    </tr>\n",
              "    <tr>\n",
              "      <th>2022-06-24</th>\n",
              "      <td>4798.0</td>\n",
              "      <td>2448.749754</td>\n",
              "      <td>2566.953304</td>\n",
              "      <td>3546.612129</td>\n",
              "      <td>4052.96176</td>\n",
              "      <td>4457.777582</td>\n",
              "      <td>4597.657563</td>\n",
              "    </tr>\n",
              "    <tr>\n",
              "      <th>2022-06-27</th>\n",
              "      <td>5049.0</td>\n",
              "      <td>2448.749754</td>\n",
              "      <td>2519.427124</td>\n",
              "      <td>3285.6868</td>\n",
              "      <td>4004.714905</td>\n",
              "      <td>4533.315965</td>\n",
              "      <td>4664.304378</td>\n",
              "    </tr>\n",
              "    <tr>\n",
              "      <th>2022-06-28</th>\n",
              "      <td>5159.0</td>\n",
              "      <td>2448.749754</td>\n",
              "      <td>2521.699987</td>\n",
              "      <td>3290.257533</td>\n",
              "      <td>3894.070075</td>\n",
              "      <td>4111.233052</td>\n",
              "      <td>4670.733871</td>\n",
              "    </tr>\n",
              "    <tr>\n",
              "      <th>2022-06-29</th>\n",
              "      <td>5069.0</td>\n",
              "      <td>2448.749754</td>\n",
              "      <td>2560.937684</td>\n",
              "      <td>3565.171277</td>\n",
              "      <td>4203.865753</td>\n",
              "      <td>4598.897456</td>\n",
              "      <td>4670.890434</td>\n",
              "    </tr>\n",
              "    <tr>\n",
              "      <th>2022-06-30</th>\n",
              "      <td>5088.0</td>\n",
              "      <td>2448.749754</td>\n",
              "      <td>2535.171964</td>\n",
              "      <td>3480.676035</td>\n",
              "      <td>4277.160772</td>\n",
              "      <td>4649.942291</td>\n",
              "      <td>4767.246559</td>\n",
              "    </tr>\n",
              "  </tbody>\n",
              "</table>\n",
              "<p>934 rows × 7 columns</p>\n",
              "</div>\n",
              "      <button class=\"colab-df-convert\" onclick=\"convertToInteractive('df-3997b3e5-30de-4ad1-868c-93ec95d12576')\"\n",
              "              title=\"Convert this dataframe to an interactive table.\"\n",
              "              style=\"display:none;\">\n",
              "        \n",
              "  <svg xmlns=\"http://www.w3.org/2000/svg\" height=\"24px\"viewBox=\"0 0 24 24\"\n",
              "       width=\"24px\">\n",
              "    <path d=\"M0 0h24v24H0V0z\" fill=\"none\"/>\n",
              "    <path d=\"M18.56 5.44l.94 2.06.94-2.06 2.06-.94-2.06-.94-.94-2.06-.94 2.06-2.06.94zm-11 1L8.5 8.5l.94-2.06 2.06-.94-2.06-.94L8.5 2.5l-.94 2.06-2.06.94zm10 10l.94 2.06.94-2.06 2.06-.94-2.06-.94-.94-2.06-.94 2.06-2.06.94z\"/><path d=\"M17.41 7.96l-1.37-1.37c-.4-.4-.92-.59-1.43-.59-.52 0-1.04.2-1.43.59L10.3 9.45l-7.72 7.72c-.78.78-.78 2.05 0 2.83L4 21.41c.39.39.9.59 1.41.59.51 0 1.02-.2 1.41-.59l7.78-7.78 2.81-2.81c.8-.78.8-2.07 0-2.86zM5.41 20L4 18.59l7.72-7.72 1.47 1.35L5.41 20z\"/>\n",
              "  </svg>\n",
              "      </button>\n",
              "      \n",
              "  <style>\n",
              "    .colab-df-container {\n",
              "      display:flex;\n",
              "      flex-wrap:wrap;\n",
              "      gap: 12px;\n",
              "    }\n",
              "\n",
              "    .colab-df-convert {\n",
              "      background-color: #E8F0FE;\n",
              "      border: none;\n",
              "      border-radius: 50%;\n",
              "      cursor: pointer;\n",
              "      display: none;\n",
              "      fill: #1967D2;\n",
              "      height: 32px;\n",
              "      padding: 0 0 0 0;\n",
              "      width: 32px;\n",
              "    }\n",
              "\n",
              "    .colab-df-convert:hover {\n",
              "      background-color: #E2EBFA;\n",
              "      box-shadow: 0px 1px 2px rgba(60, 64, 67, 0.3), 0px 1px 3px 1px rgba(60, 64, 67, 0.15);\n",
              "      fill: #174EA6;\n",
              "    }\n",
              "\n",
              "    [theme=dark] .colab-df-convert {\n",
              "      background-color: #3B4455;\n",
              "      fill: #D2E3FC;\n",
              "    }\n",
              "\n",
              "    [theme=dark] .colab-df-convert:hover {\n",
              "      background-color: #434B5C;\n",
              "      box-shadow: 0px 1px 3px 1px rgba(0, 0, 0, 0.15);\n",
              "      filter: drop-shadow(0px 1px 2px rgba(0, 0, 0, 0.3));\n",
              "      fill: #FFFFFF;\n",
              "    }\n",
              "  </style>\n",
              "\n",
              "      <script>\n",
              "        const buttonEl =\n",
              "          document.querySelector('#df-3997b3e5-30de-4ad1-868c-93ec95d12576 button.colab-df-convert');\n",
              "        buttonEl.style.display =\n",
              "          google.colab.kernel.accessAllowed ? 'block' : 'none';\n",
              "\n",
              "        async function convertToInteractive(key) {\n",
              "          const element = document.querySelector('#df-3997b3e5-30de-4ad1-868c-93ec95d12576');\n",
              "          const dataTable =\n",
              "            await google.colab.kernel.invokeFunction('convertToInteractive',\n",
              "                                                     [key], {});\n",
              "          if (!dataTable) return;\n",
              "\n",
              "          const docLinkHtml = 'Like what you see? Visit the ' +\n",
              "            '<a target=\"_blank\" href=https://colab.research.google.com/notebooks/data_table.ipynb>data table notebook</a>'\n",
              "            + ' to learn more about interactive tables.';\n",
              "          element.innerHTML = '';\n",
              "          dataTable['output_type'] = 'display_data';\n",
              "          await google.colab.output.renderOutput(dataTable, element);\n",
              "          const docLink = document.createElement('div');\n",
              "          docLink.innerHTML = docLinkHtml;\n",
              "          element.appendChild(docLink);\n",
              "        }\n",
              "      </script>\n",
              "    </div>\n",
              "  </div>\n",
              "  "
            ]
          },
          "metadata": {},
          "execution_count": 79
        }
      ]
    },
    {
      "cell_type": "code",
      "source": [
        "# visualize the actual and predicted close price\n",
        "plt.figure(figsize=(20, 8))\n",
        "plt.plot(full_df['Actual Close'],label='Actual Close',color='steelblue')\n",
        "plt.plot(full_df['Prediction19'], label='SVR: 10% Training',color='darkcyan')\n",
        "# plt.plot(full_df['Prediction55'], label='SVR: 50% Training',color='maroon')\n",
        "plt.plot(full_df['Prediction64'], label='SVR: 60% Training',color='m')\n",
        "plt.plot(full_df['Prediction73'], label='SVR: 70% Training',color='g')\n",
        "plt.plot(full_df['Prediction82'], label='SVR: 80% Training',color='lime')\n",
        "plt.plot(full_df['Prediction91'], label='SVR: 90% Training',color='r')\n",
        "plt.plot(full_df['Prediction95'], label='SVR: 95% Training',color='darkorange')\n",
        "plt.title('SVR Prediction Performance in Difference Training Data Size', pad = 20)\n",
        "plt.ylabel('Price (MYR per tonne)', rotation = 90, labelpad = 30)\n",
        "plt.legend(loc=0)\n",
        "plt.show()"
      ],
      "metadata": {
        "colab": {
          "base_uri": "https://localhost:8080/",
          "height": 420
        },
        "id": "hs8mvm8FWxpu",
        "outputId": "4b604fdd-2fcd-45c1-c754-4ab6d733a0de"
      },
      "execution_count": null,
      "outputs": [
        {
          "output_type": "display_data",
          "data": {
            "text/plain": [
              "<Figure size 1440x576 with 1 Axes>"
            ],
            "image/png": "[encoded data removed]"
          },
          "metadata": {
            "needs_background": "light"
          }
        }
      ]
    }
  ],
  "metadata": {
    "accelerator": "TPU",
    "colab": {
      "provenance": [],
      "toc_visible": true,
      "include_colab_link": true
    },
    "gpuClass": "standard",
    "interpreter": {
      "hash": "8f2aafffe541dce4fbde971e590718b403cdb167c5dc463f7f3d3005ad40d44b"
    },
    "kernelspec": {
      "display_name": "Python 3.10.4 64-bit",
      "language": "python",
      "name": "python3"
    },
    "language_info": {
      "codemirror_mode": {
        "name": "ipython",
        "version": 3
      },
      "file_extension": ".py",
      "mimetype": "text/x-python",
      "name": "python",
      "nbconvert_exporter": "python",
      "pygments_lexer": "ipython3",
      "version": "3.10.4"
    }
  },
  "nbformat": 4,
  "nbformat_minor": 0
}